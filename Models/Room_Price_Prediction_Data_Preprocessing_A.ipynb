{
  "nbformat": 4,
  "nbformat_minor": 0,
  "metadata": {
    "colab": {
      "name": "Room_Price_Prediction_Data_Preprocessing_A.ipynb",
      "provenance": [],
      "collapsed_sections": [],
      "include_colab_link": true
    },
    "kernelspec": {
      "display_name": "Python 3",
      "language": "python",
      "name": "python3"
    },
    "language_info": {
      "codemirror_mode": {
        "name": "ipython",
        "version": 3
      },
      "file_extension": ".py",
      "mimetype": "text/x-python",
      "name": "python",
      "nbconvert_exporter": "python",
      "pygments_lexer": "ipython3",
      "version": "3.7.3"
    }
  },
  "cells": [
    {
      "cell_type": "markdown",
      "metadata": {
        "id": "view-in-github",
        "colab_type": "text"
      },
      "source": [
        "<a href=\"https://colab.research.google.com/github/Adizcool/Room_Price_Prediction/blob/main/Room_Price_Prediction_Data_Preprocessing_A.ipynb\" target=\"_parent\"><img src=\"https://colab.research.google.com/assets/colab-badge.svg\" alt=\"Open In Colab\"/></a>"
      ]
    },
    {
      "cell_type": "markdown",
      "metadata": {
        "id": "2GngkOcP4Pxi"
      },
      "source": [
        "**1) Install/ Import the required Python Packages/ Libraries**"
      ]
    },
    {
      "cell_type": "code",
      "metadata": {
        "id": "PJZqCSntal9U"
      },
      "source": [
        "#Import required python packages\n",
        "import pandas as pd\n",
        "import numpy as np\n",
        "import matplotlib.pyplot as plt\n",
        "import seaborn as sb\n",
        "from sklearn.metrics import mean_squared_error, r2_score\n",
        "import warnings\n",
        "warnings.filterwarnings(\"ignore\")\n",
        "from sklearn import preprocessing\n",
        "%matplotlib inline"
      ],
      "execution_count": null,
      "outputs": []
    },
    {
      "cell_type": "code",
      "metadata": {
        "colab": {
          "base_uri": "https://localhost:8080/"
        },
        "id": "e8R-PbpQWsL4",
        "outputId": "cff80689-e3ac-44b6-e52b-92a89cc6bd73"
      },
      "source": [
        "pip install category_encoders"
      ],
      "execution_count": null,
      "outputs": [
        {
          "output_type": "stream",
          "name": "stdout",
          "text": [
            "Collecting category_encoders\n",
            "  Downloading category_encoders-2.3.0-py2.py3-none-any.whl (82 kB)\n",
            "\u001b[?25l\r\u001b[K     |████                            | 10 kB 31.2 MB/s eta 0:00:01\r\u001b[K     |████████                        | 20 kB 31.4 MB/s eta 0:00:01\r\u001b[K     |████████████                    | 30 kB 36.0 MB/s eta 0:00:01\r\u001b[K     |████████████████                | 40 kB 40.4 MB/s eta 0:00:01\r\u001b[K     |████████████████████            | 51 kB 27.0 MB/s eta 0:00:01\r\u001b[K     |████████████████████████        | 61 kB 23.5 MB/s eta 0:00:01\r\u001b[K     |████████████████████████████    | 71 kB 23.5 MB/s eta 0:00:01\r\u001b[K     |███████████████████████████████▉| 81 kB 24.9 MB/s eta 0:00:01\r\u001b[K     |████████████████████████████████| 82 kB 498 kB/s \n",
            "\u001b[?25hRequirement already satisfied: scipy>=1.0.0 in /usr/local/lib/python3.7/dist-packages (from category_encoders) (1.4.1)\n",
            "Requirement already satisfied: statsmodels>=0.9.0 in /usr/local/lib/python3.7/dist-packages (from category_encoders) (0.10.2)\n",
            "Requirement already satisfied: scikit-learn>=0.20.0 in /usr/local/lib/python3.7/dist-packages (from category_encoders) (1.0.1)\n",
            "Requirement already satisfied: pandas>=0.21.1 in /usr/local/lib/python3.7/dist-packages (from category_encoders) (1.1.5)\n",
            "Requirement already satisfied: patsy>=0.5.1 in /usr/local/lib/python3.7/dist-packages (from category_encoders) (0.5.2)\n",
            "Requirement already satisfied: numpy>=1.14.0 in /usr/local/lib/python3.7/dist-packages (from category_encoders) (1.19.5)\n",
            "Requirement already satisfied: pytz>=2017.2 in /usr/local/lib/python3.7/dist-packages (from pandas>=0.21.1->category_encoders) (2018.9)\n",
            "Requirement already satisfied: python-dateutil>=2.7.3 in /usr/local/lib/python3.7/dist-packages (from pandas>=0.21.1->category_encoders) (2.8.2)\n",
            "Requirement already satisfied: six in /usr/local/lib/python3.7/dist-packages (from patsy>=0.5.1->category_encoders) (1.15.0)\n",
            "Requirement already satisfied: threadpoolctl>=2.0.0 in /usr/local/lib/python3.7/dist-packages (from scikit-learn>=0.20.0->category_encoders) (3.0.0)\n",
            "Requirement already satisfied: joblib>=0.11 in /usr/local/lib/python3.7/dist-packages (from scikit-learn>=0.20.0->category_encoders) (1.1.0)\n",
            "Installing collected packages: category-encoders\n",
            "Successfully installed category-encoders-2.3.0\n"
          ]
        }
      ]
    },
    {
      "cell_type": "markdown",
      "metadata": {
        "id": "AglVkOKL4WLi"
      },
      "source": [
        "**2) Mounting the Google Drive**"
      ]
    },
    {
      "cell_type": "code",
      "metadata": {
        "colab": {
          "base_uri": "https://localhost:8080/"
        },
        "id": "puBepcUNbuXJ",
        "outputId": "9977508e-c766-4e2b-cde6-8d00a37c6776"
      },
      "source": [
        "# Mount the Google Drive\n",
        "from google.colab import drive\n",
        "drive.mount('/content/gdrive')"
      ],
      "execution_count": null,
      "outputs": [
        {
          "output_type": "stream",
          "name": "stdout",
          "text": [
            "Mounted at /content/gdrive\n"
          ]
        }
      ]
    },
    {
      "cell_type": "markdown",
      "metadata": {
        "id": "Y3DiPDcD4eDR"
      },
      "source": [
        "**3) Read the Data file and check**"
      ]
    },
    {
      "cell_type": "code",
      "metadata": {
        "colab": {
          "base_uri": "https://localhost:8080/",
          "height": 223
        },
        "id": "aIhTjhU0al9e",
        "outputId": "3e751033-a06d-4817-f2e9-54e9dace765f"
      },
      "source": [
        "# Read the Diabetes Data from .csv file and check the data shape (number of Rows and Columns)\n",
        "df = pd.read_csv('gdrive/My Drive/Datasets/Room Price Prediction/Room_Price_Training_Data.csv')\n",
        "print(df.shape)\n",
        "df.head()"
      ],
      "execution_count": null,
      "outputs": [
        {
          "output_type": "stream",
          "name": "stdout",
          "text": [
            "(4201, 14)\n"
          ]
        },
        {
          "output_type": "execute_result",
          "data": {
            "text/html": [
              "<div>\n",
              "<style scoped>\n",
              "    .dataframe tbody tr th:only-of-type {\n",
              "        vertical-align: middle;\n",
              "    }\n",
              "\n",
              "    .dataframe tbody tr th {\n",
              "        vertical-align: top;\n",
              "    }\n",
              "\n",
              "    .dataframe thead th {\n",
              "        text-align: right;\n",
              "    }\n",
              "</style>\n",
              "<table border=\"1\" class=\"dataframe\">\n",
              "  <thead>\n",
              "    <tr style=\"text-align: right;\">\n",
              "      <th></th>\n",
              "      <th>ID</th>\n",
              "      <th>District</th>\n",
              "      <th>Neighborhood</th>\n",
              "      <th>PropertyType</th>\n",
              "      <th>CancellationPolicy</th>\n",
              "      <th>Accommodates</th>\n",
              "      <th>RoomType</th>\n",
              "      <th>Bathrooms</th>\n",
              "      <th>Bedrooms</th>\n",
              "      <th>CleaningFee</th>\n",
              "      <th>Latitude</th>\n",
              "      <th>Longitude</th>\n",
              "      <th>ReviewRating</th>\n",
              "      <th>Price</th>\n",
              "    </tr>\n",
              "  </thead>\n",
              "  <tbody>\n",
              "    <tr>\n",
              "      <th>0</th>\n",
              "      <td>5300082</td>\n",
              "      <td>Manhattan</td>\n",
              "      <td>East Village</td>\n",
              "      <td>Apartment</td>\n",
              "      <td>strict</td>\n",
              "      <td>2</td>\n",
              "      <td>Entire home/apt</td>\n",
              "      <td>1.0</td>\n",
              "      <td>0.0</td>\n",
              "      <td>75.000000</td>\n",
              "      <td>40.729555</td>\n",
              "      <td>-73.981665</td>\n",
              "      <td>86.0</td>\n",
              "      <td>160.0</td>\n",
              "    </tr>\n",
              "    <tr>\n",
              "      <th>1</th>\n",
              "      <td>17634206</td>\n",
              "      <td>Manhattan</td>\n",
              "      <td>Hell's Kitchen</td>\n",
              "      <td>Apartment</td>\n",
              "      <td>flexible</td>\n",
              "      <td>2</td>\n",
              "      <td>Entire home/apt</td>\n",
              "      <td>1.0</td>\n",
              "      <td>1.0</td>\n",
              "      <td>66.646525</td>\n",
              "      <td>40.766988</td>\n",
              "      <td>-73.984802</td>\n",
              "      <td>100.0</td>\n",
              "      <td>130.0</td>\n",
              "    </tr>\n",
              "    <tr>\n",
              "      <th>2</th>\n",
              "      <td>4025329</td>\n",
              "      <td>Manhattan</td>\n",
              "      <td>Harlem</td>\n",
              "      <td>Apartment</td>\n",
              "      <td>strict</td>\n",
              "      <td>4</td>\n",
              "      <td>Entire home/apt</td>\n",
              "      <td>1.0</td>\n",
              "      <td>0.0</td>\n",
              "      <td>69.000000</td>\n",
              "      <td>40.815859</td>\n",
              "      <td>-73.941165</td>\n",
              "      <td>91.0</td>\n",
              "      <td>129.0</td>\n",
              "    </tr>\n",
              "    <tr>\n",
              "      <th>3</th>\n",
              "      <td>10096773</td>\n",
              "      <td>Manhattan</td>\n",
              "      <td>Chelsea</td>\n",
              "      <td>Apartment</td>\n",
              "      <td>flexible</td>\n",
              "      <td>2</td>\n",
              "      <td>Entire home/apt</td>\n",
              "      <td>1.0</td>\n",
              "      <td>1.0</td>\n",
              "      <td>60.000000</td>\n",
              "      <td>40.745773</td>\n",
              "      <td>-74.000744</td>\n",
              "      <td>100.0</td>\n",
              "      <td>145.0</td>\n",
              "    </tr>\n",
              "    <tr>\n",
              "      <th>4</th>\n",
              "      <td>11616592</td>\n",
              "      <td>Manhattan</td>\n",
              "      <td>West Village</td>\n",
              "      <td>Apartment</td>\n",
              "      <td>strict</td>\n",
              "      <td>9</td>\n",
              "      <td>Entire home/apt</td>\n",
              "      <td>2.5</td>\n",
              "      <td>3.0</td>\n",
              "      <td>160.000000</td>\n",
              "      <td>40.737583</td>\n",
              "      <td>-74.005531</td>\n",
              "      <td>94.0</td>\n",
              "      <td>399.0</td>\n",
              "    </tr>\n",
              "  </tbody>\n",
              "</table>\n",
              "</div>"
            ],
            "text/plain": [
              "         ID   District    Neighborhood  ...  Longitude ReviewRating  Price\n",
              "0   5300082  Manhattan    East Village  ... -73.981665         86.0  160.0\n",
              "1  17634206  Manhattan  Hell's Kitchen  ... -73.984802        100.0  130.0\n",
              "2   4025329  Manhattan          Harlem  ... -73.941165         91.0  129.0\n",
              "3  10096773  Manhattan         Chelsea  ... -74.000744        100.0  145.0\n",
              "4  11616592  Manhattan    West Village  ... -74.005531         94.0  399.0\n",
              "\n",
              "[5 rows x 14 columns]"
            ]
          },
          "metadata": {},
          "execution_count": 4
        }
      ]
    },
    {
      "cell_type": "markdown",
      "metadata": {
        "id": "_VW8JrrA6iQe"
      },
      "source": [
        "##**I) Check and decide the ML Learning Type and sub-type as applicable**"
      ]
    },
    {
      "cell_type": "code",
      "metadata": {
        "colab": {
          "base_uri": "https://localhost:8080/"
        },
        "id": "uXs6Bq5U6otr",
        "outputId": "95ec1ac9-b7e5-44d6-91c6-f840aed7a11d"
      },
      "source": [
        "df.info()"
      ],
      "execution_count": null,
      "outputs": [
        {
          "output_type": "stream",
          "name": "stdout",
          "text": [
            "<class 'pandas.core.frame.DataFrame'>\n",
            "RangeIndex: 4201 entries, 0 to 4200\n",
            "Data columns (total 14 columns):\n",
            " #   Column              Non-Null Count  Dtype  \n",
            "---  ------              --------------  -----  \n",
            " 0   ID                  4201 non-null   int64  \n",
            " 1   District            4201 non-null   object \n",
            " 2   Neighborhood        4201 non-null   object \n",
            " 3   PropertyType        4201 non-null   object \n",
            " 4   CancellationPolicy  4201 non-null   object \n",
            " 5   Accommodates        4201 non-null   int64  \n",
            " 6   RoomType            4201 non-null   object \n",
            " 7   Bathrooms           4201 non-null   float64\n",
            " 8   Bedrooms            4201 non-null   float64\n",
            " 9   CleaningFee         4201 non-null   float64\n",
            " 10  Latitude            4201 non-null   float64\n",
            " 11  Longitude           4201 non-null   float64\n",
            " 12  ReviewRating        4201 non-null   float64\n",
            " 13  Price               4201 non-null   float64\n",
            "dtypes: float64(7), int64(2), object(5)\n",
            "memory usage: 459.6+ KB\n"
          ]
        }
      ]
    },
    {
      "cell_type": "code",
      "metadata": {
        "colab": {
          "base_uri": "https://localhost:8080/"
        },
        "id": "Z0lI8mws6-BZ",
        "outputId": "9a80a614-1a07-4b29-b7ec-18a674fb63ce"
      },
      "source": [
        "df.isnull().sum()"
      ],
      "execution_count": null,
      "outputs": [
        {
          "output_type": "execute_result",
          "data": {
            "text/plain": [
              "ID                    0\n",
              "District              0\n",
              "Neighborhood          0\n",
              "PropertyType          0\n",
              "CancellationPolicy    0\n",
              "Accommodates          0\n",
              "RoomType              0\n",
              "Bathrooms             0\n",
              "Bedrooms              0\n",
              "CleaningFee           0\n",
              "Latitude              0\n",
              "Longitude             0\n",
              "ReviewRating          0\n",
              "Price                 0\n",
              "dtype: int64"
            ]
          },
          "metadata": {},
          "execution_count": 6
        }
      ]
    },
    {
      "cell_type": "markdown",
      "metadata": {
        "id": "MUvQUVq47qN1"
      },
      "source": [
        "**Observations on the given Dataset:**\n",
        "* a) Number of Independet Variables: 12 (Identified)\n",
        "* b) Number of Dependent Variable : 1 (Price) (Identified)\n",
        "* c) There is no Missing Value in the Dependent Variable column \"Price\"\n"
      ]
    },
    {
      "cell_type": "markdown",
      "metadata": {
        "id": "yQaxmwGi79Er"
      },
      "source": [
        "**Conclusions:**\n",
        "###**a) The given dataset probably belongs to the\"Supervised Learning\" main-type**\n",
        "###**b) Since the Dependent variable values are varying integers in nature, the given dataset is of \"Regression\" sub-type.**"
      ]
    },
    {
      "cell_type": "markdown",
      "metadata": {
        "id": "YT5x2qSo8XI0"
      },
      "source": [
        "##**II) Check and remove the duplicate records, if any**"
      ]
    },
    {
      "cell_type": "code",
      "metadata": {
        "colab": {
          "base_uri": "https://localhost:8080/"
        },
        "id": "4MJSKFY2890-",
        "outputId": "70e88152-1b06-4528-967b-7abe07e7472e"
      },
      "source": [
        "df.shape"
      ],
      "execution_count": null,
      "outputs": [
        {
          "output_type": "execute_result",
          "data": {
            "text/plain": [
              "(4201, 14)"
            ]
          },
          "metadata": {},
          "execution_count": 7
        }
      ]
    },
    {
      "cell_type": "code",
      "metadata": {
        "colab": {
          "base_uri": "https://localhost:8080/"
        },
        "id": "pNbb9lB38yu7",
        "outputId": "669119ea-fa37-4039-b784-fdd37d4be97f"
      },
      "source": [
        "# Returns True for every row that is a duplicate, othwerwise False:\n",
        "print(df.duplicated())"
      ],
      "execution_count": null,
      "outputs": [
        {
          "output_type": "stream",
          "name": "stdout",
          "text": [
            "0       False\n",
            "1       False\n",
            "2       False\n",
            "3       False\n",
            "4       False\n",
            "        ...  \n",
            "4196    False\n",
            "4197    False\n",
            "4198    False\n",
            "4199    False\n",
            "4200    False\n",
            "Length: 4201, dtype: bool\n"
          ]
        }
      ]
    },
    {
      "cell_type": "code",
      "metadata": {
        "id": "Nt36o5TU87ip"
      },
      "source": [
        "# Remove all duplicates:\n",
        "df.drop_duplicates(inplace = True)"
      ],
      "execution_count": null,
      "outputs": []
    },
    {
      "cell_type": "code",
      "metadata": {
        "colab": {
          "base_uri": "https://localhost:8080/"
        },
        "id": "ABx2aDc09BE0",
        "outputId": "a1c5fa80-c85a-42ae-9918-92974d063bf2"
      },
      "source": [
        "df.shape"
      ],
      "execution_count": null,
      "outputs": [
        {
          "output_type": "execute_result",
          "data": {
            "text/plain": [
              "(4201, 14)"
            ]
          },
          "metadata": {},
          "execution_count": 10
        }
      ]
    },
    {
      "cell_type": "markdown",
      "metadata": {
        "id": "ezru5FzY9D9j"
      },
      "source": [
        "###**Conclusion: No Duplicate Records**"
      ]
    },
    {
      "cell_type": "markdown",
      "metadata": {
        "id": "Ash1lDZt-A2p"
      },
      "source": [
        "##**IV) Check for Missing Values and handle them as required**"
      ]
    },
    {
      "cell_type": "markdown",
      "metadata": {
        "id": "-DgLujtcR7bc"
      },
      "source": [
        "###**No Missing Values**"
      ]
    },
    {
      "cell_type": "markdown",
      "metadata": {
        "id": "sUZeW1TFALBH"
      },
      "source": [
        "##**V) Check for necessity of creating new column(s) and create the columns as required**"
      ]
    },
    {
      "cell_type": "markdown",
      "metadata": {
        "id": "dgnaS9mIARt0"
      },
      "source": [
        "###**Decision: As of now, there is no necessity to create new column(s).**"
      ]
    },
    {
      "cell_type": "markdown",
      "metadata": {
        "id": "H_OB1b4x-rJD"
      },
      "source": [
        "##**VI) Check the unique Values of each column and observe the following and take actions as required:**\n",
        "* **a) Wrong Data in the columns, if any** \n",
        "* **b) Wrong format of the data in the columns, if any**\n",
        "* **c) Identify the columns which need to be categorically converted to numeric values by using Nominal method/ Ordinal Method**\n"
      ]
    },
    {
      "cell_type": "markdown",
      "metadata": {
        "id": "kWQ7O73EBPm2"
      },
      "source": [
        "###**Column-0: ID**"
      ]
    },
    {
      "cell_type": "code",
      "metadata": {
        "colab": {
          "base_uri": "https://localhost:8080/"
        },
        "id": "lDZ30PWa_OiD",
        "outputId": "f088077e-00c5-4aa9-b299-71871e4d29cd"
      },
      "source": [
        "df['ID'].value_counts()"
      ],
      "execution_count": null,
      "outputs": [
        {
          "output_type": "execute_result",
          "data": {
            "text/plain": [
              "4859903     1\n",
              "15454628    1\n",
              "15635167    1\n",
              "842462      1\n",
              "2007773     1\n",
              "           ..\n",
              "15602234    1\n",
              "7064935     1\n",
              "7411044     1\n",
              "10612067    1\n",
              "15720448    1\n",
              "Name: ID, Length: 4201, dtype: int64"
            ]
          },
          "metadata": {},
          "execution_count": 11
        }
      ]
    },
    {
      "cell_type": "markdown",
      "metadata": {
        "id": "L16XC3std8S9"
      },
      "source": [
        "**Observations:**\n",
        "* a) Data in this column will not be contributing to the prediction of the Depenedent variable\n",
        "\n",
        "**Decsion:**\n",
        "\n",
        "**We will be dropping this column**"
      ]
    },
    {
      "cell_type": "code",
      "metadata": {
        "colab": {
          "base_uri": "https://localhost:8080/"
        },
        "id": "I2eDxG1CeArt",
        "outputId": "b48d97fd-e33e-4cd2-b204-1153494f24f2"
      },
      "source": [
        "df.drop(['ID'], axis = 1, inplace = True)\n",
        "df.info()"
      ],
      "execution_count": null,
      "outputs": [
        {
          "output_type": "stream",
          "name": "stdout",
          "text": [
            "<class 'pandas.core.frame.DataFrame'>\n",
            "Int64Index: 4201 entries, 0 to 4200\n",
            "Data columns (total 13 columns):\n",
            " #   Column              Non-Null Count  Dtype  \n",
            "---  ------              --------------  -----  \n",
            " 0   District            4201 non-null   object \n",
            " 1   Neighborhood        4201 non-null   object \n",
            " 2   PropertyType        4201 non-null   object \n",
            " 3   CancellationPolicy  4201 non-null   object \n",
            " 4   Accommodates        4201 non-null   int64  \n",
            " 5   RoomType            4201 non-null   object \n",
            " 6   Bathrooms           4201 non-null   float64\n",
            " 7   Bedrooms            4201 non-null   float64\n",
            " 8   CleaningFee         4201 non-null   float64\n",
            " 9   Latitude            4201 non-null   float64\n",
            " 10  Longitude           4201 non-null   float64\n",
            " 11  ReviewRating        4201 non-null   float64\n",
            " 12  Price               4201 non-null   float64\n",
            "dtypes: float64(7), int64(1), object(5)\n",
            "memory usage: 459.5+ KB\n"
          ]
        }
      ]
    },
    {
      "cell_type": "markdown",
      "metadata": {
        "id": "9eYY-SVDBaFp"
      },
      "source": [
        "###**Column-1: District**"
      ]
    },
    {
      "cell_type": "code",
      "metadata": {
        "colab": {
          "base_uri": "https://localhost:8080/"
        },
        "id": "v5DcYaUE924x",
        "outputId": "6ac49df6-325b-4221-8d01-f8b0cd682b3b"
      },
      "source": [
        "df['District'].value_counts()"
      ],
      "execution_count": null,
      "outputs": [
        {
          "output_type": "execute_result",
          "data": {
            "text/plain": [
              "Manhattan    4116\n",
              "Brooklyn       50\n",
              "Queens         33\n",
              "Bronx           2\n",
              "Name: District, dtype: int64"
            ]
          },
          "metadata": {},
          "execution_count": 13
        }
      ]
    },
    {
      "cell_type": "markdown",
      "metadata": {
        "id": "4kpE3XvkUuIc"
      },
      "source": [
        "**Observations:**\n",
        "* a) Data in this column is of \"Object\" or \"String\" datatype. Also, the data levels are \"Nominal\" Type.\n",
        "\n",
        "**Decsion:**\n",
        "\n",
        "**We will be converting the data in this column into Numerical values using Nominal Type method \"pd.get_dummies\".**"
      ]
    },
    {
      "cell_type": "markdown",
      "metadata": {
        "id": "vIbSz9HtgQxr"
      },
      "source": [
        "**Action:**"
      ]
    },
    {
      "cell_type": "code",
      "metadata": {
        "colab": {
          "base_uri": "https://localhost:8080/",
          "height": 423
        },
        "id": "DS7y7AoUgO2I",
        "outputId": "6287d07b-cd71-43ab-b9ba-b8455469b00e"
      },
      "source": [
        "dist = pd.DataFrame(df['District'])\n",
        "dist_encoded = pd.get_dummies(data = dist, drop_first= True)\n",
        "dist_encoded"
      ],
      "execution_count": null,
      "outputs": [
        {
          "output_type": "execute_result",
          "data": {
            "text/html": [
              "<div>\n",
              "<style scoped>\n",
              "    .dataframe tbody tr th:only-of-type {\n",
              "        vertical-align: middle;\n",
              "    }\n",
              "\n",
              "    .dataframe tbody tr th {\n",
              "        vertical-align: top;\n",
              "    }\n",
              "\n",
              "    .dataframe thead th {\n",
              "        text-align: right;\n",
              "    }\n",
              "</style>\n",
              "<table border=\"1\" class=\"dataframe\">\n",
              "  <thead>\n",
              "    <tr style=\"text-align: right;\">\n",
              "      <th></th>\n",
              "      <th>District_Brooklyn</th>\n",
              "      <th>District_Manhattan</th>\n",
              "      <th>District_Queens</th>\n",
              "    </tr>\n",
              "  </thead>\n",
              "  <tbody>\n",
              "    <tr>\n",
              "      <th>0</th>\n",
              "      <td>0</td>\n",
              "      <td>1</td>\n",
              "      <td>0</td>\n",
              "    </tr>\n",
              "    <tr>\n",
              "      <th>1</th>\n",
              "      <td>0</td>\n",
              "      <td>1</td>\n",
              "      <td>0</td>\n",
              "    </tr>\n",
              "    <tr>\n",
              "      <th>2</th>\n",
              "      <td>0</td>\n",
              "      <td>1</td>\n",
              "      <td>0</td>\n",
              "    </tr>\n",
              "    <tr>\n",
              "      <th>3</th>\n",
              "      <td>0</td>\n",
              "      <td>1</td>\n",
              "      <td>0</td>\n",
              "    </tr>\n",
              "    <tr>\n",
              "      <th>4</th>\n",
              "      <td>0</td>\n",
              "      <td>1</td>\n",
              "      <td>0</td>\n",
              "    </tr>\n",
              "    <tr>\n",
              "      <th>...</th>\n",
              "      <td>...</td>\n",
              "      <td>...</td>\n",
              "      <td>...</td>\n",
              "    </tr>\n",
              "    <tr>\n",
              "      <th>4196</th>\n",
              "      <td>0</td>\n",
              "      <td>1</td>\n",
              "      <td>0</td>\n",
              "    </tr>\n",
              "    <tr>\n",
              "      <th>4197</th>\n",
              "      <td>0</td>\n",
              "      <td>1</td>\n",
              "      <td>0</td>\n",
              "    </tr>\n",
              "    <tr>\n",
              "      <th>4198</th>\n",
              "      <td>0</td>\n",
              "      <td>1</td>\n",
              "      <td>0</td>\n",
              "    </tr>\n",
              "    <tr>\n",
              "      <th>4199</th>\n",
              "      <td>0</td>\n",
              "      <td>1</td>\n",
              "      <td>0</td>\n",
              "    </tr>\n",
              "    <tr>\n",
              "      <th>4200</th>\n",
              "      <td>0</td>\n",
              "      <td>1</td>\n",
              "      <td>0</td>\n",
              "    </tr>\n",
              "  </tbody>\n",
              "</table>\n",
              "<p>4201 rows × 3 columns</p>\n",
              "</div>"
            ],
            "text/plain": [
              "      District_Brooklyn  District_Manhattan  District_Queens\n",
              "0                     0                   1                0\n",
              "1                     0                   1                0\n",
              "2                     0                   1                0\n",
              "3                     0                   1                0\n",
              "4                     0                   1                0\n",
              "...                 ...                 ...              ...\n",
              "4196                  0                   1                0\n",
              "4197                  0                   1                0\n",
              "4198                  0                   1                0\n",
              "4199                  0                   1                0\n",
              "4200                  0                   1                0\n",
              "\n",
              "[4201 rows x 3 columns]"
            ]
          },
          "metadata": {},
          "execution_count": 14
        }
      ]
    },
    {
      "cell_type": "markdown",
      "metadata": {
        "id": "D8uO5iE6Be0e"
      },
      "source": [
        "###**Column-2: Neighborhood**"
      ]
    },
    {
      "cell_type": "code",
      "metadata": {
        "colab": {
          "base_uri": "https://localhost:8080/"
        },
        "id": "6nu0eaAWA5Uq",
        "outputId": "0582d91b-26bd-4e05-8267-2649cd8091ae"
      },
      "source": [
        "df['Neighborhood'].value_counts()"
      ],
      "execution_count": null,
      "outputs": [
        {
          "output_type": "execute_result",
          "data": {
            "text/plain": [
              "Harlem              549\n",
              "East Village        411\n",
              "Hell's Kitchen      365\n",
              "Upper West Side     365\n",
              "Upper East Side     343\n",
              "                   ... \n",
              "Vinegar Hill          1\n",
              "Midwood               1\n",
              "Prospect Heights      1\n",
              "Borough Park          1\n",
              "Highbridge            1\n",
              "Name: Neighborhood, Length: 63, dtype: int64"
            ]
          },
          "metadata": {},
          "execution_count": 15
        }
      ]
    },
    {
      "cell_type": "markdown",
      "metadata": {
        "id": "4ztpASBPhtTw"
      },
      "source": [
        "**Observations:**\n",
        "* a) Data in this column is of \"Object\" or \"String\" datatype. Also, the data levels are \"Nominal\" Type.\n",
        "\n",
        "**Decsion:**\n",
        "\n",
        "**We will be converting the data in this column into Numerical values using Nominal Type method \"Binary Encoding\" for minimum number of colunms**"
      ]
    },
    {
      "cell_type": "code",
      "metadata": {
        "id": "5xVuL9QsiJ8h"
      },
      "source": [
        "#create object for binary encoding\n",
        "import category_encoders as ce\n",
        "encoder2 = ce.BinaryEncoder(cols = ['Neighborhood'], return_df = True)"
      ],
      "execution_count": null,
      "outputs": []
    },
    {
      "cell_type": "code",
      "metadata": {
        "colab": {
          "base_uri": "https://localhost:8080/",
          "height": 423
        },
        "id": "Bjphb6Wai-5y",
        "outputId": "7daaf474-5c2a-4cb5-ae42-185dc380c1a8"
      },
      "source": [
        "#fit and transform data\n",
        "neighborhood_encoded = encoder2.fit_transform(df['Neighborhood'])\n",
        "neighborhood_encoded"
      ],
      "execution_count": null,
      "outputs": [
        {
          "output_type": "execute_result",
          "data": {
            "text/html": [
              "<div>\n",
              "<style scoped>\n",
              "    .dataframe tbody tr th:only-of-type {\n",
              "        vertical-align: middle;\n",
              "    }\n",
              "\n",
              "    .dataframe tbody tr th {\n",
              "        vertical-align: top;\n",
              "    }\n",
              "\n",
              "    .dataframe thead th {\n",
              "        text-align: right;\n",
              "    }\n",
              "</style>\n",
              "<table border=\"1\" class=\"dataframe\">\n",
              "  <thead>\n",
              "    <tr style=\"text-align: right;\">\n",
              "      <th></th>\n",
              "      <th>Neighborhood_0</th>\n",
              "      <th>Neighborhood_1</th>\n",
              "      <th>Neighborhood_2</th>\n",
              "      <th>Neighborhood_3</th>\n",
              "      <th>Neighborhood_4</th>\n",
              "      <th>Neighborhood_5</th>\n",
              "    </tr>\n",
              "  </thead>\n",
              "  <tbody>\n",
              "    <tr>\n",
              "      <th>0</th>\n",
              "      <td>0</td>\n",
              "      <td>0</td>\n",
              "      <td>0</td>\n",
              "      <td>0</td>\n",
              "      <td>0</td>\n",
              "      <td>1</td>\n",
              "    </tr>\n",
              "    <tr>\n",
              "      <th>1</th>\n",
              "      <td>0</td>\n",
              "      <td>0</td>\n",
              "      <td>0</td>\n",
              "      <td>0</td>\n",
              "      <td>1</td>\n",
              "      <td>0</td>\n",
              "    </tr>\n",
              "    <tr>\n",
              "      <th>2</th>\n",
              "      <td>0</td>\n",
              "      <td>0</td>\n",
              "      <td>0</td>\n",
              "      <td>0</td>\n",
              "      <td>1</td>\n",
              "      <td>1</td>\n",
              "    </tr>\n",
              "    <tr>\n",
              "      <th>3</th>\n",
              "      <td>0</td>\n",
              "      <td>0</td>\n",
              "      <td>0</td>\n",
              "      <td>1</td>\n",
              "      <td>0</td>\n",
              "      <td>0</td>\n",
              "    </tr>\n",
              "    <tr>\n",
              "      <th>4</th>\n",
              "      <td>0</td>\n",
              "      <td>0</td>\n",
              "      <td>0</td>\n",
              "      <td>1</td>\n",
              "      <td>0</td>\n",
              "      <td>1</td>\n",
              "    </tr>\n",
              "    <tr>\n",
              "      <th>...</th>\n",
              "      <td>...</td>\n",
              "      <td>...</td>\n",
              "      <td>...</td>\n",
              "      <td>...</td>\n",
              "      <td>...</td>\n",
              "      <td>...</td>\n",
              "    </tr>\n",
              "    <tr>\n",
              "      <th>4196</th>\n",
              "      <td>0</td>\n",
              "      <td>0</td>\n",
              "      <td>1</td>\n",
              "      <td>0</td>\n",
              "      <td>1</td>\n",
              "      <td>1</td>\n",
              "    </tr>\n",
              "    <tr>\n",
              "      <th>4197</th>\n",
              "      <td>0</td>\n",
              "      <td>0</td>\n",
              "      <td>0</td>\n",
              "      <td>0</td>\n",
              "      <td>0</td>\n",
              "      <td>1</td>\n",
              "    </tr>\n",
              "    <tr>\n",
              "      <th>4198</th>\n",
              "      <td>0</td>\n",
              "      <td>0</td>\n",
              "      <td>1</td>\n",
              "      <td>1</td>\n",
              "      <td>1</td>\n",
              "      <td>1</td>\n",
              "    </tr>\n",
              "    <tr>\n",
              "      <th>4199</th>\n",
              "      <td>0</td>\n",
              "      <td>1</td>\n",
              "      <td>0</td>\n",
              "      <td>1</td>\n",
              "      <td>0</td>\n",
              "      <td>0</td>\n",
              "    </tr>\n",
              "    <tr>\n",
              "      <th>4200</th>\n",
              "      <td>0</td>\n",
              "      <td>1</td>\n",
              "      <td>0</td>\n",
              "      <td>0</td>\n",
              "      <td>1</td>\n",
              "      <td>1</td>\n",
              "    </tr>\n",
              "  </tbody>\n",
              "</table>\n",
              "<p>4201 rows × 6 columns</p>\n",
              "</div>"
            ],
            "text/plain": [
              "      Neighborhood_0  Neighborhood_1  ...  Neighborhood_4  Neighborhood_5\n",
              "0                  0               0  ...               0               1\n",
              "1                  0               0  ...               1               0\n",
              "2                  0               0  ...               1               1\n",
              "3                  0               0  ...               0               0\n",
              "4                  0               0  ...               0               1\n",
              "...              ...             ...  ...             ...             ...\n",
              "4196               0               0  ...               1               1\n",
              "4197               0               0  ...               0               1\n",
              "4198               0               0  ...               1               1\n",
              "4199               0               1  ...               0               0\n",
              "4200               0               1  ...               1               1\n",
              "\n",
              "[4201 rows x 6 columns]"
            ]
          },
          "metadata": {},
          "execution_count": 17
        }
      ]
    },
    {
      "cell_type": "markdown",
      "metadata": {
        "id": "jYoEuHC5BsP0"
      },
      "source": [
        "###**Column-3: Property Type**"
      ]
    },
    {
      "cell_type": "code",
      "metadata": {
        "colab": {
          "base_uri": "https://localhost:8080/"
        },
        "id": "msTlf88rB8tf",
        "outputId": "528df223-a94f-498c-b9fc-e028b95eeb83"
      },
      "source": [
        "df['PropertyType'].value_counts()"
      ],
      "execution_count": null,
      "outputs": [
        {
          "output_type": "execute_result",
          "data": {
            "text/plain": [
              "Apartment          3966\n",
              "House                59\n",
              "Loft                 48\n",
              "Condominium          42\n",
              "Townhouse            37\n",
              "Other                25\n",
              "Bed & Breakfast       9\n",
              "Timeshare             7\n",
              "Hut                   1\n",
              "Lighthouse            1\n",
              "Hostel                1\n",
              "Vacation home         1\n",
              "Villa                 1\n",
              "Dorm                  1\n",
              "Guesthouse            1\n",
              "Boutique hotel        1\n",
              "Name: PropertyType, dtype: int64"
            ]
          },
          "metadata": {},
          "execution_count": 18
        }
      ]
    },
    {
      "cell_type": "markdown",
      "metadata": {
        "id": "VaxYUUu5jt5w"
      },
      "source": [
        "**Observations:**\n",
        "* a) Data in this column is of \"Object\" or \"String\" datatype. Also, the data levels are \"Nominal\" Type.\n",
        "\n",
        "**Decsion:**\n",
        "\n",
        "**We will be converting the data in this column into Numerical values using Nominal Type method \"Binary Encoding\" for minimum number of colunms**"
      ]
    },
    {
      "cell_type": "code",
      "metadata": {
        "id": "GY_5LCOtj0X2"
      },
      "source": [
        "#create object for binary encoding\n",
        "import category_encoders as ce\n",
        "encoder2 = ce.BinaryEncoder(cols = ['PropertyType'], return_df = True)"
      ],
      "execution_count": null,
      "outputs": []
    },
    {
      "cell_type": "code",
      "metadata": {
        "colab": {
          "base_uri": "https://localhost:8080/",
          "height": 423
        },
        "id": "l0gbdT6bj2-N",
        "outputId": "e39c663c-b683-4377-8da4-78c9160dbb32"
      },
      "source": [
        "#fit and transform data\n",
        "propertytype_encoded = encoder2.fit_transform(df['PropertyType'])\n",
        "propertytype_encoded"
      ],
      "execution_count": null,
      "outputs": [
        {
          "output_type": "execute_result",
          "data": {
            "text/html": [
              "<div>\n",
              "<style scoped>\n",
              "    .dataframe tbody tr th:only-of-type {\n",
              "        vertical-align: middle;\n",
              "    }\n",
              "\n",
              "    .dataframe tbody tr th {\n",
              "        vertical-align: top;\n",
              "    }\n",
              "\n",
              "    .dataframe thead th {\n",
              "        text-align: right;\n",
              "    }\n",
              "</style>\n",
              "<table border=\"1\" class=\"dataframe\">\n",
              "  <thead>\n",
              "    <tr style=\"text-align: right;\">\n",
              "      <th></th>\n",
              "      <th>PropertyType_0</th>\n",
              "      <th>PropertyType_1</th>\n",
              "      <th>PropertyType_2</th>\n",
              "      <th>PropertyType_3</th>\n",
              "      <th>PropertyType_4</th>\n",
              "    </tr>\n",
              "  </thead>\n",
              "  <tbody>\n",
              "    <tr>\n",
              "      <th>0</th>\n",
              "      <td>0</td>\n",
              "      <td>0</td>\n",
              "      <td>0</td>\n",
              "      <td>0</td>\n",
              "      <td>1</td>\n",
              "    </tr>\n",
              "    <tr>\n",
              "      <th>1</th>\n",
              "      <td>0</td>\n",
              "      <td>0</td>\n",
              "      <td>0</td>\n",
              "      <td>0</td>\n",
              "      <td>1</td>\n",
              "    </tr>\n",
              "    <tr>\n",
              "      <th>2</th>\n",
              "      <td>0</td>\n",
              "      <td>0</td>\n",
              "      <td>0</td>\n",
              "      <td>0</td>\n",
              "      <td>1</td>\n",
              "    </tr>\n",
              "    <tr>\n",
              "      <th>3</th>\n",
              "      <td>0</td>\n",
              "      <td>0</td>\n",
              "      <td>0</td>\n",
              "      <td>0</td>\n",
              "      <td>1</td>\n",
              "    </tr>\n",
              "    <tr>\n",
              "      <th>4</th>\n",
              "      <td>0</td>\n",
              "      <td>0</td>\n",
              "      <td>0</td>\n",
              "      <td>0</td>\n",
              "      <td>1</td>\n",
              "    </tr>\n",
              "    <tr>\n",
              "      <th>...</th>\n",
              "      <td>...</td>\n",
              "      <td>...</td>\n",
              "      <td>...</td>\n",
              "      <td>...</td>\n",
              "      <td>...</td>\n",
              "    </tr>\n",
              "    <tr>\n",
              "      <th>4196</th>\n",
              "      <td>0</td>\n",
              "      <td>0</td>\n",
              "      <td>0</td>\n",
              "      <td>0</td>\n",
              "      <td>1</td>\n",
              "    </tr>\n",
              "    <tr>\n",
              "      <th>4197</th>\n",
              "      <td>0</td>\n",
              "      <td>0</td>\n",
              "      <td>0</td>\n",
              "      <td>0</td>\n",
              "      <td>1</td>\n",
              "    </tr>\n",
              "    <tr>\n",
              "      <th>4198</th>\n",
              "      <td>0</td>\n",
              "      <td>0</td>\n",
              "      <td>0</td>\n",
              "      <td>0</td>\n",
              "      <td>1</td>\n",
              "    </tr>\n",
              "    <tr>\n",
              "      <th>4199</th>\n",
              "      <td>0</td>\n",
              "      <td>0</td>\n",
              "      <td>0</td>\n",
              "      <td>0</td>\n",
              "      <td>1</td>\n",
              "    </tr>\n",
              "    <tr>\n",
              "      <th>4200</th>\n",
              "      <td>0</td>\n",
              "      <td>0</td>\n",
              "      <td>0</td>\n",
              "      <td>0</td>\n",
              "      <td>1</td>\n",
              "    </tr>\n",
              "  </tbody>\n",
              "</table>\n",
              "<p>4201 rows × 5 columns</p>\n",
              "</div>"
            ],
            "text/plain": [
              "      PropertyType_0  PropertyType_1  ...  PropertyType_3  PropertyType_4\n",
              "0                  0               0  ...               0               1\n",
              "1                  0               0  ...               0               1\n",
              "2                  0               0  ...               0               1\n",
              "3                  0               0  ...               0               1\n",
              "4                  0               0  ...               0               1\n",
              "...              ...             ...  ...             ...             ...\n",
              "4196               0               0  ...               0               1\n",
              "4197               0               0  ...               0               1\n",
              "4198               0               0  ...               0               1\n",
              "4199               0               0  ...               0               1\n",
              "4200               0               0  ...               0               1\n",
              "\n",
              "[4201 rows x 5 columns]"
            ]
          },
          "metadata": {},
          "execution_count": 20
        }
      ]
    },
    {
      "cell_type": "markdown",
      "metadata": {
        "id": "yvLZHH_p_5cT"
      },
      "source": [
        "###**Column-4: Cancellation Policy**"
      ]
    },
    {
      "cell_type": "code",
      "metadata": {
        "colab": {
          "base_uri": "https://localhost:8080/"
        },
        "id": "CJKKiWK7AMm3",
        "outputId": "8c61d9f7-21c1-4876-eecc-ca3d206e3d3c"
      },
      "source": [
        "df['CancellationPolicy'].value_counts()"
      ],
      "execution_count": null,
      "outputs": [
        {
          "output_type": "execute_result",
          "data": {
            "text/plain": [
              "strict      2277\n",
              "moderate     993\n",
              "flexible     931\n",
              "Name: CancellationPolicy, dtype: int64"
            ]
          },
          "metadata": {},
          "execution_count": 21
        }
      ]
    },
    {
      "cell_type": "markdown",
      "metadata": {
        "id": "gzfco4DBkYDD"
      },
      "source": [
        "**Observations:**\n",
        "* a) Data in this column is of \"Object\" or \"String\" datatype. Also, the data levels are \"Ordinal\" Type.\n",
        "\n",
        "**Decsion:**\n",
        "\n",
        "**We will be converting the data in this column into Numerical values using Ordnial Type method \"preprocessing.LabelEncoder()**"
      ]
    },
    {
      "cell_type": "code",
      "metadata": {
        "colab": {
          "base_uri": "https://localhost:8080/"
        },
        "id": "2dEG97QMkZhy",
        "outputId": "5d08b6c7-310d-4ce5-e8d8-70e2c986026c"
      },
      "source": [
        "le = preprocessing.LabelEncoder()\n",
        "df['CancellationPolicy'] = le.fit_transform(df.CancellationPolicy.values)\n",
        "df['CancellationPolicy'].value_counts()"
      ],
      "execution_count": null,
      "outputs": [
        {
          "output_type": "execute_result",
          "data": {
            "text/plain": [
              "2    2277\n",
              "1     993\n",
              "0     931\n",
              "Name: CancellationPolicy, dtype: int64"
            ]
          },
          "metadata": {},
          "execution_count": 22
        }
      ]
    },
    {
      "cell_type": "markdown",
      "metadata": {
        "id": "mRN2944WBSlB"
      },
      "source": [
        "###**Column-5: Accommodates**"
      ]
    },
    {
      "cell_type": "code",
      "metadata": {
        "colab": {
          "base_uri": "https://localhost:8080/"
        },
        "id": "CaHcDnSxBZhk",
        "outputId": "d6674a58-000a-456a-aa46-ff4748344d4c"
      },
      "source": [
        "df['Accommodates'].value_counts()"
      ],
      "execution_count": null,
      "outputs": [
        {
          "output_type": "execute_result",
          "data": {
            "text/plain": [
              "2     2034\n",
              "4      658\n",
              "3      520\n",
              "1      487\n",
              "6      217\n",
              "5      161\n",
              "8       59\n",
              "7       41\n",
              "10      14\n",
              "9        4\n",
              "12       3\n",
              "14       2\n",
              "16       1\n",
              "Name: Accommodates, dtype: int64"
            ]
          },
          "metadata": {},
          "execution_count": 23
        }
      ]
    },
    {
      "cell_type": "markdown",
      "metadata": {
        "id": "zN1jU5Qolcdb"
      },
      "source": [
        "**Observations:**\n",
        "* a) Data in this column is of \"int\" datatype. Also, there seems to be no wrong data or wrong data format.\n",
        "\n",
        "**Decsion:**\n",
        "\n",
        "**Let us leave the column as it is.**"
      ]
    },
    {
      "cell_type": "markdown",
      "metadata": {
        "id": "1k-czuOGB5jM"
      },
      "source": [
        "###**Column-6: Room Type**"
      ]
    },
    {
      "cell_type": "code",
      "metadata": {
        "colab": {
          "base_uri": "https://localhost:8080/"
        },
        "id": "yKfFL15ACPXe",
        "outputId": "53fa8d82-d544-4beb-e2f7-ea2bee3cb2fe"
      },
      "source": [
        "df['RoomType'].value_counts()"
      ],
      "execution_count": null,
      "outputs": [
        {
          "output_type": "execute_result",
          "data": {
            "text/plain": [
              "Entire home/apt    2384\n",
              "Private room       1694\n",
              "Shared room         123\n",
              "Name: RoomType, dtype: int64"
            ]
          },
          "metadata": {},
          "execution_count": 24
        }
      ]
    },
    {
      "cell_type": "markdown",
      "metadata": {
        "id": "0VnRTu20lupa"
      },
      "source": [
        "**Observations:**\n",
        "* a) Data in this column is of \"Object\" or \"String\" datatype. Also, the data levels are \"Ordinal\" Type.\n",
        "\n",
        "**Decsion:**\n",
        "\n",
        "**We will be converting the data in this column into Numerical values using Ordnial Type method \"preprocessing.LabelEncoder()**"
      ]
    },
    {
      "cell_type": "code",
      "metadata": {
        "colab": {
          "base_uri": "https://localhost:8080/"
        },
        "id": "qN1zkejElwuu",
        "outputId": "a42ba9ff-0b14-4fb6-a09f-924ea14d0f13"
      },
      "source": [
        "le = preprocessing.LabelEncoder()\n",
        "df['RoomType'] = le.fit_transform(df.RoomType.values)\n",
        "df['RoomType'].value_counts()"
      ],
      "execution_count": null,
      "outputs": [
        {
          "output_type": "execute_result",
          "data": {
            "text/plain": [
              "0    2384\n",
              "1    1694\n",
              "2     123\n",
              "Name: RoomType, dtype: int64"
            ]
          },
          "metadata": {},
          "execution_count": 25
        }
      ]
    },
    {
      "cell_type": "markdown",
      "metadata": {
        "id": "Hazn5LOLC3Sc"
      },
      "source": [
        "###**Column-7: Bathrooms**"
      ]
    },
    {
      "cell_type": "code",
      "metadata": {
        "colab": {
          "base_uri": "https://localhost:8080/"
        },
        "id": "Mfwdcc6JDOCP",
        "outputId": "0a5bc34c-eebb-44ed-ca31-db49ab8c6655"
      },
      "source": [
        "df['Bathrooms'].value_counts()"
      ],
      "execution_count": null,
      "outputs": [
        {
          "output_type": "execute_result",
          "data": {
            "text/plain": [
              "1.000000    3751\n",
              "2.000000     232\n",
              "1.500000     137\n",
              "1.087878      24\n",
              "0.000000      18\n",
              "2.500000      17\n",
              "0.500000       9\n",
              "3.000000       8\n",
              "3.500000       4\n",
              "5.000000       1\n",
              "Name: Bathrooms, dtype: int64"
            ]
          },
          "metadata": {},
          "execution_count": 26
        }
      ]
    },
    {
      "cell_type": "markdown",
      "metadata": {
        "id": "0jmPWsNqmJ-q"
      },
      "source": [
        "**Observations:**\n",
        "* a) Data in this column is of \"float\" datatype. Also, there seems to be no wrong data or wrong data format.\n",
        "\n",
        "**Decsion:**\n",
        "\n",
        "**Let us leave the column as it is.**"
      ]
    },
    {
      "cell_type": "markdown",
      "metadata": {
        "id": "zkUAZYZNmQQ7"
      },
      "source": [
        "###**Column-8: Bedrooms**"
      ]
    },
    {
      "cell_type": "code",
      "metadata": {
        "colab": {
          "base_uri": "https://localhost:8080/"
        },
        "id": "Udd18ghrDYKY",
        "outputId": "6ed668d4-aa2f-4847-d5ab-574da2eaf826"
      },
      "source": [
        "df['Bedrooms'].value_counts()"
      ],
      "execution_count": null,
      "outputs": [
        {
          "output_type": "execute_result",
          "data": {
            "text/plain": [
              "1.000000    3060\n",
              "2.000000     501\n",
              "0.000000     497\n",
              "3.000000     119\n",
              "4.000000      17\n",
              "1.085586       5\n",
              "5.000000       2\n",
              "Name: Bedrooms, dtype: int64"
            ]
          },
          "metadata": {},
          "execution_count": 27
        }
      ]
    },
    {
      "cell_type": "markdown",
      "metadata": {
        "id": "AGI1rNIEmq5L"
      },
      "source": [
        "**Observations:**\n",
        "* a) Data in this column is of \"float\" datatype. Also, there seems to be no wrong data or wrong data format.\n",
        "\n",
        "**Decsion:**\n",
        "\n",
        "**Let us leave the column as it is.**"
      ]
    },
    {
      "cell_type": "markdown",
      "metadata": {
        "id": "TElY82DAmyDz"
      },
      "source": [
        "###**Column-9: Cleaning Fee**"
      ]
    },
    {
      "cell_type": "code",
      "metadata": {
        "colab": {
          "base_uri": "https://localhost:8080/"
        },
        "id": "v7irCZDHFljz",
        "outputId": "ab6ae761-ddb8-4802-842e-52cc1210836a"
      },
      "source": [
        "df['CleaningFee'].value_counts()"
      ],
      "execution_count": null,
      "outputs": [
        {
          "output_type": "execute_result",
          "data": {
            "text/plain": [
              "66.646525     1029\n",
              "50.000000      441\n",
              "100.000000     310\n",
              "60.000000      189\n",
              "20.000000      180\n",
              "              ... \n",
              "9.000000         1\n",
              "64.000000        1\n",
              "0.000000         1\n",
              "28.000000        1\n",
              "106.000000       1\n",
              "Name: CleaningFee, Length: 112, dtype: int64"
            ]
          },
          "metadata": {},
          "execution_count": 28
        }
      ]
    },
    {
      "cell_type": "markdown",
      "metadata": {
        "id": "8XC2DrZKm7ep"
      },
      "source": [
        "**Observations:**\n",
        "* a) Data in this column is of \"float\" datatype. Also, there seems to be no wrong data or wrong data format.\n",
        "\n",
        "**Decsion:**\n",
        "\n",
        "**Let us leave the column as it is.**"
      ]
    },
    {
      "cell_type": "markdown",
      "metadata": {
        "id": "sgpdwVp7nERl"
      },
      "source": [
        "###**Column-10: Latitude**"
      ]
    },
    {
      "cell_type": "code",
      "metadata": {
        "colab": {
          "base_uri": "https://localhost:8080/"
        },
        "id": "gSL1j6FRFpwy",
        "outputId": "96465744-c361-4683-d4c5-c1c143b3b48f"
      },
      "source": [
        "df['Latitude'].value_counts()"
      ],
      "execution_count": null,
      "outputs": [
        {
          "output_type": "execute_result",
          "data": {
            "text/plain": [
              "40.776014    1\n",
              "40.808613    1\n",
              "40.751527    1\n",
              "40.748382    1\n",
              "40.737551    1\n",
              "            ..\n",
              "40.840575    1\n",
              "40.731327    1\n",
              "40.863479    1\n",
              "40.774358    1\n",
              "40.725199    1\n",
              "Name: Latitude, Length: 4201, dtype: int64"
            ]
          },
          "metadata": {},
          "execution_count": 29
        }
      ]
    },
    {
      "cell_type": "markdown",
      "metadata": {
        "id": "6gnyhysWnOr1"
      },
      "source": [
        "**Observations:**\n",
        "* a) Data in this column will not be contributing to the prediction of the Depenedent variable\n",
        "\n",
        "**Decsion:**\n",
        "\n",
        "**We will be dropping this column**"
      ]
    },
    {
      "cell_type": "code",
      "metadata": {
        "colab": {
          "base_uri": "https://localhost:8080/"
        },
        "id": "Fg1MqsSQnPaY",
        "outputId": "43e30562-4b90-4b92-91ea-0ff4ca04b1bf"
      },
      "source": [
        "#dropping the column\n",
        "df.drop(columns = ['Latitude'], axis = 1, inplace = True)\n",
        "df.info()"
      ],
      "execution_count": null,
      "outputs": [
        {
          "output_type": "stream",
          "name": "stdout",
          "text": [
            "<class 'pandas.core.frame.DataFrame'>\n",
            "Int64Index: 4201 entries, 0 to 4200\n",
            "Data columns (total 12 columns):\n",
            " #   Column              Non-Null Count  Dtype  \n",
            "---  ------              --------------  -----  \n",
            " 0   District            4201 non-null   object \n",
            " 1   Neighborhood        4201 non-null   object \n",
            " 2   PropertyType        4201 non-null   object \n",
            " 3   CancellationPolicy  4201 non-null   int64  \n",
            " 4   Accommodates        4201 non-null   int64  \n",
            " 5   RoomType            4201 non-null   int64  \n",
            " 6   Bathrooms           4201 non-null   float64\n",
            " 7   Bedrooms            4201 non-null   float64\n",
            " 8   CleaningFee         4201 non-null   float64\n",
            " 9   Longitude           4201 non-null   float64\n",
            " 10  ReviewRating        4201 non-null   float64\n",
            " 11  Price               4201 non-null   float64\n",
            "dtypes: float64(6), int64(3), object(3)\n",
            "memory usage: 426.7+ KB\n"
          ]
        }
      ]
    },
    {
      "cell_type": "markdown",
      "metadata": {
        "id": "dLR6kWWWnmyc"
      },
      "source": [
        "###**Column-11: Longitude**"
      ]
    },
    {
      "cell_type": "code",
      "metadata": {
        "colab": {
          "base_uri": "https://localhost:8080/"
        },
        "id": "XmqNv87PFxQ6",
        "outputId": "8accb020-3642-4da3-fe16-f27df24f5ac8"
      },
      "source": [
        "df['Longitude'].value_counts()"
      ],
      "execution_count": null,
      "outputs": [
        {
          "output_type": "execute_result",
          "data": {
            "text/plain": [
              "-73.959322    1\n",
              "-73.951283    1\n",
              "-73.979234    1\n",
              "-73.954345    1\n",
              "-73.926520    1\n",
              "             ..\n",
              "-73.982821    1\n",
              "-73.987149    1\n",
              "-74.007834    1\n",
              "-73.986120    1\n",
              "-73.984651    1\n",
              "Name: Longitude, Length: 4201, dtype: int64"
            ]
          },
          "metadata": {},
          "execution_count": 31
        }
      ]
    },
    {
      "cell_type": "markdown",
      "metadata": {
        "id": "RsTTLIORnuGB"
      },
      "source": [
        "**Observations:**\n",
        "* a) Data in this column will not be contributing to the prediction of the Depenedent variable\n",
        "\n",
        "**Decsion:**\n",
        "\n",
        "**We will be dropping this column**"
      ]
    },
    {
      "cell_type": "code",
      "metadata": {
        "colab": {
          "base_uri": "https://localhost:8080/"
        },
        "id": "RyRNO7cVnvdB",
        "outputId": "d6192732-891e-40d8-e876-8a166099c6e8"
      },
      "source": [
        "#dropping the column\n",
        "df.drop(columns = ['Longitude'], axis = 1, inplace = True)\n",
        "df.info()"
      ],
      "execution_count": null,
      "outputs": [
        {
          "output_type": "stream",
          "name": "stdout",
          "text": [
            "<class 'pandas.core.frame.DataFrame'>\n",
            "Int64Index: 4201 entries, 0 to 4200\n",
            "Data columns (total 11 columns):\n",
            " #   Column              Non-Null Count  Dtype  \n",
            "---  ------              --------------  -----  \n",
            " 0   District            4201 non-null   object \n",
            " 1   Neighborhood        4201 non-null   object \n",
            " 2   PropertyType        4201 non-null   object \n",
            " 3   CancellationPolicy  4201 non-null   int64  \n",
            " 4   Accommodates        4201 non-null   int64  \n",
            " 5   RoomType            4201 non-null   int64  \n",
            " 6   Bathrooms           4201 non-null   float64\n",
            " 7   Bedrooms            4201 non-null   float64\n",
            " 8   CleaningFee         4201 non-null   float64\n",
            " 9   ReviewRating        4201 non-null   float64\n",
            " 10  Price               4201 non-null   float64\n",
            "dtypes: float64(5), int64(3), object(3)\n",
            "memory usage: 393.8+ KB\n"
          ]
        }
      ]
    },
    {
      "cell_type": "markdown",
      "metadata": {
        "id": "w_HATYF0nzew"
      },
      "source": [
        "###**Column-12: Review Rating**"
      ]
    },
    {
      "cell_type": "code",
      "metadata": {
        "colab": {
          "base_uri": "https://localhost:8080/"
        },
        "id": "2ask4-hkF8iM",
        "outputId": "d541939b-71b3-4a04-d475-66c4fb8547c3"
      },
      "source": [
        "df['ReviewRating'].value_counts()"
      ],
      "execution_count": null,
      "outputs": [
        {
          "output_type": "execute_result",
          "data": {
            "text/plain": [
              "100.0    1108\n",
              "93.0      325\n",
              "95.0      303\n",
              "90.0      252\n",
              "96.0      251\n",
              "80.0      224\n",
              "98.0      210\n",
              "97.0      205\n",
              "92.0      180\n",
              "94.0      177\n",
              "91.0      137\n",
              "87.0      113\n",
              "99.0      104\n",
              "88.0      102\n",
              "89.0       97\n",
              "85.0       72\n",
              "84.0       52\n",
              "60.0       44\n",
              "83.0       44\n",
              "86.0       37\n",
              "70.0       25\n",
              "82.0       21\n",
              "78.0       15\n",
              "75.0       13\n",
              "81.0       13\n",
              "73.0       12\n",
              "76.0       11\n",
              "20.0       10\n",
              "40.0        8\n",
              "67.0        7\n",
              "77.0        7\n",
              "74.0        6\n",
              "79.0        5\n",
              "72.0        3\n",
              "50.0        2\n",
              "53.0        2\n",
              "68.0        2\n",
              "65.0        1\n",
              "27.0        1\n",
              "Name: ReviewRating, dtype: int64"
            ]
          },
          "metadata": {},
          "execution_count": 33
        }
      ]
    },
    {
      "cell_type": "markdown",
      "metadata": {
        "id": "25e6jhGQoX2q"
      },
      "source": [
        "**Observations:**\n",
        "* a) Data in this column is of \"float\" datatype. Also, there seems to be no wrong data or wrong data format.\n",
        "\n",
        "**Decsion:**\n",
        "\n",
        "**Let us leave the column as it is.**"
      ]
    },
    {
      "cell_type": "markdown",
      "metadata": {
        "id": "PDem7yNso18Q"
      },
      "source": [
        "###**Column-13: Price**"
      ]
    },
    {
      "cell_type": "code",
      "metadata": {
        "colab": {
          "base_uri": "https://localhost:8080/"
        },
        "id": "C9YHbdUNGC_j",
        "outputId": "f2ce7c8e-65ba-4401-a395-d5a07addb0dc"
      },
      "source": [
        "df['Price'].value_counts()"
      ],
      "execution_count": null,
      "outputs": [
        {
          "output_type": "execute_result",
          "data": {
            "text/plain": [
              "100.0    200\n",
              "150.0    164\n",
              "200.0    145\n",
              "250.0    124\n",
              "120.0    113\n",
              "        ... \n",
              "287.0      1\n",
              "436.0      1\n",
              "980.0      1\n",
              "194.0      1\n",
              "413.0      1\n",
              "Name: Price, Length: 320, dtype: int64"
            ]
          },
          "metadata": {},
          "execution_count": 34
        }
      ]
    },
    {
      "cell_type": "markdown",
      "metadata": {
        "id": "uUFyErdMpAym"
      },
      "source": [
        "**Observations:**\n",
        "* a) Data in this column is of \"float\" datatype. Also, there seems to be no wrong data or wrong data format.\n",
        "\n",
        "**Decsion:**\n",
        "\n",
        "**Let us leave the column as it is.**"
      ]
    },
    {
      "cell_type": "code",
      "metadata": {
        "colab": {
          "base_uri": "https://localhost:8080/"
        },
        "id": "TMRIemMiUSOM",
        "outputId": "fffe0165-723a-4c30-858f-6fe23cb30d80"
      },
      "source": [
        "df.info()"
      ],
      "execution_count": null,
      "outputs": [
        {
          "output_type": "stream",
          "name": "stdout",
          "text": [
            "<class 'pandas.core.frame.DataFrame'>\n",
            "Int64Index: 4201 entries, 0 to 4200\n",
            "Data columns (total 11 columns):\n",
            " #   Column              Non-Null Count  Dtype  \n",
            "---  ------              --------------  -----  \n",
            " 0   District            4201 non-null   object \n",
            " 1   Neighborhood        4201 non-null   object \n",
            " 2   PropertyType        4201 non-null   object \n",
            " 3   CancellationPolicy  4201 non-null   int64  \n",
            " 4   Accommodates        4201 non-null   int64  \n",
            " 5   RoomType            4201 non-null   int64  \n",
            " 6   Bathrooms           4201 non-null   float64\n",
            " 7   Bedrooms            4201 non-null   float64\n",
            " 8   CleaningFee         4201 non-null   float64\n",
            " 9   ReviewRating        4201 non-null   float64\n",
            " 10  Price               4201 non-null   float64\n",
            "dtypes: float64(5), int64(3), object(3)\n",
            "memory usage: 393.8+ KB\n"
          ]
        }
      ]
    },
    {
      "cell_type": "code",
      "metadata": {
        "colab": {
          "base_uri": "https://localhost:8080/"
        },
        "id": "lHlAK0BDFspj",
        "outputId": "7a166688-81e9-45f0-fd77-7cf4eaa0102e"
      },
      "source": [
        "df.drop(['District', 'Neighborhood', 'PropertyType'], axis = 1, inplace = True)\n",
        "df.info()"
      ],
      "execution_count": null,
      "outputs": [
        {
          "output_type": "stream",
          "name": "stdout",
          "text": [
            "<class 'pandas.core.frame.DataFrame'>\n",
            "Int64Index: 4201 entries, 0 to 4200\n",
            "Data columns (total 8 columns):\n",
            " #   Column              Non-Null Count  Dtype  \n",
            "---  ------              --------------  -----  \n",
            " 0   CancellationPolicy  4201 non-null   int64  \n",
            " 1   Accommodates        4201 non-null   int64  \n",
            " 2   RoomType            4201 non-null   int64  \n",
            " 3   Bathrooms           4201 non-null   float64\n",
            " 4   Bedrooms            4201 non-null   float64\n",
            " 5   CleaningFee         4201 non-null   float64\n",
            " 6   ReviewRating        4201 non-null   float64\n",
            " 7   Price               4201 non-null   float64\n",
            "dtypes: float64(5), int64(3)\n",
            "memory usage: 295.4 KB\n"
          ]
        }
      ]
    },
    {
      "cell_type": "code",
      "metadata": {
        "colab": {
          "base_uri": "https://localhost:8080/"
        },
        "id": "jPcfaByJpQZ9",
        "outputId": "62c09ec5-11c0-47d5-e2f0-882c8cd58d37"
      },
      "source": [
        "df = pd.concat([df,dist_encoded, neighborhood_encoded, propertytype_encoded], axis = 1)\n",
        "df.info()"
      ],
      "execution_count": null,
      "outputs": [
        {
          "output_type": "stream",
          "name": "stdout",
          "text": [
            "<class 'pandas.core.frame.DataFrame'>\n",
            "Int64Index: 4201 entries, 0 to 4200\n",
            "Data columns (total 22 columns):\n",
            " #   Column              Non-Null Count  Dtype  \n",
            "---  ------              --------------  -----  \n",
            " 0   CancellationPolicy  4201 non-null   int64  \n",
            " 1   Accommodates        4201 non-null   int64  \n",
            " 2   RoomType            4201 non-null   int64  \n",
            " 3   Bathrooms           4201 non-null   float64\n",
            " 4   Bedrooms            4201 non-null   float64\n",
            " 5   CleaningFee         4201 non-null   float64\n",
            " 6   ReviewRating        4201 non-null   float64\n",
            " 7   Price               4201 non-null   float64\n",
            " 8   District_Brooklyn   4201 non-null   uint8  \n",
            " 9   District_Manhattan  4201 non-null   uint8  \n",
            " 10  District_Queens     4201 non-null   uint8  \n",
            " 11  Neighborhood_0      4201 non-null   int64  \n",
            " 12  Neighborhood_1      4201 non-null   int64  \n",
            " 13  Neighborhood_2      4201 non-null   int64  \n",
            " 14  Neighborhood_3      4201 non-null   int64  \n",
            " 15  Neighborhood_4      4201 non-null   int64  \n",
            " 16  Neighborhood_5      4201 non-null   int64  \n",
            " 17  PropertyType_0      4201 non-null   int64  \n",
            " 18  PropertyType_1      4201 non-null   int64  \n",
            " 19  PropertyType_2      4201 non-null   int64  \n",
            " 20  PropertyType_3      4201 non-null   int64  \n",
            " 21  PropertyType_4      4201 non-null   int64  \n",
            "dtypes: float64(5), int64(14), uint8(3)\n",
            "memory usage: 668.7 KB\n"
          ]
        }
      ]
    },
    {
      "cell_type": "code",
      "metadata": {
        "colab": {
          "base_uri": "https://localhost:8080/"
        },
        "id": "LuZu__L0q4J1",
        "outputId": "06e3cf86-4bc5-42c1-8ad9-9b70fdc6794a"
      },
      "source": [
        "df.isnull().sum()"
      ],
      "execution_count": null,
      "outputs": [
        {
          "output_type": "execute_result",
          "data": {
            "text/plain": [
              "CancellationPolicy    0\n",
              "Accommodates          0\n",
              "RoomType              0\n",
              "Bathrooms             0\n",
              "Bedrooms              0\n",
              "CleaningFee           0\n",
              "ReviewRating          0\n",
              "Price                 0\n",
              "District_Brooklyn     0\n",
              "District_Manhattan    0\n",
              "District_Queens       0\n",
              "Neighborhood_0        0\n",
              "Neighborhood_1        0\n",
              "Neighborhood_2        0\n",
              "Neighborhood_3        0\n",
              "Neighborhood_4        0\n",
              "Neighborhood_5        0\n",
              "PropertyType_0        0\n",
              "PropertyType_1        0\n",
              "PropertyType_2        0\n",
              "PropertyType_3        0\n",
              "PropertyType_4        0\n",
              "dtype: int64"
            ]
          },
          "metadata": {},
          "execution_count": 38
        }
      ]
    },
    {
      "cell_type": "code",
      "metadata": {
        "colab": {
          "base_uri": "https://localhost:8080/",
          "height": 320
        },
        "id": "bg3pFyngGip8",
        "outputId": "87bce6e5-54b0-4edb-ee01-6b538dc1db8a"
      },
      "source": [
        "df.describe()"
      ],
      "execution_count": null,
      "outputs": [
        {
          "output_type": "execute_result",
          "data": {
            "text/html": [
              "<div>\n",
              "<style scoped>\n",
              "    .dataframe tbody tr th:only-of-type {\n",
              "        vertical-align: middle;\n",
              "    }\n",
              "\n",
              "    .dataframe tbody tr th {\n",
              "        vertical-align: top;\n",
              "    }\n",
              "\n",
              "    .dataframe thead th {\n",
              "        text-align: right;\n",
              "    }\n",
              "</style>\n",
              "<table border=\"1\" class=\"dataframe\">\n",
              "  <thead>\n",
              "    <tr style=\"text-align: right;\">\n",
              "      <th></th>\n",
              "      <th>CancellationPolicy</th>\n",
              "      <th>Accommodates</th>\n",
              "      <th>RoomType</th>\n",
              "      <th>Bathrooms</th>\n",
              "      <th>Bedrooms</th>\n",
              "      <th>CleaningFee</th>\n",
              "      <th>ReviewRating</th>\n",
              "      <th>Price</th>\n",
              "      <th>District_Brooklyn</th>\n",
              "      <th>District_Manhattan</th>\n",
              "      <th>District_Queens</th>\n",
              "      <th>Neighborhood_0</th>\n",
              "      <th>Neighborhood_1</th>\n",
              "      <th>Neighborhood_2</th>\n",
              "      <th>Neighborhood_3</th>\n",
              "      <th>Neighborhood_4</th>\n",
              "      <th>Neighborhood_5</th>\n",
              "      <th>PropertyType_0</th>\n",
              "      <th>PropertyType_1</th>\n",
              "      <th>PropertyType_2</th>\n",
              "      <th>PropertyType_3</th>\n",
              "      <th>PropertyType_4</th>\n",
              "    </tr>\n",
              "  </thead>\n",
              "  <tbody>\n",
              "    <tr>\n",
              "      <th>count</th>\n",
              "      <td>4201.000000</td>\n",
              "      <td>4201.000000</td>\n",
              "      <td>4201.000000</td>\n",
              "      <td>4201.000000</td>\n",
              "      <td>4201.000000</td>\n",
              "      <td>4201.000000</td>\n",
              "      <td>4201.000000</td>\n",
              "      <td>4201.000000</td>\n",
              "      <td>4201.000000</td>\n",
              "      <td>4201.000000</td>\n",
              "      <td>4201.000000</td>\n",
              "      <td>4201.000000</td>\n",
              "      <td>4201.000000</td>\n",
              "      <td>4201.000000</td>\n",
              "      <td>4201.000000</td>\n",
              "      <td>4201.000000</td>\n",
              "      <td>4201.000000</td>\n",
              "      <td>4201.000000</td>\n",
              "      <td>4201.000000</td>\n",
              "      <td>4201.000000</td>\n",
              "      <td>4201.000000</td>\n",
              "      <td>4201.000000</td>\n",
              "    </tr>\n",
              "    <tr>\n",
              "      <th>mean</th>\n",
              "      <td>1.320400</td>\n",
              "      <td>2.825280</td>\n",
              "      <td>0.461795</td>\n",
              "      <td>1.079888</td>\n",
              "      <td>1.071751</td>\n",
              "      <td>65.885569</td>\n",
              "      <td>92.771483</td>\n",
              "      <td>161.343014</td>\n",
              "      <td>0.011902</td>\n",
              "      <td>0.979767</td>\n",
              "      <td>0.007855</td>\n",
              "      <td>0.031659</td>\n",
              "      <td>0.128065</td>\n",
              "      <td>0.374435</td>\n",
              "      <td>0.441085</td>\n",
              "      <td>0.591526</td>\n",
              "      <td>0.582956</td>\n",
              "      <td>0.000238</td>\n",
              "      <td>0.009045</td>\n",
              "      <td>0.034040</td>\n",
              "      <td>0.024756</td>\n",
              "      <td>0.957629</td>\n",
              "    </tr>\n",
              "    <tr>\n",
              "      <th>std</th>\n",
              "      <td>0.813098</td>\n",
              "      <td>1.597897</td>\n",
              "      <td>0.554230</td>\n",
              "      <td>0.297259</td>\n",
              "      <td>0.624387</td>\n",
              "      <td>36.712840</td>\n",
              "      <td>8.663176</td>\n",
              "      <td>110.364870</td>\n",
              "      <td>0.108458</td>\n",
              "      <td>0.140814</td>\n",
              "      <td>0.088292</td>\n",
              "      <td>0.175112</td>\n",
              "      <td>0.334202</td>\n",
              "      <td>0.484034</td>\n",
              "      <td>0.496576</td>\n",
              "      <td>0.491610</td>\n",
              "      <td>0.493129</td>\n",
              "      <td>0.015428</td>\n",
              "      <td>0.094688</td>\n",
              "      <td>0.181352</td>\n",
              "      <td>0.155399</td>\n",
              "      <td>0.201458</td>\n",
              "    </tr>\n",
              "    <tr>\n",
              "      <th>min</th>\n",
              "      <td>0.000000</td>\n",
              "      <td>1.000000</td>\n",
              "      <td>0.000000</td>\n",
              "      <td>0.000000</td>\n",
              "      <td>0.000000</td>\n",
              "      <td>0.000000</td>\n",
              "      <td>20.000000</td>\n",
              "      <td>14.000000</td>\n",
              "      <td>0.000000</td>\n",
              "      <td>0.000000</td>\n",
              "      <td>0.000000</td>\n",
              "      <td>0.000000</td>\n",
              "      <td>0.000000</td>\n",
              "      <td>0.000000</td>\n",
              "      <td>0.000000</td>\n",
              "      <td>0.000000</td>\n",
              "      <td>0.000000</td>\n",
              "      <td>0.000000</td>\n",
              "      <td>0.000000</td>\n",
              "      <td>0.000000</td>\n",
              "      <td>0.000000</td>\n",
              "      <td>0.000000</td>\n",
              "    </tr>\n",
              "    <tr>\n",
              "      <th>25%</th>\n",
              "      <td>1.000000</td>\n",
              "      <td>2.000000</td>\n",
              "      <td>0.000000</td>\n",
              "      <td>1.000000</td>\n",
              "      <td>1.000000</td>\n",
              "      <td>45.000000</td>\n",
              "      <td>90.000000</td>\n",
              "      <td>90.000000</td>\n",
              "      <td>0.000000</td>\n",
              "      <td>1.000000</td>\n",
              "      <td>0.000000</td>\n",
              "      <td>0.000000</td>\n",
              "      <td>0.000000</td>\n",
              "      <td>0.000000</td>\n",
              "      <td>0.000000</td>\n",
              "      <td>0.000000</td>\n",
              "      <td>0.000000</td>\n",
              "      <td>0.000000</td>\n",
              "      <td>0.000000</td>\n",
              "      <td>0.000000</td>\n",
              "      <td>0.000000</td>\n",
              "      <td>1.000000</td>\n",
              "    </tr>\n",
              "    <tr>\n",
              "      <th>50%</th>\n",
              "      <td>2.000000</td>\n",
              "      <td>2.000000</td>\n",
              "      <td>0.000000</td>\n",
              "      <td>1.000000</td>\n",
              "      <td>1.000000</td>\n",
              "      <td>66.646525</td>\n",
              "      <td>95.000000</td>\n",
              "      <td>130.000000</td>\n",
              "      <td>0.000000</td>\n",
              "      <td>1.000000</td>\n",
              "      <td>0.000000</td>\n",
              "      <td>0.000000</td>\n",
              "      <td>0.000000</td>\n",
              "      <td>0.000000</td>\n",
              "      <td>0.000000</td>\n",
              "      <td>1.000000</td>\n",
              "      <td>1.000000</td>\n",
              "      <td>0.000000</td>\n",
              "      <td>0.000000</td>\n",
              "      <td>0.000000</td>\n",
              "      <td>0.000000</td>\n",
              "      <td>1.000000</td>\n",
              "    </tr>\n",
              "    <tr>\n",
              "      <th>75%</th>\n",
              "      <td>2.000000</td>\n",
              "      <td>4.000000</td>\n",
              "      <td>1.000000</td>\n",
              "      <td>1.000000</td>\n",
              "      <td>1.000000</td>\n",
              "      <td>75.000000</td>\n",
              "      <td>100.000000</td>\n",
              "      <td>200.000000</td>\n",
              "      <td>0.000000</td>\n",
              "      <td>1.000000</td>\n",
              "      <td>0.000000</td>\n",
              "      <td>0.000000</td>\n",
              "      <td>0.000000</td>\n",
              "      <td>1.000000</td>\n",
              "      <td>1.000000</td>\n",
              "      <td>1.000000</td>\n",
              "      <td>1.000000</td>\n",
              "      <td>0.000000</td>\n",
              "      <td>0.000000</td>\n",
              "      <td>0.000000</td>\n",
              "      <td>0.000000</td>\n",
              "      <td>1.000000</td>\n",
              "    </tr>\n",
              "    <tr>\n",
              "      <th>max</th>\n",
              "      <td>2.000000</td>\n",
              "      <td>16.000000</td>\n",
              "      <td>2.000000</td>\n",
              "      <td>5.000000</td>\n",
              "      <td>5.000000</td>\n",
              "      <td>300.000000</td>\n",
              "      <td>100.000000</td>\n",
              "      <td>999.000000</td>\n",
              "      <td>1.000000</td>\n",
              "      <td>1.000000</td>\n",
              "      <td>1.000000</td>\n",
              "      <td>1.000000</td>\n",
              "      <td>1.000000</td>\n",
              "      <td>1.000000</td>\n",
              "      <td>1.000000</td>\n",
              "      <td>1.000000</td>\n",
              "      <td>1.000000</td>\n",
              "      <td>1.000000</td>\n",
              "      <td>1.000000</td>\n",
              "      <td>1.000000</td>\n",
              "      <td>1.000000</td>\n",
              "      <td>1.000000</td>\n",
              "    </tr>\n",
              "  </tbody>\n",
              "</table>\n",
              "</div>"
            ],
            "text/plain": [
              "       CancellationPolicy  Accommodates  ...  PropertyType_3  PropertyType_4\n",
              "count         4201.000000   4201.000000  ...     4201.000000     4201.000000\n",
              "mean             1.320400      2.825280  ...        0.024756        0.957629\n",
              "std              0.813098      1.597897  ...        0.155399        0.201458\n",
              "min              0.000000      1.000000  ...        0.000000        0.000000\n",
              "25%              1.000000      2.000000  ...        0.000000        1.000000\n",
              "50%              2.000000      2.000000  ...        0.000000        1.000000\n",
              "75%              2.000000      4.000000  ...        0.000000        1.000000\n",
              "max              2.000000     16.000000  ...        1.000000        1.000000\n",
              "\n",
              "[8 rows x 22 columns]"
            ]
          },
          "metadata": {},
          "execution_count": 39
        }
      ]
    },
    {
      "cell_type": "markdown",
      "metadata": {
        "id": "1lPmGEJI3IGA"
      },
      "source": [
        "###**Slicing X and Y values**"
      ]
    },
    {
      "cell_type": "code",
      "metadata": {
        "colab": {
          "base_uri": "https://localhost:8080/",
          "height": 226
        },
        "id": "AgQCmzubHKLa",
        "outputId": "64254a57-407e-41ca-bd05-5913c5787db3"
      },
      "source": [
        "X = df.drop(['Price'], axis = 1)\n",
        "Y = df['Price']\n",
        "X.head()"
      ],
      "execution_count": null,
      "outputs": [
        {
          "output_type": "execute_result",
          "data": {
            "text/html": [
              "<div>\n",
              "<style scoped>\n",
              "    .dataframe tbody tr th:only-of-type {\n",
              "        vertical-align: middle;\n",
              "    }\n",
              "\n",
              "    .dataframe tbody tr th {\n",
              "        vertical-align: top;\n",
              "    }\n",
              "\n",
              "    .dataframe thead th {\n",
              "        text-align: right;\n",
              "    }\n",
              "</style>\n",
              "<table border=\"1\" class=\"dataframe\">\n",
              "  <thead>\n",
              "    <tr style=\"text-align: right;\">\n",
              "      <th></th>\n",
              "      <th>CancellationPolicy</th>\n",
              "      <th>Accommodates</th>\n",
              "      <th>RoomType</th>\n",
              "      <th>Bathrooms</th>\n",
              "      <th>Bedrooms</th>\n",
              "      <th>CleaningFee</th>\n",
              "      <th>ReviewRating</th>\n",
              "      <th>District_Brooklyn</th>\n",
              "      <th>District_Manhattan</th>\n",
              "      <th>District_Queens</th>\n",
              "      <th>Neighborhood_0</th>\n",
              "      <th>Neighborhood_1</th>\n",
              "      <th>Neighborhood_2</th>\n",
              "      <th>Neighborhood_3</th>\n",
              "      <th>Neighborhood_4</th>\n",
              "      <th>Neighborhood_5</th>\n",
              "      <th>PropertyType_0</th>\n",
              "      <th>PropertyType_1</th>\n",
              "      <th>PropertyType_2</th>\n",
              "      <th>PropertyType_3</th>\n",
              "      <th>PropertyType_4</th>\n",
              "    </tr>\n",
              "  </thead>\n",
              "  <tbody>\n",
              "    <tr>\n",
              "      <th>0</th>\n",
              "      <td>2</td>\n",
              "      <td>2</td>\n",
              "      <td>0</td>\n",
              "      <td>1.0</td>\n",
              "      <td>0.0</td>\n",
              "      <td>75.000000</td>\n",
              "      <td>86.0</td>\n",
              "      <td>0</td>\n",
              "      <td>1</td>\n",
              "      <td>0</td>\n",
              "      <td>0</td>\n",
              "      <td>0</td>\n",
              "      <td>0</td>\n",
              "      <td>0</td>\n",
              "      <td>0</td>\n",
              "      <td>1</td>\n",
              "      <td>0</td>\n",
              "      <td>0</td>\n",
              "      <td>0</td>\n",
              "      <td>0</td>\n",
              "      <td>1</td>\n",
              "    </tr>\n",
              "    <tr>\n",
              "      <th>1</th>\n",
              "      <td>0</td>\n",
              "      <td>2</td>\n",
              "      <td>0</td>\n",
              "      <td>1.0</td>\n",
              "      <td>1.0</td>\n",
              "      <td>66.646525</td>\n",
              "      <td>100.0</td>\n",
              "      <td>0</td>\n",
              "      <td>1</td>\n",
              "      <td>0</td>\n",
              "      <td>0</td>\n",
              "      <td>0</td>\n",
              "      <td>0</td>\n",
              "      <td>0</td>\n",
              "      <td>1</td>\n",
              "      <td>0</td>\n",
              "      <td>0</td>\n",
              "      <td>0</td>\n",
              "      <td>0</td>\n",
              "      <td>0</td>\n",
              "      <td>1</td>\n",
              "    </tr>\n",
              "    <tr>\n",
              "      <th>2</th>\n",
              "      <td>2</td>\n",
              "      <td>4</td>\n",
              "      <td>0</td>\n",
              "      <td>1.0</td>\n",
              "      <td>0.0</td>\n",
              "      <td>69.000000</td>\n",
              "      <td>91.0</td>\n",
              "      <td>0</td>\n",
              "      <td>1</td>\n",
              "      <td>0</td>\n",
              "      <td>0</td>\n",
              "      <td>0</td>\n",
              "      <td>0</td>\n",
              "      <td>0</td>\n",
              "      <td>1</td>\n",
              "      <td>1</td>\n",
              "      <td>0</td>\n",
              "      <td>0</td>\n",
              "      <td>0</td>\n",
              "      <td>0</td>\n",
              "      <td>1</td>\n",
              "    </tr>\n",
              "    <tr>\n",
              "      <th>3</th>\n",
              "      <td>0</td>\n",
              "      <td>2</td>\n",
              "      <td>0</td>\n",
              "      <td>1.0</td>\n",
              "      <td>1.0</td>\n",
              "      <td>60.000000</td>\n",
              "      <td>100.0</td>\n",
              "      <td>0</td>\n",
              "      <td>1</td>\n",
              "      <td>0</td>\n",
              "      <td>0</td>\n",
              "      <td>0</td>\n",
              "      <td>0</td>\n",
              "      <td>1</td>\n",
              "      <td>0</td>\n",
              "      <td>0</td>\n",
              "      <td>0</td>\n",
              "      <td>0</td>\n",
              "      <td>0</td>\n",
              "      <td>0</td>\n",
              "      <td>1</td>\n",
              "    </tr>\n",
              "    <tr>\n",
              "      <th>4</th>\n",
              "      <td>2</td>\n",
              "      <td>9</td>\n",
              "      <td>0</td>\n",
              "      <td>2.5</td>\n",
              "      <td>3.0</td>\n",
              "      <td>160.000000</td>\n",
              "      <td>94.0</td>\n",
              "      <td>0</td>\n",
              "      <td>1</td>\n",
              "      <td>0</td>\n",
              "      <td>0</td>\n",
              "      <td>0</td>\n",
              "      <td>0</td>\n",
              "      <td>1</td>\n",
              "      <td>0</td>\n",
              "      <td>1</td>\n",
              "      <td>0</td>\n",
              "      <td>0</td>\n",
              "      <td>0</td>\n",
              "      <td>0</td>\n",
              "      <td>1</td>\n",
              "    </tr>\n",
              "  </tbody>\n",
              "</table>\n",
              "</div>"
            ],
            "text/plain": [
              "   CancellationPolicy  Accommodates  ...  PropertyType_3  PropertyType_4\n",
              "0                   2             2  ...               0               1\n",
              "1                   0             2  ...               0               1\n",
              "2                   2             4  ...               0               1\n",
              "3                   0             2  ...               0               1\n",
              "4                   2             9  ...               0               1\n",
              "\n",
              "[5 rows x 21 columns]"
            ]
          },
          "metadata": {},
          "execution_count": 40
        }
      ]
    },
    {
      "cell_type": "code",
      "metadata": {
        "colab": {
          "base_uri": "https://localhost:8080/"
        },
        "id": "iZ8AA39ZHVwX",
        "outputId": "8fd041c5-9dd1-4634-c22b-9d63e194d7c4"
      },
      "source": [
        "Y.head()"
      ],
      "execution_count": null,
      "outputs": [
        {
          "output_type": "execute_result",
          "data": {
            "text/plain": [
              "0    160.0\n",
              "1    130.0\n",
              "2    129.0\n",
              "3    145.0\n",
              "4    399.0\n",
              "Name: Price, dtype: float64"
            ]
          },
          "metadata": {},
          "execution_count": 41
        }
      ]
    },
    {
      "cell_type": "code",
      "metadata": {
        "id": "aNxf4o8-Hfw6"
      },
      "source": [
        "from sklearn.model_selection import train_test_split\n",
        "X_train, X_test, y_train, y_test = train_test_split(X, Y, test_size = 0.2, random_state = 66)"
      ],
      "execution_count": null,
      "outputs": []
    },
    {
      "cell_type": "code",
      "metadata": {
        "colab": {
          "base_uri": "https://localhost:8080/"
        },
        "id": "Sh9Z1MO7Hh58",
        "outputId": "0848d425-0594-4e70-c049-92c4c9121fb6"
      },
      "source": [
        "print(X_train.shape)\n",
        "print(y_train.shape)\n",
        "print(X_test.shape)\n",
        "print(y_test.shape)"
      ],
      "execution_count": null,
      "outputs": [
        {
          "output_type": "stream",
          "name": "stdout",
          "text": [
            "(3360, 21)\n",
            "(3360,)\n",
            "(841, 21)\n",
            "(841,)\n"
          ]
        }
      ]
    },
    {
      "cell_type": "code",
      "metadata": {
        "colab": {
          "base_uri": "https://localhost:8080/"
        },
        "id": "7BzI43EYrgcf",
        "outputId": "faec8de4-2dc5-4b6e-f0b7-629c7fd93fb4"
      },
      "source": [
        "y_train.isnull().sum()"
      ],
      "execution_count": null,
      "outputs": [
        {
          "output_type": "execute_result",
          "data": {
            "text/plain": [
              "0"
            ]
          },
          "metadata": {},
          "execution_count": 44
        }
      ]
    },
    {
      "cell_type": "code",
      "metadata": {
        "id": "d0akgrZIHmeY"
      },
      "source": [
        "# Fitting Multiple Linear Regression to the Training set\n",
        "from sklearn.linear_model import LinearRegression\n",
        "regressor = LinearRegression()\n",
        "model = regressor.fit(X_train, y_train)"
      ],
      "execution_count": null,
      "outputs": []
    },
    {
      "cell_type": "code",
      "metadata": {
        "id": "CE41vsvbJSA0"
      },
      "source": [
        "train_pred=regressor.predict(X_train)"
      ],
      "execution_count": null,
      "outputs": []
    },
    {
      "cell_type": "code",
      "metadata": {
        "id": "Btn_oOiiIREl"
      },
      "source": [
        "# Predicting the Test set results\n",
        "y_pred = regressor.predict(X_test)"
      ],
      "execution_count": null,
      "outputs": []
    },
    {
      "cell_type": "code",
      "metadata": {
        "colab": {
          "base_uri": "https://localhost:8080/"
        },
        "id": "WQ8r9AzoI8Im",
        "outputId": "255a3a9b-be1f-4f0c-bc07-9fbfc2d2e815"
      },
      "source": [
        "print(\"Training Accuracy :\", regressor.score(X_train,y_train))\n",
        "print(\"Testing Accuracy :\", r2_score(y_test,y_pred))"
      ],
      "execution_count": null,
      "outputs": [
        {
          "output_type": "stream",
          "name": "stdout",
          "text": [
            "Training Accuracy : 0.5721598393496892\n",
            "Testing Accuracy : 0.5505703147143302\n"
          ]
        }
      ]
    },
    {
      "cell_type": "code",
      "metadata": {
        "colab": {
          "base_uri": "https://localhost:8080/"
        },
        "id": "B3_N0Ve_JJae",
        "outputId": "50da3cd3-ab04-4507-cb69-c5b7c735d6bf"
      },
      "source": [
        "print(\"Training Error :\", np.sqrt(mean_squared_error(y_train, train_pred)))\n",
        "print(\"Testing Error :\", np.sqrt(mean_squared_error(y_test, y_pred)))"
      ],
      "execution_count": null,
      "outputs": [
        {
          "output_type": "stream",
          "name": "stdout",
          "text": [
            "Training Error : 69.76606851821995\n",
            "Testing Error : 83.1331201746242\n"
          ]
        }
      ]
    },
    {
      "cell_type": "markdown",
      "metadata": {
        "id": "aUAFgseiT0tB"
      },
      "source": [
        "##**VIII) Implement the Scaling as required**"
      ]
    },
    {
      "cell_type": "markdown",
      "metadata": {
        "id": "LQK-Vd4boE4T"
      },
      "source": [
        "###**Use Normalization**"
      ]
    },
    {
      "cell_type": "code",
      "metadata": {
        "colab": {
          "base_uri": "https://localhost:8080/"
        },
        "id": "VCDD-uRIKGqO",
        "outputId": "04ada926-5821-49fd-b22f-efe2e4211d28"
      },
      "source": [
        "df.columns"
      ],
      "execution_count": null,
      "outputs": [
        {
          "output_type": "execute_result",
          "data": {
            "text/plain": [
              "Index(['CancellationPolicy', 'Accommodates', 'RoomType', 'Bathrooms',\n",
              "       'Bedrooms', 'CleaningFee', 'ReviewRating', 'Price', 'District_Brooklyn',\n",
              "       'District_Manhattan', 'District_Queens', 'Neighborhood_0',\n",
              "       'Neighborhood_1', 'Neighborhood_2', 'Neighborhood_3', 'Neighborhood_4',\n",
              "       'Neighborhood_5', 'PropertyType_0', 'PropertyType_1', 'PropertyType_2',\n",
              "       'PropertyType_3', 'PropertyType_4'],\n",
              "      dtype='object')"
            ]
          },
          "metadata": {},
          "execution_count": 50
        }
      ]
    },
    {
      "cell_type": "code",
      "metadata": {
        "id": "1BVKzXEkPjtT"
      },
      "source": [
        "columnNames=(['CancellationPolicy', 'Accommodates', 'RoomType', 'Bathrooms',\n",
        "       'Bedrooms', 'CleaningFee', 'ReviewRating', 'District_Brooklyn',\n",
        "       'District_Manhattan', 'District_Queens', 'Neighborhood_0',\n",
        "       'Neighborhood_1', 'Neighborhood_2', 'Neighborhood_3', 'Neighborhood_4',\n",
        "       'Neighborhood_5', 'PropertyType_0', 'PropertyType_1',\n",
        "       'PropertyType_2', 'PropertyType_3', 'PropertyType_4'])"
      ],
      "execution_count": null,
      "outputs": []
    },
    {
      "cell_type": "code",
      "metadata": {
        "colab": {
          "base_uri": "https://localhost:8080/",
          "height": 226
        },
        "id": "7X7zu-GDoSvN",
        "outputId": "a6d76e9e-8351-415d-e289-357bd63f38ce"
      },
      "source": [
        "min_max_scaler_object = preprocessing.MinMaxScaler()\n",
        "X_train1 = min_max_scaler_object.fit_transform(X_train)\n",
        "X_train1 = pd.DataFrame(X_train1 , columns = columnNames)\n",
        "X_train1.head()"
      ],
      "execution_count": null,
      "outputs": [
        {
          "output_type": "execute_result",
          "data": {
            "text/html": [
              "<div>\n",
              "<style scoped>\n",
              "    .dataframe tbody tr th:only-of-type {\n",
              "        vertical-align: middle;\n",
              "    }\n",
              "\n",
              "    .dataframe tbody tr th {\n",
              "        vertical-align: top;\n",
              "    }\n",
              "\n",
              "    .dataframe thead th {\n",
              "        text-align: right;\n",
              "    }\n",
              "</style>\n",
              "<table border=\"1\" class=\"dataframe\">\n",
              "  <thead>\n",
              "    <tr style=\"text-align: right;\">\n",
              "      <th></th>\n",
              "      <th>CancellationPolicy</th>\n",
              "      <th>Accommodates</th>\n",
              "      <th>RoomType</th>\n",
              "      <th>Bathrooms</th>\n",
              "      <th>Bedrooms</th>\n",
              "      <th>CleaningFee</th>\n",
              "      <th>ReviewRating</th>\n",
              "      <th>District_Brooklyn</th>\n",
              "      <th>District_Manhattan</th>\n",
              "      <th>District_Queens</th>\n",
              "      <th>Neighborhood_0</th>\n",
              "      <th>Neighborhood_1</th>\n",
              "      <th>Neighborhood_2</th>\n",
              "      <th>Neighborhood_3</th>\n",
              "      <th>Neighborhood_4</th>\n",
              "      <th>Neighborhood_5</th>\n",
              "      <th>PropertyType_0</th>\n",
              "      <th>PropertyType_1</th>\n",
              "      <th>PropertyType_2</th>\n",
              "      <th>PropertyType_3</th>\n",
              "      <th>PropertyType_4</th>\n",
              "    </tr>\n",
              "  </thead>\n",
              "  <tbody>\n",
              "    <tr>\n",
              "      <th>0</th>\n",
              "      <td>1.0</td>\n",
              "      <td>0.066667</td>\n",
              "      <td>0.5</td>\n",
              "      <td>0.2</td>\n",
              "      <td>0.2</td>\n",
              "      <td>0.222155</td>\n",
              "      <td>0.9875</td>\n",
              "      <td>0.0</td>\n",
              "      <td>1.0</td>\n",
              "      <td>0.0</td>\n",
              "      <td>0.0</td>\n",
              "      <td>0.0</td>\n",
              "      <td>0.0</td>\n",
              "      <td>0.0</td>\n",
              "      <td>1.0</td>\n",
              "      <td>1.0</td>\n",
              "      <td>0.0</td>\n",
              "      <td>0.0</td>\n",
              "      <td>0.0</td>\n",
              "      <td>0.0</td>\n",
              "      <td>1.0</td>\n",
              "    </tr>\n",
              "    <tr>\n",
              "      <th>1</th>\n",
              "      <td>0.0</td>\n",
              "      <td>0.200000</td>\n",
              "      <td>0.0</td>\n",
              "      <td>0.2</td>\n",
              "      <td>0.2</td>\n",
              "      <td>0.100000</td>\n",
              "      <td>0.9625</td>\n",
              "      <td>0.0</td>\n",
              "      <td>1.0</td>\n",
              "      <td>0.0</td>\n",
              "      <td>0.0</td>\n",
              "      <td>0.0</td>\n",
              "      <td>0.0</td>\n",
              "      <td>0.0</td>\n",
              "      <td>1.0</td>\n",
              "      <td>1.0</td>\n",
              "      <td>0.0</td>\n",
              "      <td>0.0</td>\n",
              "      <td>0.0</td>\n",
              "      <td>0.0</td>\n",
              "      <td>1.0</td>\n",
              "    </tr>\n",
              "    <tr>\n",
              "      <th>2</th>\n",
              "      <td>0.5</td>\n",
              "      <td>0.066667</td>\n",
              "      <td>0.5</td>\n",
              "      <td>0.3</td>\n",
              "      <td>0.2</td>\n",
              "      <td>0.083333</td>\n",
              "      <td>0.9375</td>\n",
              "      <td>0.0</td>\n",
              "      <td>1.0</td>\n",
              "      <td>0.0</td>\n",
              "      <td>0.0</td>\n",
              "      <td>0.0</td>\n",
              "      <td>0.0</td>\n",
              "      <td>1.0</td>\n",
              "      <td>1.0</td>\n",
              "      <td>1.0</td>\n",
              "      <td>0.0</td>\n",
              "      <td>0.0</td>\n",
              "      <td>0.0</td>\n",
              "      <td>0.0</td>\n",
              "      <td>1.0</td>\n",
              "    </tr>\n",
              "    <tr>\n",
              "      <th>3</th>\n",
              "      <td>0.0</td>\n",
              "      <td>0.066667</td>\n",
              "      <td>0.5</td>\n",
              "      <td>0.2</td>\n",
              "      <td>0.2</td>\n",
              "      <td>0.222155</td>\n",
              "      <td>0.9625</td>\n",
              "      <td>0.0</td>\n",
              "      <td>1.0</td>\n",
              "      <td>0.0</td>\n",
              "      <td>0.0</td>\n",
              "      <td>0.0</td>\n",
              "      <td>1.0</td>\n",
              "      <td>1.0</td>\n",
              "      <td>0.0</td>\n",
              "      <td>1.0</td>\n",
              "      <td>0.0</td>\n",
              "      <td>0.0</td>\n",
              "      <td>0.0</td>\n",
              "      <td>0.0</td>\n",
              "      <td>1.0</td>\n",
              "    </tr>\n",
              "    <tr>\n",
              "      <th>4</th>\n",
              "      <td>1.0</td>\n",
              "      <td>0.066667</td>\n",
              "      <td>0.5</td>\n",
              "      <td>0.2</td>\n",
              "      <td>0.2</td>\n",
              "      <td>0.066667</td>\n",
              "      <td>0.8625</td>\n",
              "      <td>0.0</td>\n",
              "      <td>1.0</td>\n",
              "      <td>0.0</td>\n",
              "      <td>0.0</td>\n",
              "      <td>0.0</td>\n",
              "      <td>0.0</td>\n",
              "      <td>0.0</td>\n",
              "      <td>1.0</td>\n",
              "      <td>0.0</td>\n",
              "      <td>0.0</td>\n",
              "      <td>0.0</td>\n",
              "      <td>0.0</td>\n",
              "      <td>0.0</td>\n",
              "      <td>1.0</td>\n",
              "    </tr>\n",
              "  </tbody>\n",
              "</table>\n",
              "</div>"
            ],
            "text/plain": [
              "   CancellationPolicy  Accommodates  ...  PropertyType_3  PropertyType_4\n",
              "0                 1.0      0.066667  ...             0.0             1.0\n",
              "1                 0.0      0.200000  ...             0.0             1.0\n",
              "2                 0.5      0.066667  ...             0.0             1.0\n",
              "3                 0.0      0.066667  ...             0.0             1.0\n",
              "4                 1.0      0.066667  ...             0.0             1.0\n",
              "\n",
              "[5 rows x 21 columns]"
            ]
          },
          "metadata": {},
          "execution_count": 56
        }
      ]
    },
    {
      "cell_type": "code",
      "metadata": {
        "colab": {
          "base_uri": "https://localhost:8080/",
          "height": 226
        },
        "id": "lskag3r1od4N",
        "outputId": "381903da-27cc-4f86-8f5f-5db47b6948df"
      },
      "source": [
        "min_max_scaler_object = preprocessing.MinMaxScaler()\n",
        "X_test1 = min_max_scaler_object.fit_transform(X_test)\n",
        "X_test1 = pd.DataFrame(X_test1 , columns = columnNames)\n",
        "X_test1.head()"
      ],
      "execution_count": null,
      "outputs": [
        {
          "output_type": "execute_result",
          "data": {
            "text/html": [
              "<div>\n",
              "<style scoped>\n",
              "    .dataframe tbody tr th:only-of-type {\n",
              "        vertical-align: middle;\n",
              "    }\n",
              "\n",
              "    .dataframe tbody tr th {\n",
              "        vertical-align: top;\n",
              "    }\n",
              "\n",
              "    .dataframe thead th {\n",
              "        text-align: right;\n",
              "    }\n",
              "</style>\n",
              "<table border=\"1\" class=\"dataframe\">\n",
              "  <thead>\n",
              "    <tr style=\"text-align: right;\">\n",
              "      <th></th>\n",
              "      <th>CancellationPolicy</th>\n",
              "      <th>Accommodates</th>\n",
              "      <th>RoomType</th>\n",
              "      <th>Bathrooms</th>\n",
              "      <th>Bedrooms</th>\n",
              "      <th>CleaningFee</th>\n",
              "      <th>ReviewRating</th>\n",
              "      <th>District_Brooklyn</th>\n",
              "      <th>District_Manhattan</th>\n",
              "      <th>District_Queens</th>\n",
              "      <th>Neighborhood_0</th>\n",
              "      <th>Neighborhood_1</th>\n",
              "      <th>Neighborhood_2</th>\n",
              "      <th>Neighborhood_3</th>\n",
              "      <th>Neighborhood_4</th>\n",
              "      <th>Neighborhood_5</th>\n",
              "      <th>PropertyType_0</th>\n",
              "      <th>PropertyType_1</th>\n",
              "      <th>PropertyType_2</th>\n",
              "      <th>PropertyType_3</th>\n",
              "      <th>PropertyType_4</th>\n",
              "    </tr>\n",
              "  </thead>\n",
              "  <tbody>\n",
              "    <tr>\n",
              "      <th>0</th>\n",
              "      <td>0.0</td>\n",
              "      <td>0.000000</td>\n",
              "      <td>0.5</td>\n",
              "      <td>0.285714</td>\n",
              "      <td>0.25</td>\n",
              "      <td>0.251618</td>\n",
              "      <td>1.000000</td>\n",
              "      <td>0.0</td>\n",
              "      <td>1.0</td>\n",
              "      <td>0.0</td>\n",
              "      <td>0.0</td>\n",
              "      <td>0.0</td>\n",
              "      <td>0.0</td>\n",
              "      <td>1.0</td>\n",
              "      <td>1.0</td>\n",
              "      <td>1.0</td>\n",
              "      <td>0.0</td>\n",
              "      <td>0.0</td>\n",
              "      <td>0.0</td>\n",
              "      <td>0.0</td>\n",
              "      <td>1.0</td>\n",
              "    </tr>\n",
              "    <tr>\n",
              "      <th>1</th>\n",
              "      <td>1.0</td>\n",
              "      <td>0.111111</td>\n",
              "      <td>0.0</td>\n",
              "      <td>0.285714</td>\n",
              "      <td>0.00</td>\n",
              "      <td>0.285714</td>\n",
              "      <td>0.957447</td>\n",
              "      <td>0.0</td>\n",
              "      <td>1.0</td>\n",
              "      <td>0.0</td>\n",
              "      <td>0.0</td>\n",
              "      <td>0.0</td>\n",
              "      <td>0.0</td>\n",
              "      <td>1.0</td>\n",
              "      <td>1.0</td>\n",
              "      <td>1.0</td>\n",
              "      <td>0.0</td>\n",
              "      <td>0.0</td>\n",
              "      <td>0.0</td>\n",
              "      <td>0.0</td>\n",
              "      <td>1.0</td>\n",
              "    </tr>\n",
              "    <tr>\n",
              "      <th>2</th>\n",
              "      <td>0.5</td>\n",
              "      <td>0.111111</td>\n",
              "      <td>0.0</td>\n",
              "      <td>0.285714</td>\n",
              "      <td>0.25</td>\n",
              "      <td>0.142857</td>\n",
              "      <td>0.851064</td>\n",
              "      <td>0.0</td>\n",
              "      <td>1.0</td>\n",
              "      <td>0.0</td>\n",
              "      <td>0.0</td>\n",
              "      <td>0.0</td>\n",
              "      <td>0.0</td>\n",
              "      <td>1.0</td>\n",
              "      <td>0.0</td>\n",
              "      <td>0.0</td>\n",
              "      <td>0.0</td>\n",
              "      <td>0.0</td>\n",
              "      <td>0.0</td>\n",
              "      <td>0.0</td>\n",
              "      <td>1.0</td>\n",
              "    </tr>\n",
              "    <tr>\n",
              "      <th>3</th>\n",
              "      <td>0.0</td>\n",
              "      <td>0.111111</td>\n",
              "      <td>0.5</td>\n",
              "      <td>0.285714</td>\n",
              "      <td>0.25</td>\n",
              "      <td>0.020408</td>\n",
              "      <td>0.744681</td>\n",
              "      <td>0.0</td>\n",
              "      <td>1.0</td>\n",
              "      <td>0.0</td>\n",
              "      <td>0.0</td>\n",
              "      <td>0.0</td>\n",
              "      <td>0.0</td>\n",
              "      <td>0.0</td>\n",
              "      <td>1.0</td>\n",
              "      <td>1.0</td>\n",
              "      <td>0.0</td>\n",
              "      <td>0.0</td>\n",
              "      <td>0.0</td>\n",
              "      <td>0.0</td>\n",
              "      <td>1.0</td>\n",
              "    </tr>\n",
              "    <tr>\n",
              "      <th>4</th>\n",
              "      <td>0.0</td>\n",
              "      <td>0.111111</td>\n",
              "      <td>0.5</td>\n",
              "      <td>0.571429</td>\n",
              "      <td>0.25</td>\n",
              "      <td>0.251618</td>\n",
              "      <td>0.808511</td>\n",
              "      <td>0.0</td>\n",
              "      <td>1.0</td>\n",
              "      <td>0.0</td>\n",
              "      <td>1.0</td>\n",
              "      <td>0.0</td>\n",
              "      <td>0.0</td>\n",
              "      <td>1.0</td>\n",
              "      <td>0.0</td>\n",
              "      <td>0.0</td>\n",
              "      <td>0.0</td>\n",
              "      <td>0.0</td>\n",
              "      <td>0.0</td>\n",
              "      <td>0.0</td>\n",
              "      <td>1.0</td>\n",
              "    </tr>\n",
              "  </tbody>\n",
              "</table>\n",
              "</div>"
            ],
            "text/plain": [
              "   CancellationPolicy  Accommodates  ...  PropertyType_3  PropertyType_4\n",
              "0                 0.0      0.000000  ...             0.0             1.0\n",
              "1                 1.0      0.111111  ...             0.0             1.0\n",
              "2                 0.5      0.111111  ...             0.0             1.0\n",
              "3                 0.0      0.111111  ...             0.0             1.0\n",
              "4                 0.0      0.111111  ...             0.0             1.0\n",
              "\n",
              "[5 rows x 21 columns]"
            ]
          },
          "metadata": {},
          "execution_count": 57
        }
      ]
    },
    {
      "cell_type": "code",
      "metadata": {
        "id": "817nT4V2LSyn"
      },
      "source": [
        "# Fitting Multiple Linear Regression to the Training set\n",
        "from sklearn.linear_model import LinearRegression\n",
        "regressor1 = LinearRegression()\n",
        "model1=regressor1.fit(X_train1, y_train)"
      ],
      "execution_count": null,
      "outputs": []
    },
    {
      "cell_type": "code",
      "metadata": {
        "id": "Mnac7_64LnHl"
      },
      "source": [
        "train_pred1=regressor1.predict(X_train1)"
      ],
      "execution_count": null,
      "outputs": []
    },
    {
      "cell_type": "code",
      "metadata": {
        "id": "vFviXrbXL2Lb"
      },
      "source": [
        "# Predicting the Test set results\n",
        "y_pred1 = regressor1.predict(X_test1)"
      ],
      "execution_count": null,
      "outputs": []
    },
    {
      "cell_type": "code",
      "metadata": {
        "colab": {
          "base_uri": "https://localhost:8080/"
        },
        "id": "OV38u1hKLceT",
        "outputId": "1912909b-0d59-479a-a2db-31410a4129a2"
      },
      "source": [
        "print(\"Training Accuracy :\", regressor1.score(X_train1,y_train))\n",
        "print(\"Testing Accuracy :\", r2_score(y_test,y_pred1))"
      ],
      "execution_count": null,
      "outputs": [
        {
          "output_type": "stream",
          "name": "stdout",
          "text": [
            "Training Accuracy : 0.5721598393496892\n",
            "Testing Accuracy : 0.40685455173260077\n"
          ]
        }
      ]
    },
    {
      "cell_type": "code",
      "metadata": {
        "colab": {
          "base_uri": "https://localhost:8080/"
        },
        "id": "nQot85XGMCR4",
        "outputId": "9f11dbc4-976e-46f6-a576-bf39aadf923b"
      },
      "source": [
        "print(\"Training Error :\", np.sqrt(mean_squared_error(y_train, train_pred1)))\n",
        "print(\"Testing Error :\", np.sqrt(mean_squared_error(y_test, y_pred1)))"
      ],
      "execution_count": null,
      "outputs": [
        {
          "output_type": "stream",
          "name": "stdout",
          "text": [
            "Training Error : 69.76606851821995\n",
            "Testing Error : 95.5044932547031\n"
          ]
        }
      ]
    },
    {
      "cell_type": "markdown",
      "metadata": {
        "id": "vnVD2QEVoxWb"
      },
      "source": [
        "###**Use Standardization**"
      ]
    },
    {
      "cell_type": "code",
      "metadata": {
        "colab": {
          "base_uri": "https://localhost:8080/",
          "height": 226
        },
        "id": "tu4xm4XJpDNO",
        "outputId": "1454c714-5bb7-4389-9fda-95821a50d39c"
      },
      "source": [
        "from sklearn.preprocessing import StandardScaler\n",
        "std_scaler_object = preprocessing.StandardScaler()\n",
        "X_train2 = std_scaler_object.fit_transform(X_train)\n",
        "X_train2 = pd.DataFrame(X_train2 , columns = columnNames)\n",
        "X_train2.head()"
      ],
      "execution_count": null,
      "outputs": [
        {
          "output_type": "execute_result",
          "data": {
            "text/html": [
              "<div>\n",
              "<style scoped>\n",
              "    .dataframe tbody tr th:only-of-type {\n",
              "        vertical-align: middle;\n",
              "    }\n",
              "\n",
              "    .dataframe tbody tr th {\n",
              "        vertical-align: top;\n",
              "    }\n",
              "\n",
              "    .dataframe thead th {\n",
              "        text-align: right;\n",
              "    }\n",
              "</style>\n",
              "<table border=\"1\" class=\"dataframe\">\n",
              "  <thead>\n",
              "    <tr style=\"text-align: right;\">\n",
              "      <th></th>\n",
              "      <th>CancellationPolicy</th>\n",
              "      <th>Accommodates</th>\n",
              "      <th>RoomType</th>\n",
              "      <th>Bathrooms</th>\n",
              "      <th>Bedrooms</th>\n",
              "      <th>CleaningFee</th>\n",
              "      <th>ReviewRating</th>\n",
              "      <th>District_Brooklyn</th>\n",
              "      <th>District_Manhattan</th>\n",
              "      <th>District_Queens</th>\n",
              "      <th>Neighborhood_0</th>\n",
              "      <th>Neighborhood_1</th>\n",
              "      <th>Neighborhood_2</th>\n",
              "      <th>Neighborhood_3</th>\n",
              "      <th>Neighborhood_4</th>\n",
              "      <th>Neighborhood_5</th>\n",
              "      <th>PropertyType_0</th>\n",
              "      <th>PropertyType_1</th>\n",
              "      <th>PropertyType_2</th>\n",
              "      <th>PropertyType_3</th>\n",
              "      <th>PropertyType_4</th>\n",
              "    </tr>\n",
              "  </thead>\n",
              "  <tbody>\n",
              "    <tr>\n",
              "      <th>0</th>\n",
              "      <td>0.835234</td>\n",
              "      <td>-0.520825</td>\n",
              "      <td>0.977669</td>\n",
              "      <td>-0.262179</td>\n",
              "      <td>-0.118427</td>\n",
              "      <td>0.002772</td>\n",
              "      <td>0.708883</td>\n",
              "      <td>-0.108367</td>\n",
              "      <td>0.14155</td>\n",
              "      <td>-0.088309</td>\n",
              "      <td>-0.177832</td>\n",
              "      <td>-0.387166</td>\n",
              "      <td>-0.782486</td>\n",
              "      <td>-0.894248</td>\n",
              "      <td>0.825640</td>\n",
              "      <td>0.845672</td>\n",
              "      <td>-0.017254</td>\n",
              "      <td>-0.104069</td>\n",
              "      <td>-0.186551</td>\n",
              "      <td>-0.153148</td>\n",
              "      <td>0.208514</td>\n",
              "    </tr>\n",
              "    <tr>\n",
              "      <th>1</th>\n",
              "      <td>-1.629751</td>\n",
              "      <td>0.730943</td>\n",
              "      <td>-0.828251</td>\n",
              "      <td>-0.262179</td>\n",
              "      <td>-0.118427</td>\n",
              "      <td>-0.987542</td>\n",
              "      <td>0.484392</td>\n",
              "      <td>-0.108367</td>\n",
              "      <td>0.14155</td>\n",
              "      <td>-0.088309</td>\n",
              "      <td>-0.177832</td>\n",
              "      <td>-0.387166</td>\n",
              "      <td>-0.782486</td>\n",
              "      <td>-0.894248</td>\n",
              "      <td>0.825640</td>\n",
              "      <td>0.845672</td>\n",
              "      <td>-0.017254</td>\n",
              "      <td>-0.104069</td>\n",
              "      <td>-0.186551</td>\n",
              "      <td>-0.153148</td>\n",
              "      <td>0.208514</td>\n",
              "    </tr>\n",
              "    <tr>\n",
              "      <th>2</th>\n",
              "      <td>-0.397259</td>\n",
              "      <td>-0.520825</td>\n",
              "      <td>0.977669</td>\n",
              "      <td>1.410382</td>\n",
              "      <td>-0.118427</td>\n",
              "      <td>-1.122659</td>\n",
              "      <td>0.259901</td>\n",
              "      <td>-0.108367</td>\n",
              "      <td>0.14155</td>\n",
              "      <td>-0.088309</td>\n",
              "      <td>-0.177832</td>\n",
              "      <td>-0.387166</td>\n",
              "      <td>-0.782486</td>\n",
              "      <td>1.118259</td>\n",
              "      <td>0.825640</td>\n",
              "      <td>0.845672</td>\n",
              "      <td>-0.017254</td>\n",
              "      <td>-0.104069</td>\n",
              "      <td>-0.186551</td>\n",
              "      <td>-0.153148</td>\n",
              "      <td>0.208514</td>\n",
              "    </tr>\n",
              "    <tr>\n",
              "      <th>3</th>\n",
              "      <td>-1.629751</td>\n",
              "      <td>-0.520825</td>\n",
              "      <td>0.977669</td>\n",
              "      <td>-0.262179</td>\n",
              "      <td>-0.118427</td>\n",
              "      <td>0.002772</td>\n",
              "      <td>0.484392</td>\n",
              "      <td>-0.108367</td>\n",
              "      <td>0.14155</td>\n",
              "      <td>-0.088309</td>\n",
              "      <td>-0.177832</td>\n",
              "      <td>-0.387166</td>\n",
              "      <td>1.277978</td>\n",
              "      <td>1.118259</td>\n",
              "      <td>-1.211181</td>\n",
              "      <td>0.845672</td>\n",
              "      <td>-0.017254</td>\n",
              "      <td>-0.104069</td>\n",
              "      <td>-0.186551</td>\n",
              "      <td>-0.153148</td>\n",
              "      <td>0.208514</td>\n",
              "    </tr>\n",
              "    <tr>\n",
              "      <th>4</th>\n",
              "      <td>0.835234</td>\n",
              "      <td>-0.520825</td>\n",
              "      <td>0.977669</td>\n",
              "      <td>-0.262179</td>\n",
              "      <td>-0.118427</td>\n",
              "      <td>-1.257776</td>\n",
              "      <td>-0.413571</td>\n",
              "      <td>-0.108367</td>\n",
              "      <td>0.14155</td>\n",
              "      <td>-0.088309</td>\n",
              "      <td>-0.177832</td>\n",
              "      <td>-0.387166</td>\n",
              "      <td>-0.782486</td>\n",
              "      <td>-0.894248</td>\n",
              "      <td>0.825640</td>\n",
              "      <td>-1.182492</td>\n",
              "      <td>-0.017254</td>\n",
              "      <td>-0.104069</td>\n",
              "      <td>-0.186551</td>\n",
              "      <td>-0.153148</td>\n",
              "      <td>0.208514</td>\n",
              "    </tr>\n",
              "  </tbody>\n",
              "</table>\n",
              "</div>"
            ],
            "text/plain": [
              "   CancellationPolicy  Accommodates  ...  PropertyType_3  PropertyType_4\n",
              "0            0.835234     -0.520825  ...       -0.153148        0.208514\n",
              "1           -1.629751      0.730943  ...       -0.153148        0.208514\n",
              "2           -0.397259     -0.520825  ...       -0.153148        0.208514\n",
              "3           -1.629751     -0.520825  ...       -0.153148        0.208514\n",
              "4            0.835234     -0.520825  ...       -0.153148        0.208514\n",
              "\n",
              "[5 rows x 21 columns]"
            ]
          },
          "metadata": {},
          "execution_count": 63
        }
      ]
    },
    {
      "cell_type": "code",
      "metadata": {
        "colab": {
          "base_uri": "https://localhost:8080/",
          "height": 226
        },
        "id": "tW9FMNqOpIIi",
        "outputId": "9b578062-b482-41af-8a38-5849d2cf5694"
      },
      "source": [
        "from sklearn.preprocessing import StandardScaler\n",
        "std_scaler_object = preprocessing.StandardScaler()\n",
        "X_test2 = std_scaler_object.fit_transform(X_test)\n",
        "X_test2 = pd.DataFrame(X_test2 , columns = columnNames)\n",
        "X_test2.head()"
      ],
      "execution_count": null,
      "outputs": [
        {
          "output_type": "execute_result",
          "data": {
            "text/html": [
              "<div>\n",
              "<style scoped>\n",
              "    .dataframe tbody tr th:only-of-type {\n",
              "        vertical-align: middle;\n",
              "    }\n",
              "\n",
              "    .dataframe tbody tr th {\n",
              "        vertical-align: top;\n",
              "    }\n",
              "\n",
              "    .dataframe thead th {\n",
              "        text-align: right;\n",
              "    }\n",
              "</style>\n",
              "<table border=\"1\" class=\"dataframe\">\n",
              "  <thead>\n",
              "    <tr style=\"text-align: right;\">\n",
              "      <th></th>\n",
              "      <th>CancellationPolicy</th>\n",
              "      <th>Accommodates</th>\n",
              "      <th>RoomType</th>\n",
              "      <th>Bathrooms</th>\n",
              "      <th>Bedrooms</th>\n",
              "      <th>CleaningFee</th>\n",
              "      <th>ReviewRating</th>\n",
              "      <th>District_Brooklyn</th>\n",
              "      <th>District_Manhattan</th>\n",
              "      <th>District_Queens</th>\n",
              "      <th>Neighborhood_0</th>\n",
              "      <th>Neighborhood_1</th>\n",
              "      <th>Neighborhood_2</th>\n",
              "      <th>Neighborhood_3</th>\n",
              "      <th>Neighborhood_4</th>\n",
              "      <th>Neighborhood_5</th>\n",
              "      <th>PropertyType_0</th>\n",
              "      <th>PropertyType_1</th>\n",
              "      <th>PropertyType_2</th>\n",
              "      <th>PropertyType_3</th>\n",
              "      <th>PropertyType_4</th>\n",
              "    </tr>\n",
              "  </thead>\n",
              "  <tbody>\n",
              "    <tr>\n",
              "      <th>0</th>\n",
              "      <td>-1.601922</td>\n",
              "      <td>-1.125578</td>\n",
              "      <td>0.945775</td>\n",
              "      <td>-0.296117</td>\n",
              "      <td>-0.100964</td>\n",
              "      <td>0.095861</td>\n",
              "      <td>0.907071</td>\n",
              "      <td>-0.115122</td>\n",
              "      <td>0.152034</td>\n",
              "      <td>-0.091615</td>\n",
              "      <td>-0.192331</td>\n",
              "      <td>-0.367359</td>\n",
              "      <td>-0.738888</td>\n",
              "      <td>1.155903</td>\n",
              "      <td>0.852584</td>\n",
              "      <td>0.846361</td>\n",
              "      <td>0.0</td>\n",
              "      <td>-0.048824</td>\n",
              "      <td>-0.192331</td>\n",
              "      <td>-0.182125</td>\n",
              "      <td>0.217537</td>\n",
              "    </tr>\n",
              "    <tr>\n",
              "      <th>1</th>\n",
              "      <td>0.838688</td>\n",
              "      <td>-0.499513</td>\n",
              "      <td>-0.853766</td>\n",
              "      <td>-0.296117</td>\n",
              "      <td>-1.703052</td>\n",
              "      <td>0.331987</td>\n",
              "      <td>0.643429</td>\n",
              "      <td>-0.115122</td>\n",
              "      <td>0.152034</td>\n",
              "      <td>-0.091615</td>\n",
              "      <td>-0.192331</td>\n",
              "      <td>-0.367359</td>\n",
              "      <td>-0.738888</td>\n",
              "      <td>1.155903</td>\n",
              "      <td>0.852584</td>\n",
              "      <td>0.846361</td>\n",
              "      <td>0.0</td>\n",
              "      <td>-0.048824</td>\n",
              "      <td>-0.192331</td>\n",
              "      <td>-0.182125</td>\n",
              "      <td>0.217537</td>\n",
              "    </tr>\n",
              "    <tr>\n",
              "      <th>2</th>\n",
              "      <td>-0.381617</td>\n",
              "      <td>-0.499513</td>\n",
              "      <td>-0.853766</td>\n",
              "      <td>-0.296117</td>\n",
              "      <td>-0.100964</td>\n",
              "      <td>-0.657351</td>\n",
              "      <td>-0.015674</td>\n",
              "      <td>-0.115122</td>\n",
              "      <td>0.152034</td>\n",
              "      <td>-0.091615</td>\n",
              "      <td>-0.192331</td>\n",
              "      <td>-0.367359</td>\n",
              "      <td>-0.738888</td>\n",
              "      <td>1.155903</td>\n",
              "      <td>-1.172905</td>\n",
              "      <td>-1.181529</td>\n",
              "      <td>0.0</td>\n",
              "      <td>-0.048824</td>\n",
              "      <td>-0.192331</td>\n",
              "      <td>-0.182125</td>\n",
              "      <td>0.217537</td>\n",
              "    </tr>\n",
              "    <tr>\n",
              "      <th>3</th>\n",
              "      <td>-1.601922</td>\n",
              "      <td>-0.499513</td>\n",
              "      <td>0.945775</td>\n",
              "      <td>-0.296117</td>\n",
              "      <td>-0.100964</td>\n",
              "      <td>-1.505355</td>\n",
              "      <td>-0.674778</td>\n",
              "      <td>-0.115122</td>\n",
              "      <td>0.152034</td>\n",
              "      <td>-0.091615</td>\n",
              "      <td>-0.192331</td>\n",
              "      <td>-0.367359</td>\n",
              "      <td>-0.738888</td>\n",
              "      <td>-0.865125</td>\n",
              "      <td>0.852584</td>\n",
              "      <td>0.846361</td>\n",
              "      <td>0.0</td>\n",
              "      <td>-0.048824</td>\n",
              "      <td>-0.192331</td>\n",
              "      <td>-0.182125</td>\n",
              "      <td>0.217537</td>\n",
              "    </tr>\n",
              "    <tr>\n",
              "      <th>4</th>\n",
              "      <td>-1.601922</td>\n",
              "      <td>-0.499513</td>\n",
              "      <td>0.945775</td>\n",
              "      <td>3.150071</td>\n",
              "      <td>-0.100964</td>\n",
              "      <td>0.095861</td>\n",
              "      <td>-0.279316</td>\n",
              "      <td>-0.115122</td>\n",
              "      <td>0.152034</td>\n",
              "      <td>-0.091615</td>\n",
              "      <td>5.199359</td>\n",
              "      <td>-0.367359</td>\n",
              "      <td>-0.738888</td>\n",
              "      <td>1.155903</td>\n",
              "      <td>-1.172905</td>\n",
              "      <td>-1.181529</td>\n",
              "      <td>0.0</td>\n",
              "      <td>-0.048824</td>\n",
              "      <td>-0.192331</td>\n",
              "      <td>-0.182125</td>\n",
              "      <td>0.217537</td>\n",
              "    </tr>\n",
              "  </tbody>\n",
              "</table>\n",
              "</div>"
            ],
            "text/plain": [
              "   CancellationPolicy  Accommodates  ...  PropertyType_3  PropertyType_4\n",
              "0           -1.601922     -1.125578  ...       -0.182125        0.217537\n",
              "1            0.838688     -0.499513  ...       -0.182125        0.217537\n",
              "2           -0.381617     -0.499513  ...       -0.182125        0.217537\n",
              "3           -1.601922     -0.499513  ...       -0.182125        0.217537\n",
              "4           -1.601922     -0.499513  ...       -0.182125        0.217537\n",
              "\n",
              "[5 rows x 21 columns]"
            ]
          },
          "metadata": {},
          "execution_count": 64
        }
      ]
    },
    {
      "cell_type": "code",
      "metadata": {
        "id": "av55l83aMbYw"
      },
      "source": [
        "# Fitting Multiple Linear Regression to the Training set\n",
        "from sklearn.linear_model import LinearRegression\n",
        "regressor2 = LinearRegression()\n",
        "model2=regressor2.fit(X_train2, y_train)"
      ],
      "execution_count": null,
      "outputs": []
    },
    {
      "cell_type": "code",
      "metadata": {
        "id": "5JDY4NdMMyl8"
      },
      "source": [
        "train_pred2=regressor2.predict(X_train2)"
      ],
      "execution_count": null,
      "outputs": []
    },
    {
      "cell_type": "code",
      "metadata": {
        "id": "2ZU_-5BQNfPC"
      },
      "source": [
        "# Predicting the Test set results\n",
        "y_pred2 = regressor2.predict(X_test2)"
      ],
      "execution_count": null,
      "outputs": []
    },
    {
      "cell_type": "code",
      "metadata": {
        "colab": {
          "base_uri": "https://localhost:8080/"
        },
        "id": "GhMaIuqLNoMN",
        "outputId": "739705d7-128b-4d18-a5f9-b156d0268b4c"
      },
      "source": [
        "print(\"Training Accuracy :\", regressor2.score(X_train2,y_train))\n",
        "print(\"Testing Accuracy :\", r2_score(y_test,y_pred2))"
      ],
      "execution_count": null,
      "outputs": [
        {
          "output_type": "stream",
          "name": "stdout",
          "text": [
            "Training Accuracy : 0.5721598393496892\n",
            "Testing Accuracy : 0.5506511543288612\n"
          ]
        }
      ]
    },
    {
      "cell_type": "code",
      "metadata": {
        "colab": {
          "base_uri": "https://localhost:8080/"
        },
        "id": "gdkIsow5NyTo",
        "outputId": "3a9e1c28-412a-430f-efc8-e67324c5d987"
      },
      "source": [
        "print(\"Training Error :\", np.sqrt(mean_squared_error(y_train, train_pred2)))\n",
        "print(\"Testing Error :\", np.sqrt(mean_squared_error(y_test, y_pred2)))"
      ],
      "execution_count": null,
      "outputs": [
        {
          "output_type": "stream",
          "name": "stdout",
          "text": [
            "Training Error : 69.76606851821997\n",
            "Testing Error : 83.12564319675501\n"
          ]
        }
      ]
    },
    {
      "cell_type": "markdown",
      "metadata": {
        "id": "9cDLMfwZ3C9O"
      },
      "source": [
        "###**Here, we do not scale the data as both Normalization and Sandardization have not improved the Testing accuracy.**"
      ]
    },
    {
      "cell_type": "code",
      "metadata": {
        "id": "ltfv9aVr-Exm"
      },
      "source": [
        "from google.colab import files\n",
        "df.to_csv(\"gdrive/My Drive/Datasets/Room Price Prediction/Room_Price_Data_Preprocessed.csv\", index = False)"
      ],
      "execution_count": null,
      "outputs": []
    }
  ]
}
