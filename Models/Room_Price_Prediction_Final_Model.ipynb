{
  "nbformat": 4,
  "nbformat_minor": 0,
  "metadata": {
    "colab": {
      "name": "001D_Indi_Regression_Project_predicting _Room_Prices_for_given_Customer_Data.ipynb",
      "provenance": [],
      "collapsed_sections": [],
      "include_colab_link": true
    },
    "kernelspec": {
      "display_name": "Python 3",
      "language": "python",
      "name": "python3"
    },
    "language_info": {
      "codemirror_mode": {
        "name": "ipython",
        "version": 3
      },
      "file_extension": ".py",
      "mimetype": "text/x-python",
      "name": "python",
      "nbconvert_exporter": "python",
      "pygments_lexer": "ipython3",
      "version": "3.7.3"
    }
  },
  "cells": [
    {
      "cell_type": "markdown",
      "metadata": {
        "id": "view-in-github",
        "colab_type": "text"
      },
      "source": [
        "<a href=\"https://colab.research.google.com/github/Adizcool/Room_Price_Prediction/blob/main/001D_Indi_Regression_Project_predicting__Room_Prices_for_given_Customer_Data.ipynb\" target=\"_parent\"><img src=\"https://colab.research.google.com/assets/colab-badge.svg\" alt=\"Open In Colab\"/></a>"
      ]
    },
    {
      "cell_type": "markdown",
      "metadata": {
        "id": "2GngkOcP4Pxi"
      },
      "source": [
        "**1) Install/ Import the required Python Packages/ Libraries**"
      ]
    },
    {
      "cell_type": "code",
      "metadata": {
        "id": "PJZqCSntal9U"
      },
      "source": [
        "#Import required python packages\n",
        "import pandas as pd\n",
        "import numpy as np\n",
        "import matplotlib.pyplot as plt\n",
        "import seaborn as sb\n",
        "from sklearn.metrics import mean_squared_error, r2_score\n",
        "from sklearn.model_selection import cross_val_score\n",
        "from sklearn.linear_model import Ridge\n",
        "import warnings\n",
        "warnings.filterwarnings(\"ignore\")\n",
        "from sklearn import preprocessing\n",
        "%matplotlib inline"
      ],
      "execution_count": 1,
      "outputs": []
    },
    {
      "cell_type": "code",
      "metadata": {
        "colab": {
          "base_uri": "https://localhost:8080/"
        },
        "id": "e8R-PbpQWsL4",
        "outputId": "1cd89326-bb1e-4caf-ba3c-a407044f1e8d"
      },
      "source": [
        "pip install category_encoders"
      ],
      "execution_count": 2,
      "outputs": [
        {
          "output_type": "stream",
          "name": "stdout",
          "text": [
            "Collecting category_encoders\n",
            "  Downloading category_encoders-2.3.0-py2.py3-none-any.whl (82 kB)\n",
            "\u001b[?25l\r\u001b[K     |████                            | 10 kB 18.7 MB/s eta 0:00:01\r\u001b[K     |████████                        | 20 kB 16.4 MB/s eta 0:00:01\r\u001b[K     |████████████                    | 30 kB 10.5 MB/s eta 0:00:01\r\u001b[K     |████████████████                | 40 kB 9.1 MB/s eta 0:00:01\r\u001b[K     |████████████████████            | 51 kB 5.6 MB/s eta 0:00:01\r\u001b[K     |████████████████████████        | 61 kB 5.3 MB/s eta 0:00:01\r\u001b[K     |████████████████████████████    | 71 kB 5.4 MB/s eta 0:00:01\r\u001b[K     |███████████████████████████████▉| 81 kB 5.9 MB/s eta 0:00:01\r\u001b[K     |████████████████████████████████| 82 kB 247 kB/s \n",
            "\u001b[?25hRequirement already satisfied: statsmodels>=0.9.0 in /usr/local/lib/python3.7/dist-packages (from category_encoders) (0.10.2)\n",
            "Requirement already satisfied: scipy>=1.0.0 in /usr/local/lib/python3.7/dist-packages (from category_encoders) (1.4.1)\n",
            "Requirement already satisfied: numpy>=1.14.0 in /usr/local/lib/python3.7/dist-packages (from category_encoders) (1.19.5)\n",
            "Requirement already satisfied: patsy>=0.5.1 in /usr/local/lib/python3.7/dist-packages (from category_encoders) (0.5.2)\n",
            "Requirement already satisfied: pandas>=0.21.1 in /usr/local/lib/python3.7/dist-packages (from category_encoders) (1.1.5)\n",
            "Requirement already satisfied: scikit-learn>=0.20.0 in /usr/local/lib/python3.7/dist-packages (from category_encoders) (1.0.1)\n",
            "Requirement already satisfied: pytz>=2017.2 in /usr/local/lib/python3.7/dist-packages (from pandas>=0.21.1->category_encoders) (2018.9)\n",
            "Requirement already satisfied: python-dateutil>=2.7.3 in /usr/local/lib/python3.7/dist-packages (from pandas>=0.21.1->category_encoders) (2.8.2)\n",
            "Requirement already satisfied: six in /usr/local/lib/python3.7/dist-packages (from patsy>=0.5.1->category_encoders) (1.15.0)\n",
            "Requirement already satisfied: joblib>=0.11 in /usr/local/lib/python3.7/dist-packages (from scikit-learn>=0.20.0->category_encoders) (1.1.0)\n",
            "Requirement already satisfied: threadpoolctl>=2.0.0 in /usr/local/lib/python3.7/dist-packages (from scikit-learn>=0.20.0->category_encoders) (3.0.0)\n",
            "Installing collected packages: category-encoders\n",
            "Successfully installed category-encoders-2.3.0\n"
          ]
        }
      ]
    },
    {
      "cell_type": "markdown",
      "metadata": {
        "id": "AglVkOKL4WLi"
      },
      "source": [
        "**2) Mounting the Google Drive**"
      ]
    },
    {
      "cell_type": "code",
      "metadata": {
        "colab": {
          "base_uri": "https://localhost:8080/"
        },
        "id": "puBepcUNbuXJ",
        "outputId": "9fa004a2-e8b8-4162-91a7-21a7b5541040"
      },
      "source": [
        "# Mount the Google Drive\n",
        "from google.colab import drive\n",
        "drive.mount('/content/gdrive')"
      ],
      "execution_count": 3,
      "outputs": [
        {
          "output_type": "stream",
          "name": "stdout",
          "text": [
            "Mounted at /content/gdrive\n"
          ]
        }
      ]
    },
    {
      "cell_type": "markdown",
      "metadata": {
        "id": "Y3DiPDcD4eDR"
      },
      "source": [
        "**3) Read the Data file and check**"
      ]
    },
    {
      "cell_type": "code",
      "metadata": {
        "colab": {
          "base_uri": "https://localhost:8080/",
          "height": 223
        },
        "id": "aIhTjhU0al9e",
        "outputId": "274d8ad8-fedc-43bc-d0cd-61cd81ca87c8"
      },
      "source": [
        "# Read the Diabetes Data from .csv file and check the data shape (number of Rows and Columns)\n",
        "train_df = pd.read_csv('gdrive/My Drive/Datasets/Room Price Prediction/Room_Price_Training_Data.csv')\n",
        "print(train_df.shape)\n",
        "train_df.head()"
      ],
      "execution_count": 4,
      "outputs": [
        {
          "output_type": "stream",
          "name": "stdout",
          "text": [
            "(4201, 14)\n"
          ]
        },
        {
          "output_type": "execute_result",
          "data": {
            "text/html": [
              "<div>\n",
              "<style scoped>\n",
              "    .dataframe tbody tr th:only-of-type {\n",
              "        vertical-align: middle;\n",
              "    }\n",
              "\n",
              "    .dataframe tbody tr th {\n",
              "        vertical-align: top;\n",
              "    }\n",
              "\n",
              "    .dataframe thead th {\n",
              "        text-align: right;\n",
              "    }\n",
              "</style>\n",
              "<table border=\"1\" class=\"dataframe\">\n",
              "  <thead>\n",
              "    <tr style=\"text-align: right;\">\n",
              "      <th></th>\n",
              "      <th>ID</th>\n",
              "      <th>District</th>\n",
              "      <th>Neighborhood</th>\n",
              "      <th>PropertyType</th>\n",
              "      <th>CancellationPolicy</th>\n",
              "      <th>Accommodates</th>\n",
              "      <th>RoomType</th>\n",
              "      <th>Bathrooms</th>\n",
              "      <th>Bedrooms</th>\n",
              "      <th>CleaningFee</th>\n",
              "      <th>Latitude</th>\n",
              "      <th>Longitude</th>\n",
              "      <th>ReviewRating</th>\n",
              "      <th>Price</th>\n",
              "    </tr>\n",
              "  </thead>\n",
              "  <tbody>\n",
              "    <tr>\n",
              "      <th>0</th>\n",
              "      <td>5300082</td>\n",
              "      <td>Manhattan</td>\n",
              "      <td>East Village</td>\n",
              "      <td>Apartment</td>\n",
              "      <td>strict</td>\n",
              "      <td>2</td>\n",
              "      <td>Entire home/apt</td>\n",
              "      <td>1.0</td>\n",
              "      <td>0.0</td>\n",
              "      <td>75.000000</td>\n",
              "      <td>40.729555</td>\n",
              "      <td>-73.981665</td>\n",
              "      <td>86.0</td>\n",
              "      <td>160.0</td>\n",
              "    </tr>\n",
              "    <tr>\n",
              "      <th>1</th>\n",
              "      <td>17634206</td>\n",
              "      <td>Manhattan</td>\n",
              "      <td>Hell's Kitchen</td>\n",
              "      <td>Apartment</td>\n",
              "      <td>flexible</td>\n",
              "      <td>2</td>\n",
              "      <td>Entire home/apt</td>\n",
              "      <td>1.0</td>\n",
              "      <td>1.0</td>\n",
              "      <td>66.646525</td>\n",
              "      <td>40.766988</td>\n",
              "      <td>-73.984802</td>\n",
              "      <td>100.0</td>\n",
              "      <td>130.0</td>\n",
              "    </tr>\n",
              "    <tr>\n",
              "      <th>2</th>\n",
              "      <td>4025329</td>\n",
              "      <td>Manhattan</td>\n",
              "      <td>Harlem</td>\n",
              "      <td>Apartment</td>\n",
              "      <td>strict</td>\n",
              "      <td>4</td>\n",
              "      <td>Entire home/apt</td>\n",
              "      <td>1.0</td>\n",
              "      <td>0.0</td>\n",
              "      <td>69.000000</td>\n",
              "      <td>40.815859</td>\n",
              "      <td>-73.941165</td>\n",
              "      <td>91.0</td>\n",
              "      <td>129.0</td>\n",
              "    </tr>\n",
              "    <tr>\n",
              "      <th>3</th>\n",
              "      <td>10096773</td>\n",
              "      <td>Manhattan</td>\n",
              "      <td>Chelsea</td>\n",
              "      <td>Apartment</td>\n",
              "      <td>flexible</td>\n",
              "      <td>2</td>\n",
              "      <td>Entire home/apt</td>\n",
              "      <td>1.0</td>\n",
              "      <td>1.0</td>\n",
              "      <td>60.000000</td>\n",
              "      <td>40.745773</td>\n",
              "      <td>-74.000744</td>\n",
              "      <td>100.0</td>\n",
              "      <td>145.0</td>\n",
              "    </tr>\n",
              "    <tr>\n",
              "      <th>4</th>\n",
              "      <td>11616592</td>\n",
              "      <td>Manhattan</td>\n",
              "      <td>West Village</td>\n",
              "      <td>Apartment</td>\n",
              "      <td>strict</td>\n",
              "      <td>9</td>\n",
              "      <td>Entire home/apt</td>\n",
              "      <td>2.5</td>\n",
              "      <td>3.0</td>\n",
              "      <td>160.000000</td>\n",
              "      <td>40.737583</td>\n",
              "      <td>-74.005531</td>\n",
              "      <td>94.0</td>\n",
              "      <td>399.0</td>\n",
              "    </tr>\n",
              "  </tbody>\n",
              "</table>\n",
              "</div>"
            ],
            "text/plain": [
              "         ID   District    Neighborhood  ...  Longitude ReviewRating  Price\n",
              "0   5300082  Manhattan    East Village  ... -73.981665         86.0  160.0\n",
              "1  17634206  Manhattan  Hell's Kitchen  ... -73.984802        100.0  130.0\n",
              "2   4025329  Manhattan          Harlem  ... -73.941165         91.0  129.0\n",
              "3  10096773  Manhattan         Chelsea  ... -74.000744        100.0  145.0\n",
              "4  11616592  Manhattan    West Village  ... -74.005531         94.0  399.0\n",
              "\n",
              "[5 rows x 14 columns]"
            ]
          },
          "metadata": {},
          "execution_count": 4
        }
      ]
    },
    {
      "cell_type": "code",
      "metadata": {
        "colab": {
          "base_uri": "https://localhost:8080/"
        },
        "id": "aO0yV4NwTASh",
        "outputId": "ffbb44f0-15f1-47e2-b116-2189845c149b"
      },
      "source": [
        "train_df.info()"
      ],
      "execution_count": 5,
      "outputs": [
        {
          "output_type": "stream",
          "name": "stdout",
          "text": [
            "<class 'pandas.core.frame.DataFrame'>\n",
            "RangeIndex: 4201 entries, 0 to 4200\n",
            "Data columns (total 14 columns):\n",
            " #   Column              Non-Null Count  Dtype  \n",
            "---  ------              --------------  -----  \n",
            " 0   ID                  4201 non-null   int64  \n",
            " 1   District            4201 non-null   object \n",
            " 2   Neighborhood        4201 non-null   object \n",
            " 3   PropertyType        4201 non-null   object \n",
            " 4   CancellationPolicy  4201 non-null   object \n",
            " 5   Accommodates        4201 non-null   int64  \n",
            " 6   RoomType            4201 non-null   object \n",
            " 7   Bathrooms           4201 non-null   float64\n",
            " 8   Bedrooms            4201 non-null   float64\n",
            " 9   CleaningFee         4201 non-null   float64\n",
            " 10  Latitude            4201 non-null   float64\n",
            " 11  Longitude           4201 non-null   float64\n",
            " 12  ReviewRating        4201 non-null   float64\n",
            " 13  Price               4201 non-null   float64\n",
            "dtypes: float64(7), int64(2), object(5)\n",
            "memory usage: 459.6+ KB\n"
          ]
        }
      ]
    },
    {
      "cell_type": "code",
      "metadata": {
        "colab": {
          "base_uri": "https://localhost:8080/",
          "height": 223
        },
        "id": "n4-fTW4XyZyi",
        "outputId": "ecbfbb7e-51dc-4e0d-e4a2-b110a6ae4fd5"
      },
      "source": [
        "# Read the Diabetes Data from .csv file and check the data shape (number of Rows and Columns)\n",
        "test_df = pd.read_csv('gdrive/My Drive/Datasets/Room Price Prediction/Room_Price_Customer_Data.csv')\n",
        "print(test_df.shape)\n",
        "test_df.head()"
      ],
      "execution_count": 6,
      "outputs": [
        {
          "output_type": "stream",
          "name": "stdout",
          "text": [
            "(1400, 13)\n"
          ]
        },
        {
          "output_type": "execute_result",
          "data": {
            "text/html": [
              "<div>\n",
              "<style scoped>\n",
              "    .dataframe tbody tr th:only-of-type {\n",
              "        vertical-align: middle;\n",
              "    }\n",
              "\n",
              "    .dataframe tbody tr th {\n",
              "        vertical-align: top;\n",
              "    }\n",
              "\n",
              "    .dataframe thead th {\n",
              "        text-align: right;\n",
              "    }\n",
              "</style>\n",
              "<table border=\"1\" class=\"dataframe\">\n",
              "  <thead>\n",
              "    <tr style=\"text-align: right;\">\n",
              "      <th></th>\n",
              "      <th>ID</th>\n",
              "      <th>District</th>\n",
              "      <th>Neighborhood</th>\n",
              "      <th>PropertyType</th>\n",
              "      <th>CancellationPolicy</th>\n",
              "      <th>Accommodates</th>\n",
              "      <th>RoomType</th>\n",
              "      <th>Bathrooms</th>\n",
              "      <th>Bedrooms</th>\n",
              "      <th>CleaningFee</th>\n",
              "      <th>Latitude</th>\n",
              "      <th>Longitude</th>\n",
              "      <th>ReviewRating</th>\n",
              "    </tr>\n",
              "  </thead>\n",
              "  <tbody>\n",
              "    <tr>\n",
              "      <th>0</th>\n",
              "      <td>8760775</td>\n",
              "      <td>Manhattan</td>\n",
              "      <td>Murray Hill</td>\n",
              "      <td>Apartment</td>\n",
              "      <td>flexible</td>\n",
              "      <td>1</td>\n",
              "      <td>Private room</td>\n",
              "      <td>1.0</td>\n",
              "      <td>1.0</td>\n",
              "      <td>63.827637</td>\n",
              "      <td>40.749400</td>\n",
              "      <td>-73.978226</td>\n",
              "      <td>95.0</td>\n",
              "    </tr>\n",
              "    <tr>\n",
              "      <th>1</th>\n",
              "      <td>16425551</td>\n",
              "      <td>Manhattan</td>\n",
              "      <td>Chinatown</td>\n",
              "      <td>Apartment</td>\n",
              "      <td>flexible</td>\n",
              "      <td>1</td>\n",
              "      <td>Private room</td>\n",
              "      <td>1.0</td>\n",
              "      <td>1.0</td>\n",
              "      <td>35.000000</td>\n",
              "      <td>40.716220</td>\n",
              "      <td>-73.991230</td>\n",
              "      <td>95.0</td>\n",
              "    </tr>\n",
              "    <tr>\n",
              "      <th>2</th>\n",
              "      <td>15043585</td>\n",
              "      <td>Manhattan</td>\n",
              "      <td>Hell's Kitchen</td>\n",
              "      <td>Apartment</td>\n",
              "      <td>flexible</td>\n",
              "      <td>2</td>\n",
              "      <td>Private room</td>\n",
              "      <td>1.0</td>\n",
              "      <td>1.0</td>\n",
              "      <td>63.827637</td>\n",
              "      <td>40.761096</td>\n",
              "      <td>-73.987602</td>\n",
              "      <td>90.0</td>\n",
              "    </tr>\n",
              "    <tr>\n",
              "      <th>3</th>\n",
              "      <td>16516930</td>\n",
              "      <td>Manhattan</td>\n",
              "      <td>Gramercy</td>\n",
              "      <td>Apartment</td>\n",
              "      <td>strict</td>\n",
              "      <td>6</td>\n",
              "      <td>Entire home/apt</td>\n",
              "      <td>1.0</td>\n",
              "      <td>3.0</td>\n",
              "      <td>150.000000</td>\n",
              "      <td>40.736475</td>\n",
              "      <td>-73.985136</td>\n",
              "      <td>60.0</td>\n",
              "    </tr>\n",
              "    <tr>\n",
              "      <th>4</th>\n",
              "      <td>1891017</td>\n",
              "      <td>Manhattan</td>\n",
              "      <td>Chelsea</td>\n",
              "      <td>Apartment</td>\n",
              "      <td>strict</td>\n",
              "      <td>2</td>\n",
              "      <td>Entire home/apt</td>\n",
              "      <td>1.0</td>\n",
              "      <td>0.0</td>\n",
              "      <td>69.000000</td>\n",
              "      <td>40.750661</td>\n",
              "      <td>-74.003774</td>\n",
              "      <td>96.0</td>\n",
              "    </tr>\n",
              "  </tbody>\n",
              "</table>\n",
              "</div>"
            ],
            "text/plain": [
              "         ID   District    Neighborhood  ...   Latitude  Longitude  ReviewRating\n",
              "0   8760775  Manhattan     Murray Hill  ...  40.749400 -73.978226          95.0\n",
              "1  16425551  Manhattan       Chinatown  ...  40.716220 -73.991230          95.0\n",
              "2  15043585  Manhattan  Hell's Kitchen  ...  40.761096 -73.987602          90.0\n",
              "3  16516930  Manhattan        Gramercy  ...  40.736475 -73.985136          60.0\n",
              "4   1891017  Manhattan         Chelsea  ...  40.750661 -74.003774          96.0\n",
              "\n",
              "[5 rows x 13 columns]"
            ]
          },
          "metadata": {},
          "execution_count": 6
        }
      ]
    },
    {
      "cell_type": "code",
      "metadata": {
        "colab": {
          "base_uri": "https://localhost:8080/"
        },
        "id": "EcLp9jCLS7qA",
        "outputId": "3b5d28cd-581d-456f-9444-f6e1986ef3e6"
      },
      "source": [
        "test_df.info()"
      ],
      "execution_count": 7,
      "outputs": [
        {
          "output_type": "stream",
          "name": "stdout",
          "text": [
            "<class 'pandas.core.frame.DataFrame'>\n",
            "RangeIndex: 1400 entries, 0 to 1399\n",
            "Data columns (total 13 columns):\n",
            " #   Column              Non-Null Count  Dtype  \n",
            "---  ------              --------------  -----  \n",
            " 0   ID                  1400 non-null   int64  \n",
            " 1   District            1400 non-null   object \n",
            " 2   Neighborhood        1400 non-null   object \n",
            " 3   PropertyType        1400 non-null   object \n",
            " 4   CancellationPolicy  1400 non-null   object \n",
            " 5   Accommodates        1400 non-null   int64  \n",
            " 6   RoomType            1400 non-null   object \n",
            " 7   Bathrooms           1400 non-null   float64\n",
            " 8   Bedrooms            1400 non-null   float64\n",
            " 9   CleaningFee         1400 non-null   float64\n",
            " 10  Latitude            1400 non-null   float64\n",
            " 11  Longitude           1400 non-null   float64\n",
            " 12  ReviewRating        1400 non-null   float64\n",
            "dtypes: float64(6), int64(2), object(5)\n",
            "memory usage: 142.3+ KB\n"
          ]
        }
      ]
    },
    {
      "cell_type": "code",
      "metadata": {
        "id": "HePiuKU7y9Ck"
      },
      "source": [
        "train_df['train']=1\n",
        "test_df['test'] = 0"
      ],
      "execution_count": 8,
      "outputs": []
    },
    {
      "cell_type": "code",
      "metadata": {
        "colab": {
          "base_uri": "https://localhost:8080/"
        },
        "id": "XMXDhI5uzBAU",
        "outputId": "5a646439-30ac-4f94-d605-2c5522021f1d"
      },
      "source": [
        "combined_df  = pd.concat([train_df, test_df])\n",
        "combined_df.shape"
      ],
      "execution_count": 9,
      "outputs": [
        {
          "output_type": "execute_result",
          "data": {
            "text/plain": [
              "(5601, 16)"
            ]
          },
          "metadata": {},
          "execution_count": 9
        }
      ]
    },
    {
      "cell_type": "code",
      "metadata": {
        "colab": {
          "base_uri": "https://localhost:8080/"
        },
        "id": "ErnvSpDOzHx1",
        "outputId": "ec721469-19b9-4db4-c66c-6e102db1d572"
      },
      "source": [
        "combined_df.info()"
      ],
      "execution_count": 10,
      "outputs": [
        {
          "output_type": "stream",
          "name": "stdout",
          "text": [
            "<class 'pandas.core.frame.DataFrame'>\n",
            "Int64Index: 5601 entries, 0 to 1399\n",
            "Data columns (total 16 columns):\n",
            " #   Column              Non-Null Count  Dtype  \n",
            "---  ------              --------------  -----  \n",
            " 0   ID                  5601 non-null   int64  \n",
            " 1   District            5601 non-null   object \n",
            " 2   Neighborhood        5601 non-null   object \n",
            " 3   PropertyType        5601 non-null   object \n",
            " 4   CancellationPolicy  5601 non-null   object \n",
            " 5   Accommodates        5601 non-null   int64  \n",
            " 6   RoomType            5601 non-null   object \n",
            " 7   Bathrooms           5601 non-null   float64\n",
            " 8   Bedrooms            5601 non-null   float64\n",
            " 9   CleaningFee         5601 non-null   float64\n",
            " 10  Latitude            5601 non-null   float64\n",
            " 11  Longitude           5601 non-null   float64\n",
            " 12  ReviewRating        5601 non-null   float64\n",
            " 13  Price               4201 non-null   float64\n",
            " 14  train               4201 non-null   float64\n",
            " 15  test                1400 non-null   float64\n",
            "dtypes: float64(9), int64(2), object(5)\n",
            "memory usage: 743.9+ KB\n"
          ]
        }
      ]
    },
    {
      "cell_type": "markdown",
      "metadata": {
        "id": "H_OB1b4x-rJD"
      },
      "source": [
        "##**VI) Check the unique Values of each column and observe the following and take actions as required:**\n",
        "* **a) Wrong Data in the columns, if any** \n",
        "* **b) Wrong format of the data in the columns, if any**\n",
        "* **c) Identify the columns which need to be categorically converted to numeric values by using Nominal method/ Ordinal Method**\n"
      ]
    },
    {
      "cell_type": "markdown",
      "metadata": {
        "id": "_qqXYj2KAzx0"
      },
      "source": [
        "###**Column-0: ID**"
      ]
    },
    {
      "cell_type": "code",
      "metadata": {
        "colab": {
          "base_uri": "https://localhost:8080/"
        },
        "id": "Xs77a5B0Azx1",
        "outputId": "363dac05-ad59-4f3b-e581-3bcc9e35f138"
      },
      "source": [
        "combined_df['ID'].value_counts()"
      ],
      "execution_count": 11,
      "outputs": [
        {
          "output_type": "execute_result",
          "data": {
            "text/plain": [
              "4859903     1\n",
              "5561046     1\n",
              "16783144    1\n",
              "9845454     1\n",
              "15954639    1\n",
              "           ..\n",
              "3841113     1\n",
              "6554879     1\n",
              "7064935     1\n",
              "15602234    1\n",
              "15720448    1\n",
              "Name: ID, Length: 5601, dtype: int64"
            ]
          },
          "metadata": {},
          "execution_count": 11
        }
      ]
    },
    {
      "cell_type": "markdown",
      "metadata": {
        "id": "L16XC3std8S9"
      },
      "source": [
        "**Observations:**\n",
        "* a) Data in this column will not be contributing to the prediction of the Depenedent variable\n",
        "\n",
        "**Decsion:**\n",
        "\n",
        "**We will be dropping this column**"
      ]
    },
    {
      "cell_type": "code",
      "metadata": {
        "colab": {
          "base_uri": "https://localhost:8080/"
        },
        "id": "I2eDxG1CeArt",
        "outputId": "9baf07c7-6a04-4d95-9788-4e89bb1ef2b0"
      },
      "source": [
        "combined_df.drop(['ID'], axis = 1, inplace = True)\n",
        "combined_df.info()"
      ],
      "execution_count": 12,
      "outputs": [
        {
          "output_type": "stream",
          "name": "stdout",
          "text": [
            "<class 'pandas.core.frame.DataFrame'>\n",
            "Int64Index: 5601 entries, 0 to 1399\n",
            "Data columns (total 15 columns):\n",
            " #   Column              Non-Null Count  Dtype  \n",
            "---  ------              --------------  -----  \n",
            " 0   District            5601 non-null   object \n",
            " 1   Neighborhood        5601 non-null   object \n",
            " 2   PropertyType        5601 non-null   object \n",
            " 3   CancellationPolicy  5601 non-null   object \n",
            " 4   Accommodates        5601 non-null   int64  \n",
            " 5   RoomType            5601 non-null   object \n",
            " 6   Bathrooms           5601 non-null   float64\n",
            " 7   Bedrooms            5601 non-null   float64\n",
            " 8   CleaningFee         5601 non-null   float64\n",
            " 9   Latitude            5601 non-null   float64\n",
            " 10  Longitude           5601 non-null   float64\n",
            " 11  ReviewRating        5601 non-null   float64\n",
            " 12  Price               4201 non-null   float64\n",
            " 13  train               4201 non-null   float64\n",
            " 14  test                1400 non-null   float64\n",
            "dtypes: float64(9), int64(1), object(5)\n",
            "memory usage: 700.1+ KB\n"
          ]
        }
      ]
    },
    {
      "cell_type": "markdown",
      "metadata": {
        "id": "L_bgtMvOAzx4"
      },
      "source": [
        "###**Column-1: District**"
      ]
    },
    {
      "cell_type": "code",
      "metadata": {
        "colab": {
          "base_uri": "https://localhost:8080/"
        },
        "id": "kqTFtwBzAzx4",
        "outputId": "f09ca336-6fda-434c-f69a-8b1cd1a8395f"
      },
      "source": [
        "combined_df['District'].value_counts()"
      ],
      "execution_count": 13,
      "outputs": [
        {
          "output_type": "execute_result",
          "data": {
            "text/plain": [
              "Manhattan    5504\n",
              "Brooklyn       59\n",
              "Queens         36\n",
              "Bronx           2\n",
              "Name: District, dtype: int64"
            ]
          },
          "metadata": {},
          "execution_count": 13
        }
      ]
    },
    {
      "cell_type": "markdown",
      "metadata": {
        "id": "4kpE3XvkUuIc"
      },
      "source": [
        "**Observations:**\n",
        "* a) Data in this column is of \"Object\" or \"String\" datatype. Also, the data levels are \"Nominal\" Type.\n",
        "\n",
        "**Decsion:**\n",
        "\n",
        "**We will be converting the data in this column into Numerical values using Nominal Type method \"pd.get_dummies\".**"
      ]
    },
    {
      "cell_type": "markdown",
      "metadata": {
        "id": "vIbSz9HtgQxr"
      },
      "source": [
        "**Action:**"
      ]
    },
    {
      "cell_type": "code",
      "metadata": {
        "colab": {
          "base_uri": "https://localhost:8080/",
          "height": 423
        },
        "id": "DS7y7AoUgO2I",
        "outputId": "64dc0482-35cf-4258-b716-8ef94210328a"
      },
      "source": [
        "dist = pd.DataFrame(combined_df['District'])\n",
        "dist_encoded = pd.get_dummies(data = dist, drop_first= True)\n",
        "dist_encoded"
      ],
      "execution_count": 14,
      "outputs": [
        {
          "output_type": "execute_result",
          "data": {
            "text/html": [
              "<div>\n",
              "<style scoped>\n",
              "    .dataframe tbody tr th:only-of-type {\n",
              "        vertical-align: middle;\n",
              "    }\n",
              "\n",
              "    .dataframe tbody tr th {\n",
              "        vertical-align: top;\n",
              "    }\n",
              "\n",
              "    .dataframe thead th {\n",
              "        text-align: right;\n",
              "    }\n",
              "</style>\n",
              "<table border=\"1\" class=\"dataframe\">\n",
              "  <thead>\n",
              "    <tr style=\"text-align: right;\">\n",
              "      <th></th>\n",
              "      <th>District_Brooklyn</th>\n",
              "      <th>District_Manhattan</th>\n",
              "      <th>District_Queens</th>\n",
              "    </tr>\n",
              "  </thead>\n",
              "  <tbody>\n",
              "    <tr>\n",
              "      <th>0</th>\n",
              "      <td>0</td>\n",
              "      <td>1</td>\n",
              "      <td>0</td>\n",
              "    </tr>\n",
              "    <tr>\n",
              "      <th>1</th>\n",
              "      <td>0</td>\n",
              "      <td>1</td>\n",
              "      <td>0</td>\n",
              "    </tr>\n",
              "    <tr>\n",
              "      <th>2</th>\n",
              "      <td>0</td>\n",
              "      <td>1</td>\n",
              "      <td>0</td>\n",
              "    </tr>\n",
              "    <tr>\n",
              "      <th>3</th>\n",
              "      <td>0</td>\n",
              "      <td>1</td>\n",
              "      <td>0</td>\n",
              "    </tr>\n",
              "    <tr>\n",
              "      <th>4</th>\n",
              "      <td>0</td>\n",
              "      <td>1</td>\n",
              "      <td>0</td>\n",
              "    </tr>\n",
              "    <tr>\n",
              "      <th>...</th>\n",
              "      <td>...</td>\n",
              "      <td>...</td>\n",
              "      <td>...</td>\n",
              "    </tr>\n",
              "    <tr>\n",
              "      <th>1395</th>\n",
              "      <td>0</td>\n",
              "      <td>1</td>\n",
              "      <td>0</td>\n",
              "    </tr>\n",
              "    <tr>\n",
              "      <th>1396</th>\n",
              "      <td>0</td>\n",
              "      <td>1</td>\n",
              "      <td>0</td>\n",
              "    </tr>\n",
              "    <tr>\n",
              "      <th>1397</th>\n",
              "      <td>0</td>\n",
              "      <td>1</td>\n",
              "      <td>0</td>\n",
              "    </tr>\n",
              "    <tr>\n",
              "      <th>1398</th>\n",
              "      <td>0</td>\n",
              "      <td>1</td>\n",
              "      <td>0</td>\n",
              "    </tr>\n",
              "    <tr>\n",
              "      <th>1399</th>\n",
              "      <td>0</td>\n",
              "      <td>1</td>\n",
              "      <td>0</td>\n",
              "    </tr>\n",
              "  </tbody>\n",
              "</table>\n",
              "<p>5601 rows × 3 columns</p>\n",
              "</div>"
            ],
            "text/plain": [
              "      District_Brooklyn  District_Manhattan  District_Queens\n",
              "0                     0                   1                0\n",
              "1                     0                   1                0\n",
              "2                     0                   1                0\n",
              "3                     0                   1                0\n",
              "4                     0                   1                0\n",
              "...                 ...                 ...              ...\n",
              "1395                  0                   1                0\n",
              "1396                  0                   1                0\n",
              "1397                  0                   1                0\n",
              "1398                  0                   1                0\n",
              "1399                  0                   1                0\n",
              "\n",
              "[5601 rows x 3 columns]"
            ]
          },
          "metadata": {},
          "execution_count": 14
        }
      ]
    },
    {
      "cell_type": "markdown",
      "metadata": {
        "id": "D8uO5iE6Be0e"
      },
      "source": [
        "###**Column-2: Neighborhood**"
      ]
    },
    {
      "cell_type": "code",
      "metadata": {
        "colab": {
          "base_uri": "https://localhost:8080/"
        },
        "id": "6nu0eaAWA5Uq",
        "outputId": "b75010c8-0c37-4378-d2df-a0288410e93d"
      },
      "source": [
        "combined_df['Neighborhood'].value_counts()"
      ],
      "execution_count": 15,
      "outputs": [
        {
          "output_type": "execute_result",
          "data": {
            "text/plain": [
              "Harlem             733\n",
              "East Village       550\n",
              "Upper West Side    495\n",
              "Hell's Kitchen     470\n",
              "Upper East Side    465\n",
              "                  ... \n",
              "Midwood              1\n",
              "Clinton Hill         1\n",
              "Morrisania           1\n",
              "Jackson Heights      1\n",
              "Maspeth              1\n",
              "Name: Neighborhood, Length: 65, dtype: int64"
            ]
          },
          "metadata": {},
          "execution_count": 15
        }
      ]
    },
    {
      "cell_type": "markdown",
      "metadata": {
        "id": "4ztpASBPhtTw"
      },
      "source": [
        "**Observations:**\n",
        "* a) Data in this column is of \"Object\" or \"String\" datatype. Also, the data levels are \"Nominal\" Type.\n",
        "\n",
        "**Decsion:**\n",
        "\n",
        "**We will be converting the data in this column into Numerical values using Nominal Type method \"Binary Encoding\" for minimum number of colunms**"
      ]
    },
    {
      "cell_type": "code",
      "metadata": {
        "id": "5xVuL9QsiJ8h"
      },
      "source": [
        "#create object for binary encoding\n",
        "import category_encoders as ce\n",
        "encoder2 = ce.BinaryEncoder(cols = ['Neighborhood'], return_df = True)"
      ],
      "execution_count": 16,
      "outputs": []
    },
    {
      "cell_type": "code",
      "metadata": {
        "colab": {
          "base_uri": "https://localhost:8080/",
          "height": 423
        },
        "id": "Bjphb6Wai-5y",
        "outputId": "edb195e0-2ea2-4446-83ef-c0f8257d4c96"
      },
      "source": [
        "#fit and transform data\n",
        "neighborhood_encoded = encoder2.fit_transform(combined_df['Neighborhood'])\n",
        "neighborhood_encoded"
      ],
      "execution_count": 17,
      "outputs": [
        {
          "output_type": "execute_result",
          "data": {
            "text/html": [
              "<div>\n",
              "<style scoped>\n",
              "    .dataframe tbody tr th:only-of-type {\n",
              "        vertical-align: middle;\n",
              "    }\n",
              "\n",
              "    .dataframe tbody tr th {\n",
              "        vertical-align: top;\n",
              "    }\n",
              "\n",
              "    .dataframe thead th {\n",
              "        text-align: right;\n",
              "    }\n",
              "</style>\n",
              "<table border=\"1\" class=\"dataframe\">\n",
              "  <thead>\n",
              "    <tr style=\"text-align: right;\">\n",
              "      <th></th>\n",
              "      <th>Neighborhood_0</th>\n",
              "      <th>Neighborhood_1</th>\n",
              "      <th>Neighborhood_2</th>\n",
              "      <th>Neighborhood_3</th>\n",
              "      <th>Neighborhood_4</th>\n",
              "      <th>Neighborhood_5</th>\n",
              "      <th>Neighborhood_6</th>\n",
              "    </tr>\n",
              "  </thead>\n",
              "  <tbody>\n",
              "    <tr>\n",
              "      <th>0</th>\n",
              "      <td>0</td>\n",
              "      <td>0</td>\n",
              "      <td>0</td>\n",
              "      <td>0</td>\n",
              "      <td>0</td>\n",
              "      <td>0</td>\n",
              "      <td>1</td>\n",
              "    </tr>\n",
              "    <tr>\n",
              "      <th>1</th>\n",
              "      <td>0</td>\n",
              "      <td>0</td>\n",
              "      <td>0</td>\n",
              "      <td>0</td>\n",
              "      <td>0</td>\n",
              "      <td>1</td>\n",
              "      <td>0</td>\n",
              "    </tr>\n",
              "    <tr>\n",
              "      <th>2</th>\n",
              "      <td>0</td>\n",
              "      <td>0</td>\n",
              "      <td>0</td>\n",
              "      <td>0</td>\n",
              "      <td>0</td>\n",
              "      <td>1</td>\n",
              "      <td>1</td>\n",
              "    </tr>\n",
              "    <tr>\n",
              "      <th>3</th>\n",
              "      <td>0</td>\n",
              "      <td>0</td>\n",
              "      <td>0</td>\n",
              "      <td>0</td>\n",
              "      <td>1</td>\n",
              "      <td>0</td>\n",
              "      <td>0</td>\n",
              "    </tr>\n",
              "    <tr>\n",
              "      <th>4</th>\n",
              "      <td>0</td>\n",
              "      <td>0</td>\n",
              "      <td>0</td>\n",
              "      <td>0</td>\n",
              "      <td>1</td>\n",
              "      <td>0</td>\n",
              "      <td>1</td>\n",
              "    </tr>\n",
              "    <tr>\n",
              "      <th>...</th>\n",
              "      <td>...</td>\n",
              "      <td>...</td>\n",
              "      <td>...</td>\n",
              "      <td>...</td>\n",
              "      <td>...</td>\n",
              "      <td>...</td>\n",
              "      <td>...</td>\n",
              "    </tr>\n",
              "    <tr>\n",
              "      <th>1395</th>\n",
              "      <td>0</td>\n",
              "      <td>0</td>\n",
              "      <td>0</td>\n",
              "      <td>0</td>\n",
              "      <td>0</td>\n",
              "      <td>0</td>\n",
              "      <td>1</td>\n",
              "    </tr>\n",
              "    <tr>\n",
              "      <th>1396</th>\n",
              "      <td>0</td>\n",
              "      <td>0</td>\n",
              "      <td>1</td>\n",
              "      <td>0</td>\n",
              "      <td>0</td>\n",
              "      <td>1</td>\n",
              "      <td>1</td>\n",
              "    </tr>\n",
              "    <tr>\n",
              "      <th>1397</th>\n",
              "      <td>0</td>\n",
              "      <td>0</td>\n",
              "      <td>0</td>\n",
              "      <td>0</td>\n",
              "      <td>0</td>\n",
              "      <td>1</td>\n",
              "      <td>1</td>\n",
              "    </tr>\n",
              "    <tr>\n",
              "      <th>1398</th>\n",
              "      <td>0</td>\n",
              "      <td>0</td>\n",
              "      <td>0</td>\n",
              "      <td>1</td>\n",
              "      <td>1</td>\n",
              "      <td>0</td>\n",
              "      <td>1</td>\n",
              "    </tr>\n",
              "    <tr>\n",
              "      <th>1399</th>\n",
              "      <td>0</td>\n",
              "      <td>0</td>\n",
              "      <td>0</td>\n",
              "      <td>1</td>\n",
              "      <td>1</td>\n",
              "      <td>0</td>\n",
              "      <td>1</td>\n",
              "    </tr>\n",
              "  </tbody>\n",
              "</table>\n",
              "<p>5601 rows × 7 columns</p>\n",
              "</div>"
            ],
            "text/plain": [
              "      Neighborhood_0  Neighborhood_1  ...  Neighborhood_5  Neighborhood_6\n",
              "0                  0               0  ...               0               1\n",
              "1                  0               0  ...               1               0\n",
              "2                  0               0  ...               1               1\n",
              "3                  0               0  ...               0               0\n",
              "4                  0               0  ...               0               1\n",
              "...              ...             ...  ...             ...             ...\n",
              "1395               0               0  ...               0               1\n",
              "1396               0               0  ...               1               1\n",
              "1397               0               0  ...               1               1\n",
              "1398               0               0  ...               0               1\n",
              "1399               0               0  ...               0               1\n",
              "\n",
              "[5601 rows x 7 columns]"
            ]
          },
          "metadata": {},
          "execution_count": 17
        }
      ]
    },
    {
      "cell_type": "markdown",
      "metadata": {
        "id": "jYoEuHC5BsP0"
      },
      "source": [
        "###**Column-3: Property Type**"
      ]
    },
    {
      "cell_type": "code",
      "metadata": {
        "colab": {
          "base_uri": "https://localhost:8080/"
        },
        "id": "msTlf88rB8tf",
        "outputId": "4b479cb3-4ff0-404b-e42f-2ac6dce4cb3b"
      },
      "source": [
        "combined_df['PropertyType'].value_counts()"
      ],
      "execution_count": 18,
      "outputs": [
        {
          "output_type": "execute_result",
          "data": {
            "text/plain": [
              "Apartment          5285\n",
              "House                81\n",
              "Loft                 71\n",
              "Townhouse            53\n",
              "Condominium          48\n",
              "Other                28\n",
              "Bed & Breakfast      13\n",
              "Timeshare             8\n",
              "Hostel                4\n",
              "Dorm                  2\n",
              "Guesthouse            2\n",
              "Vacation home         1\n",
              "Bungalow              1\n",
              "Boutique hotel        1\n",
              "Lighthouse            1\n",
              "Villa                 1\n",
              "Hut                   1\n",
              "Name: PropertyType, dtype: int64"
            ]
          },
          "metadata": {},
          "execution_count": 18
        }
      ]
    },
    {
      "cell_type": "markdown",
      "metadata": {
        "id": "VaxYUUu5jt5w"
      },
      "source": [
        "**Observations:**\n",
        "* a) Data in this column is of \"Object\" or \"String\" datatype. Also, the data levels are \"Nominal\" Type.\n",
        "\n",
        "**Decsion:**\n",
        "\n",
        "**We will be converting the data in this column into Numerical values using Nominal Type method \"Binary Encoding\" for minimum number of colunms**"
      ]
    },
    {
      "cell_type": "code",
      "metadata": {
        "id": "GY_5LCOtj0X2"
      },
      "source": [
        "#create object for binary encoding\n",
        "import category_encoders as ce\n",
        "encoder2 = ce.BinaryEncoder(cols = ['PropertyType'], return_df = True)"
      ],
      "execution_count": 19,
      "outputs": []
    },
    {
      "cell_type": "code",
      "metadata": {
        "colab": {
          "base_uri": "https://localhost:8080/",
          "height": 423
        },
        "id": "l0gbdT6bj2-N",
        "outputId": "de73d04f-2e81-4bbb-bc92-b4fc12495fc7"
      },
      "source": [
        "#fit and transform data\n",
        "propertytype_encoded = encoder2.fit_transform(combined_df['PropertyType'])\n",
        "propertytype_encoded"
      ],
      "execution_count": 20,
      "outputs": [
        {
          "output_type": "execute_result",
          "data": {
            "text/html": [
              "<div>\n",
              "<style scoped>\n",
              "    .dataframe tbody tr th:only-of-type {\n",
              "        vertical-align: middle;\n",
              "    }\n",
              "\n",
              "    .dataframe tbody tr th {\n",
              "        vertical-align: top;\n",
              "    }\n",
              "\n",
              "    .dataframe thead th {\n",
              "        text-align: right;\n",
              "    }\n",
              "</style>\n",
              "<table border=\"1\" class=\"dataframe\">\n",
              "  <thead>\n",
              "    <tr style=\"text-align: right;\">\n",
              "      <th></th>\n",
              "      <th>PropertyType_0</th>\n",
              "      <th>PropertyType_1</th>\n",
              "      <th>PropertyType_2</th>\n",
              "      <th>PropertyType_3</th>\n",
              "      <th>PropertyType_4</th>\n",
              "    </tr>\n",
              "  </thead>\n",
              "  <tbody>\n",
              "    <tr>\n",
              "      <th>0</th>\n",
              "      <td>0</td>\n",
              "      <td>0</td>\n",
              "      <td>0</td>\n",
              "      <td>0</td>\n",
              "      <td>1</td>\n",
              "    </tr>\n",
              "    <tr>\n",
              "      <th>1</th>\n",
              "      <td>0</td>\n",
              "      <td>0</td>\n",
              "      <td>0</td>\n",
              "      <td>0</td>\n",
              "      <td>1</td>\n",
              "    </tr>\n",
              "    <tr>\n",
              "      <th>2</th>\n",
              "      <td>0</td>\n",
              "      <td>0</td>\n",
              "      <td>0</td>\n",
              "      <td>0</td>\n",
              "      <td>1</td>\n",
              "    </tr>\n",
              "    <tr>\n",
              "      <th>3</th>\n",
              "      <td>0</td>\n",
              "      <td>0</td>\n",
              "      <td>0</td>\n",
              "      <td>0</td>\n",
              "      <td>1</td>\n",
              "    </tr>\n",
              "    <tr>\n",
              "      <th>4</th>\n",
              "      <td>0</td>\n",
              "      <td>0</td>\n",
              "      <td>0</td>\n",
              "      <td>0</td>\n",
              "      <td>1</td>\n",
              "    </tr>\n",
              "    <tr>\n",
              "      <th>...</th>\n",
              "      <td>...</td>\n",
              "      <td>...</td>\n",
              "      <td>...</td>\n",
              "      <td>...</td>\n",
              "      <td>...</td>\n",
              "    </tr>\n",
              "    <tr>\n",
              "      <th>1395</th>\n",
              "      <td>0</td>\n",
              "      <td>0</td>\n",
              "      <td>0</td>\n",
              "      <td>0</td>\n",
              "      <td>1</td>\n",
              "    </tr>\n",
              "    <tr>\n",
              "      <th>1396</th>\n",
              "      <td>0</td>\n",
              "      <td>0</td>\n",
              "      <td>0</td>\n",
              "      <td>0</td>\n",
              "      <td>1</td>\n",
              "    </tr>\n",
              "    <tr>\n",
              "      <th>1397</th>\n",
              "      <td>0</td>\n",
              "      <td>0</td>\n",
              "      <td>0</td>\n",
              "      <td>0</td>\n",
              "      <td>1</td>\n",
              "    </tr>\n",
              "    <tr>\n",
              "      <th>1398</th>\n",
              "      <td>0</td>\n",
              "      <td>0</td>\n",
              "      <td>0</td>\n",
              "      <td>0</td>\n",
              "      <td>1</td>\n",
              "    </tr>\n",
              "    <tr>\n",
              "      <th>1399</th>\n",
              "      <td>0</td>\n",
              "      <td>0</td>\n",
              "      <td>0</td>\n",
              "      <td>0</td>\n",
              "      <td>1</td>\n",
              "    </tr>\n",
              "  </tbody>\n",
              "</table>\n",
              "<p>5601 rows × 5 columns</p>\n",
              "</div>"
            ],
            "text/plain": [
              "      PropertyType_0  PropertyType_1  ...  PropertyType_3  PropertyType_4\n",
              "0                  0               0  ...               0               1\n",
              "1                  0               0  ...               0               1\n",
              "2                  0               0  ...               0               1\n",
              "3                  0               0  ...               0               1\n",
              "4                  0               0  ...               0               1\n",
              "...              ...             ...  ...             ...             ...\n",
              "1395               0               0  ...               0               1\n",
              "1396               0               0  ...               0               1\n",
              "1397               0               0  ...               0               1\n",
              "1398               0               0  ...               0               1\n",
              "1399               0               0  ...               0               1\n",
              "\n",
              "[5601 rows x 5 columns]"
            ]
          },
          "metadata": {},
          "execution_count": 20
        }
      ]
    },
    {
      "cell_type": "markdown",
      "metadata": {
        "id": "yvLZHH_p_5cT"
      },
      "source": [
        "###**Column-4: Cancellation Policy**"
      ]
    },
    {
      "cell_type": "code",
      "metadata": {
        "colab": {
          "base_uri": "https://localhost:8080/"
        },
        "id": "CJKKiWK7AMm3",
        "outputId": "c9b1c24d-7a34-4392-f3a2-07fc94828e91"
      },
      "source": [
        "combined_df['CancellationPolicy'].value_counts()"
      ],
      "execution_count": 21,
      "outputs": [
        {
          "output_type": "execute_result",
          "data": {
            "text/plain": [
              "strict      3025\n",
              "moderate    1352\n",
              "flexible    1224\n",
              "Name: CancellationPolicy, dtype: int64"
            ]
          },
          "metadata": {},
          "execution_count": 21
        }
      ]
    },
    {
      "cell_type": "markdown",
      "metadata": {
        "id": "gzfco4DBkYDD"
      },
      "source": [
        "**Observations:**\n",
        "* a) Data in this column is of \"Object\" or \"String\" datatype. Also, the data levels are \"Ordinal\" Type.\n",
        "\n",
        "**Decsion:**\n",
        "\n",
        "**We will be converting the data in this column into Numerical values using Ordnial Type method \"preprocessing.LabelEncoder()**"
      ]
    },
    {
      "cell_type": "code",
      "metadata": {
        "colab": {
          "base_uri": "https://localhost:8080/"
        },
        "id": "2dEG97QMkZhy",
        "outputId": "aef6e9df-b89a-4572-aa6e-7af8fdd5af6a"
      },
      "source": [
        "le = preprocessing.LabelEncoder()\n",
        "combined_df['CancellationPolicy'] = le.fit_transform(combined_df.CancellationPolicy.values)\n",
        "combined_df['CancellationPolicy'].value_counts()"
      ],
      "execution_count": 22,
      "outputs": [
        {
          "output_type": "execute_result",
          "data": {
            "text/plain": [
              "2    3025\n",
              "1    1352\n",
              "0    1224\n",
              "Name: CancellationPolicy, dtype: int64"
            ]
          },
          "metadata": {},
          "execution_count": 22
        }
      ]
    },
    {
      "cell_type": "markdown",
      "metadata": {
        "id": "mRN2944WBSlB"
      },
      "source": [
        "###**Column-5: Accommodates**"
      ]
    },
    {
      "cell_type": "code",
      "metadata": {
        "colab": {
          "base_uri": "https://localhost:8080/"
        },
        "id": "CaHcDnSxBZhk",
        "outputId": "e713cbb6-5076-4fad-b4c7-86e1706bc99a"
      },
      "source": [
        "combined_df['Accommodates'].value_counts()"
      ],
      "execution_count": 23,
      "outputs": [
        {
          "output_type": "execute_result",
          "data": {
            "text/plain": [
              "2     2747\n",
              "4      863\n",
              "3      701\n",
              "1      613\n",
              "6      288\n",
              "5      205\n",
              "8       85\n",
              "7       52\n",
              "10      23\n",
              "9       11\n",
              "12       6\n",
              "14       3\n",
              "16       2\n",
              "15       1\n",
              "13       1\n",
              "Name: Accommodates, dtype: int64"
            ]
          },
          "metadata": {},
          "execution_count": 23
        }
      ]
    },
    {
      "cell_type": "markdown",
      "metadata": {
        "id": "zN1jU5Qolcdb"
      },
      "source": [
        "**Observations:**\n",
        "* a) Data in this column is of \"int\" datatype. Also, there seems to be no wrong data or wrong data format.\n",
        "\n",
        "**Decsion:**\n",
        "\n",
        "**Let us leave the column as it is.**"
      ]
    },
    {
      "cell_type": "markdown",
      "metadata": {
        "id": "1k-czuOGB5jM"
      },
      "source": [
        "###**Column-6: Room Type**"
      ]
    },
    {
      "cell_type": "code",
      "metadata": {
        "colab": {
          "base_uri": "https://localhost:8080/"
        },
        "id": "yKfFL15ACPXe",
        "outputId": "a61d5b11-2098-431a-d0d0-ef49bc8f55fb"
      },
      "source": [
        "combined_df['RoomType'].value_counts()"
      ],
      "execution_count": 24,
      "outputs": [
        {
          "output_type": "execute_result",
          "data": {
            "text/plain": [
              "Entire home/apt    3213\n",
              "Private room       2236\n",
              "Shared room         152\n",
              "Name: RoomType, dtype: int64"
            ]
          },
          "metadata": {},
          "execution_count": 24
        }
      ]
    },
    {
      "cell_type": "markdown",
      "metadata": {
        "id": "0VnRTu20lupa"
      },
      "source": [
        "**Observations:**\n",
        "* a) Data in this column is of \"Object\" or \"String\" datatype. Also, the data levels are \"Ordinal\" Type.\n",
        "\n",
        "**Decsion:**\n",
        "\n",
        "**We will be converting the data in this column into Numerical values using Ordnial Type method \"preprocessing.LabelEncoder()**"
      ]
    },
    {
      "cell_type": "code",
      "metadata": {
        "colab": {
          "base_uri": "https://localhost:8080/"
        },
        "id": "qN1zkejElwuu",
        "outputId": "dde6620d-80e5-47d8-c688-d0e8e528fccf"
      },
      "source": [
        "le = preprocessing.LabelEncoder()\n",
        "combined_df['RoomType'] = le.fit_transform(combined_df.RoomType.values)\n",
        "combined_df['RoomType'].value_counts()"
      ],
      "execution_count": 25,
      "outputs": [
        {
          "output_type": "execute_result",
          "data": {
            "text/plain": [
              "0    3213\n",
              "1    2236\n",
              "2     152\n",
              "Name: RoomType, dtype: int64"
            ]
          },
          "metadata": {},
          "execution_count": 25
        }
      ]
    },
    {
      "cell_type": "markdown",
      "metadata": {
        "id": "Hazn5LOLC3Sc"
      },
      "source": [
        "###**Column-7: Bathrooms**"
      ]
    },
    {
      "cell_type": "code",
      "metadata": {
        "colab": {
          "base_uri": "https://localhost:8080/"
        },
        "id": "Mfwdcc6JDOCP",
        "outputId": "3ea06340-ed2e-4d65-9ccc-eb66cde3ac3f"
      },
      "source": [
        "combined_df['Bathrooms'].value_counts()"
      ],
      "execution_count": 26,
      "outputs": [
        {
          "output_type": "execute_result",
          "data": {
            "text/plain": [
              "1.000000    4998\n",
              "2.000000     311\n",
              "1.500000     184\n",
              "2.500000      25\n",
              "1.087878      24\n",
              "0.000000      20\n",
              "3.000000      13\n",
              "0.500000      11\n",
              "3.500000       7\n",
              "1.061030       6\n",
              "4.000000       1\n",
              "5.000000       1\n",
              "Name: Bathrooms, dtype: int64"
            ]
          },
          "metadata": {},
          "execution_count": 26
        }
      ]
    },
    {
      "cell_type": "markdown",
      "metadata": {
        "id": "0jmPWsNqmJ-q"
      },
      "source": [
        "**Observations:**\n",
        "* a) Data in this column is of \"float\" datatype. Also, there seems to be no wrong data or wrong data format.\n",
        "\n",
        "**Decsion:**\n",
        "\n",
        "**Let us leave the column as it is.**"
      ]
    },
    {
      "cell_type": "markdown",
      "metadata": {
        "id": "zkUAZYZNmQQ7"
      },
      "source": [
        "###**Column-8: Bedrooms**"
      ]
    },
    {
      "cell_type": "code",
      "metadata": {
        "colab": {
          "base_uri": "https://localhost:8080/"
        },
        "id": "Udd18ghrDYKY",
        "outputId": "1fb3ad6f-8fb0-4e0d-ba55-33d20b6e7bab"
      },
      "source": [
        "combined_df['Bedrooms'].value_counts()"
      ],
      "execution_count": 27,
      "outputs": [
        {
          "output_type": "execute_result",
          "data": {
            "text/plain": [
              "1.000000    4026\n",
              "0.000000     698\n",
              "2.000000     660\n",
              "3.000000     172\n",
              "4.000000      33\n",
              "1.085586       5\n",
              "5.000000       5\n",
              "1.030153       2\n",
              "Name: Bedrooms, dtype: int64"
            ]
          },
          "metadata": {},
          "execution_count": 27
        }
      ]
    },
    {
      "cell_type": "markdown",
      "metadata": {
        "id": "AGI1rNIEmq5L"
      },
      "source": [
        "**Observations:**\n",
        "* a) Data in this column is of \"float\" datatype. Also, there seems to be no wrong data or wrong data format.\n",
        "\n",
        "**Decsion:**\n",
        "\n",
        "**Let us leave the column as it is.**"
      ]
    },
    {
      "cell_type": "markdown",
      "metadata": {
        "id": "TElY82DAmyDz"
      },
      "source": [
        "###**Column-9: Cleaning Fee**"
      ]
    },
    {
      "cell_type": "code",
      "metadata": {
        "colab": {
          "base_uri": "https://localhost:8080/"
        },
        "id": "v7irCZDHFljz",
        "outputId": "136ad4db-a3f7-405a-9244-aae19b9e1438"
      },
      "source": [
        "combined_df['CleaningFee'].value_counts()"
      ],
      "execution_count": 28,
      "outputs": [
        {
          "output_type": "execute_result",
          "data": {
            "text/plain": [
              "66.646525     1029\n",
              "50.000000      584\n",
              "100.000000     434\n",
              "63.827637      300\n",
              "30.000000      257\n",
              "              ... \n",
              "9.000000         1\n",
              "400.000000       1\n",
              "68.000000        1\n",
              "0.000000         1\n",
              "295.000000       1\n",
              "Name: CleaningFee, Length: 121, dtype: int64"
            ]
          },
          "metadata": {},
          "execution_count": 28
        }
      ]
    },
    {
      "cell_type": "markdown",
      "metadata": {
        "id": "8XC2DrZKm7ep"
      },
      "source": [
        "**Observations:**\n",
        "* a) Data in this column is of \"float\" datatype. Also, there seems to be no wrong data or wrong data format.\n",
        "\n",
        "**Decsion:**\n",
        "\n",
        "**Let us leave the column as it is.**"
      ]
    },
    {
      "cell_type": "markdown",
      "metadata": {
        "id": "sgpdwVp7nERl"
      },
      "source": [
        "###**Column-10: Latitude**"
      ]
    },
    {
      "cell_type": "code",
      "metadata": {
        "colab": {
          "base_uri": "https://localhost:8080/"
        },
        "id": "gSL1j6FRFpwy",
        "outputId": "4a1f51f2-a169-45a2-c18f-1c0e66fc1627"
      },
      "source": [
        "combined_df['Latitude'].value_counts()"
      ],
      "execution_count": 29,
      "outputs": [
        {
          "output_type": "execute_result",
          "data": {
            "text/plain": [
              "40.776014    1\n",
              "40.805701    1\n",
              "40.767692    1\n",
              "40.718527    1\n",
              "40.714022    1\n",
              "            ..\n",
              "40.795268    1\n",
              "40.721004    1\n",
              "40.718924    1\n",
              "40.808054    1\n",
              "40.725199    1\n",
              "Name: Latitude, Length: 5601, dtype: int64"
            ]
          },
          "metadata": {},
          "execution_count": 29
        }
      ]
    },
    {
      "cell_type": "markdown",
      "metadata": {
        "id": "6gnyhysWnOr1"
      },
      "source": [
        "**Observations:**\n",
        "* a) Data in this column will not be contributing to the prediction of the Depenedent variable\n",
        "\n",
        "**Decsion:**\n",
        "\n",
        "**We will be dropping this column**"
      ]
    },
    {
      "cell_type": "code",
      "metadata": {
        "colab": {
          "base_uri": "https://localhost:8080/"
        },
        "id": "Fg1MqsSQnPaY",
        "outputId": "ae939c4f-ad0e-4729-a96c-97faf51835f2"
      },
      "source": [
        "#dropping the column\n",
        "combined_df.drop(columns = ['Latitude'], axis = 1, inplace = True)\n",
        "combined_df.info()"
      ],
      "execution_count": 30,
      "outputs": [
        {
          "output_type": "stream",
          "name": "stdout",
          "text": [
            "<class 'pandas.core.frame.DataFrame'>\n",
            "Int64Index: 5601 entries, 0 to 1399\n",
            "Data columns (total 14 columns):\n",
            " #   Column              Non-Null Count  Dtype  \n",
            "---  ------              --------------  -----  \n",
            " 0   District            5601 non-null   object \n",
            " 1   Neighborhood        5601 non-null   object \n",
            " 2   PropertyType        5601 non-null   object \n",
            " 3   CancellationPolicy  5601 non-null   int64  \n",
            " 4   Accommodates        5601 non-null   int64  \n",
            " 5   RoomType            5601 non-null   int64  \n",
            " 6   Bathrooms           5601 non-null   float64\n",
            " 7   Bedrooms            5601 non-null   float64\n",
            " 8   CleaningFee         5601 non-null   float64\n",
            " 9   Longitude           5601 non-null   float64\n",
            " 10  ReviewRating        5601 non-null   float64\n",
            " 11  Price               4201 non-null   float64\n",
            " 12  train               4201 non-null   float64\n",
            " 13  test                1400 non-null   float64\n",
            "dtypes: float64(8), int64(3), object(3)\n",
            "memory usage: 656.4+ KB\n"
          ]
        }
      ]
    },
    {
      "cell_type": "markdown",
      "metadata": {
        "id": "dLR6kWWWnmyc"
      },
      "source": [
        "###**Column-11: Longitude**"
      ]
    },
    {
      "cell_type": "code",
      "metadata": {
        "colab": {
          "base_uri": "https://localhost:8080/"
        },
        "id": "XmqNv87PFxQ6",
        "outputId": "6e914fe2-ef9b-466d-ede5-ce6f508109a3"
      },
      "source": [
        "combined_df['Longitude'].value_counts()"
      ],
      "execution_count": 31,
      "outputs": [
        {
          "output_type": "execute_result",
          "data": {
            "text/plain": [
              "-73.977991    1\n",
              "-74.000565    1\n",
              "-73.980365    1\n",
              "-73.958880    1\n",
              "-73.946893    1\n",
              "             ..\n",
              "-74.002958    1\n",
              "-74.004247    1\n",
              "-73.943143    1\n",
              "-73.952518    1\n",
              "-73.993500    1\n",
              "Name: Longitude, Length: 5601, dtype: int64"
            ]
          },
          "metadata": {},
          "execution_count": 31
        }
      ]
    },
    {
      "cell_type": "markdown",
      "metadata": {
        "id": "RsTTLIORnuGB"
      },
      "source": [
        "**Observations:**\n",
        "* a) Data in this column will not be contributing to the prediction of the Depenedent variable\n",
        "\n",
        "**Decsion:**\n",
        "\n",
        "**We will be dropping this column**"
      ]
    },
    {
      "cell_type": "code",
      "metadata": {
        "colab": {
          "base_uri": "https://localhost:8080/"
        },
        "id": "RyRNO7cVnvdB",
        "outputId": "e9416a30-5c0c-46a6-d412-9ee9660c8537"
      },
      "source": [
        "#dropping the column\n",
        "combined_df.drop(columns = ['Longitude'], axis = 1, inplace = True)\n",
        "combined_df.info()"
      ],
      "execution_count": 32,
      "outputs": [
        {
          "output_type": "stream",
          "name": "stdout",
          "text": [
            "<class 'pandas.core.frame.DataFrame'>\n",
            "Int64Index: 5601 entries, 0 to 1399\n",
            "Data columns (total 13 columns):\n",
            " #   Column              Non-Null Count  Dtype  \n",
            "---  ------              --------------  -----  \n",
            " 0   District            5601 non-null   object \n",
            " 1   Neighborhood        5601 non-null   object \n",
            " 2   PropertyType        5601 non-null   object \n",
            " 3   CancellationPolicy  5601 non-null   int64  \n",
            " 4   Accommodates        5601 non-null   int64  \n",
            " 5   RoomType            5601 non-null   int64  \n",
            " 6   Bathrooms           5601 non-null   float64\n",
            " 7   Bedrooms            5601 non-null   float64\n",
            " 8   CleaningFee         5601 non-null   float64\n",
            " 9   ReviewRating        5601 non-null   float64\n",
            " 10  Price               4201 non-null   float64\n",
            " 11  train               4201 non-null   float64\n",
            " 12  test                1400 non-null   float64\n",
            "dtypes: float64(7), int64(3), object(3)\n",
            "memory usage: 612.6+ KB\n"
          ]
        }
      ]
    },
    {
      "cell_type": "markdown",
      "metadata": {
        "id": "w_HATYF0nzew"
      },
      "source": [
        "###**Column-12: Review Rating**"
      ]
    },
    {
      "cell_type": "code",
      "metadata": {
        "colab": {
          "base_uri": "https://localhost:8080/"
        },
        "id": "2ask4-hkF8iM",
        "outputId": "141e803f-03bc-4b6d-961a-b40709f788cc"
      },
      "source": [
        "combined_df['ReviewRating'].value_counts()"
      ],
      "execution_count": 33,
      "outputs": [
        {
          "output_type": "execute_result",
          "data": {
            "text/plain": [
              "100.0    1464\n",
              "93.0      427\n",
              "95.0      402\n",
              "90.0      358\n",
              "96.0      342\n",
              "97.0      294\n",
              "80.0      286\n",
              "98.0      275\n",
              "94.0      248\n",
              "92.0      229\n",
              "91.0      177\n",
              "87.0      150\n",
              "99.0      144\n",
              "88.0      132\n",
              "89.0      132\n",
              "85.0       84\n",
              "84.0       62\n",
              "83.0       61\n",
              "60.0       60\n",
              "86.0       49\n",
              "70.0       33\n",
              "82.0       26\n",
              "78.0       20\n",
              "76.0       18\n",
              "75.0       16\n",
              "73.0       16\n",
              "81.0       15\n",
              "40.0       13\n",
              "67.0       12\n",
              "20.0       11\n",
              "77.0       10\n",
              "74.0        9\n",
              "79.0        7\n",
              "68.0        5\n",
              "72.0        4\n",
              "66.0        2\n",
              "65.0        2\n",
              "50.0        2\n",
              "53.0        2\n",
              "27.0        1\n",
              "47.0        1\n",
              "Name: ReviewRating, dtype: int64"
            ]
          },
          "metadata": {},
          "execution_count": 33
        }
      ]
    },
    {
      "cell_type": "markdown",
      "metadata": {
        "id": "25e6jhGQoX2q"
      },
      "source": [
        "**Observations:**\n",
        "* a) Data in this column is of \"float\" datatype. Also, there seems to be no wrong data or wrong data format.\n",
        "\n",
        "**Decsion:**\n",
        "\n",
        "**Let us leave the column as it is.**"
      ]
    },
    {
      "cell_type": "markdown",
      "metadata": {
        "id": "PDem7yNso18Q"
      },
      "source": [
        "###**Column-13: Price**"
      ]
    },
    {
      "cell_type": "code",
      "metadata": {
        "colab": {
          "base_uri": "https://localhost:8080/"
        },
        "id": "C9YHbdUNGC_j",
        "outputId": "d3d13feb-58eb-471c-fac8-a2d11b368915"
      },
      "source": [
        "combined_df['Price'].value_counts()"
      ],
      "execution_count": 34,
      "outputs": [
        {
          "output_type": "execute_result",
          "data": {
            "text/plain": [
              "100.0    200\n",
              "150.0    164\n",
              "200.0    145\n",
              "250.0    124\n",
              "120.0    113\n",
              "        ... \n",
              "287.0      1\n",
              "436.0      1\n",
              "980.0      1\n",
              "194.0      1\n",
              "413.0      1\n",
              "Name: Price, Length: 320, dtype: int64"
            ]
          },
          "metadata": {},
          "execution_count": 34
        }
      ]
    },
    {
      "cell_type": "markdown",
      "metadata": {
        "id": "uUFyErdMpAym"
      },
      "source": [
        "**Observations:**\n",
        "* a) Data in this column is of \"float\" datatype. Also, there seems to be no wrong data or wrong data format.\n",
        "\n",
        "**Decsion:**\n",
        "\n",
        "**Let us leave the column as it is.**"
      ]
    },
    {
      "cell_type": "code",
      "metadata": {
        "colab": {
          "base_uri": "https://localhost:8080/"
        },
        "id": "TMRIemMiUSOM",
        "outputId": "51a3ddb5-22a0-4822-8bc8-9f703316a9a1"
      },
      "source": [
        "combined_df.info()"
      ],
      "execution_count": 35,
      "outputs": [
        {
          "output_type": "stream",
          "name": "stdout",
          "text": [
            "<class 'pandas.core.frame.DataFrame'>\n",
            "Int64Index: 5601 entries, 0 to 1399\n",
            "Data columns (total 13 columns):\n",
            " #   Column              Non-Null Count  Dtype  \n",
            "---  ------              --------------  -----  \n",
            " 0   District            5601 non-null   object \n",
            " 1   Neighborhood        5601 non-null   object \n",
            " 2   PropertyType        5601 non-null   object \n",
            " 3   CancellationPolicy  5601 non-null   int64  \n",
            " 4   Accommodates        5601 non-null   int64  \n",
            " 5   RoomType            5601 non-null   int64  \n",
            " 6   Bathrooms           5601 non-null   float64\n",
            " 7   Bedrooms            5601 non-null   float64\n",
            " 8   CleaningFee         5601 non-null   float64\n",
            " 9   ReviewRating        5601 non-null   float64\n",
            " 10  Price               4201 non-null   float64\n",
            " 11  train               4201 non-null   float64\n",
            " 12  test                1400 non-null   float64\n",
            "dtypes: float64(7), int64(3), object(3)\n",
            "memory usage: 612.6+ KB\n"
          ]
        }
      ]
    },
    {
      "cell_type": "code",
      "metadata": {
        "colab": {
          "base_uri": "https://localhost:8080/"
        },
        "id": "lHlAK0BDFspj",
        "outputId": "36f4c161-4c72-44a2-d1b9-2bf72c6b3266"
      },
      "source": [
        "combined_df.drop(['District', 'Neighborhood', 'PropertyType'], axis = 1, inplace = True)\n",
        "combined_df.info()"
      ],
      "execution_count": 36,
      "outputs": [
        {
          "output_type": "stream",
          "name": "stdout",
          "text": [
            "<class 'pandas.core.frame.DataFrame'>\n",
            "Int64Index: 5601 entries, 0 to 1399\n",
            "Data columns (total 10 columns):\n",
            " #   Column              Non-Null Count  Dtype  \n",
            "---  ------              --------------  -----  \n",
            " 0   CancellationPolicy  5601 non-null   int64  \n",
            " 1   Accommodates        5601 non-null   int64  \n",
            " 2   RoomType            5601 non-null   int64  \n",
            " 3   Bathrooms           5601 non-null   float64\n",
            " 4   Bedrooms            5601 non-null   float64\n",
            " 5   CleaningFee         5601 non-null   float64\n",
            " 6   ReviewRating        5601 non-null   float64\n",
            " 7   Price               4201 non-null   float64\n",
            " 8   train               4201 non-null   float64\n",
            " 9   test                1400 non-null   float64\n",
            "dtypes: float64(7), int64(3)\n",
            "memory usage: 481.3 KB\n"
          ]
        }
      ]
    },
    {
      "cell_type": "code",
      "metadata": {
        "colab": {
          "base_uri": "https://localhost:8080/"
        },
        "id": "jPcfaByJpQZ9",
        "outputId": "40d76dd6-2524-47e3-dcab-34dd740b697f"
      },
      "source": [
        "combined_df = pd.concat([combined_df,dist_encoded, neighborhood_encoded, propertytype_encoded], axis = 1)\n",
        "combined_df.info()"
      ],
      "execution_count": 37,
      "outputs": [
        {
          "output_type": "stream",
          "name": "stdout",
          "text": [
            "<class 'pandas.core.frame.DataFrame'>\n",
            "Int64Index: 5601 entries, 0 to 1399\n",
            "Data columns (total 25 columns):\n",
            " #   Column              Non-Null Count  Dtype  \n",
            "---  ------              --------------  -----  \n",
            " 0   CancellationPolicy  5601 non-null   int64  \n",
            " 1   Accommodates        5601 non-null   int64  \n",
            " 2   RoomType            5601 non-null   int64  \n",
            " 3   Bathrooms           5601 non-null   float64\n",
            " 4   Bedrooms            5601 non-null   float64\n",
            " 5   CleaningFee         5601 non-null   float64\n",
            " 6   ReviewRating        5601 non-null   float64\n",
            " 7   Price               4201 non-null   float64\n",
            " 8   train               4201 non-null   float64\n",
            " 9   test                1400 non-null   float64\n",
            " 10  District_Brooklyn   5601 non-null   uint8  \n",
            " 11  District_Manhattan  5601 non-null   uint8  \n",
            " 12  District_Queens     5601 non-null   uint8  \n",
            " 13  Neighborhood_0      5601 non-null   int64  \n",
            " 14  Neighborhood_1      5601 non-null   int64  \n",
            " 15  Neighborhood_2      5601 non-null   int64  \n",
            " 16  Neighborhood_3      5601 non-null   int64  \n",
            " 17  Neighborhood_4      5601 non-null   int64  \n",
            " 18  Neighborhood_5      5601 non-null   int64  \n",
            " 19  Neighborhood_6      5601 non-null   int64  \n",
            " 20  PropertyType_0      5601 non-null   int64  \n",
            " 21  PropertyType_1      5601 non-null   int64  \n",
            " 22  PropertyType_2      5601 non-null   int64  \n",
            " 23  PropertyType_3      5601 non-null   int64  \n",
            " 24  PropertyType_4      5601 non-null   int64  \n",
            "dtypes: float64(7), int64(15), uint8(3)\n",
            "memory usage: 1022.8 KB\n"
          ]
        }
      ]
    },
    {
      "cell_type": "code",
      "metadata": {
        "id": "2jfgwFcg3N0q"
      },
      "source": [
        "train_df1 = combined_df[combined_df[\"train\"] == 1]\n",
        "test_df1 = combined_df[combined_df[\"test\"] == 0]\n",
        "train_df1.drop([\"train\", \"test\"], axis=1, inplace=True)\n",
        "test_df1.drop([\"test\", \"train\", \"Price\"], axis=1, inplace=True)"
      ],
      "execution_count": 38,
      "outputs": []
    },
    {
      "cell_type": "code",
      "metadata": {
        "colab": {
          "base_uri": "https://localhost:8080/"
        },
        "id": "4nOx88LF3bdu",
        "outputId": "8a8ad08f-eef3-4943-98fe-09f60ef495a0"
      },
      "source": [
        "train_df1.shape"
      ],
      "execution_count": 39,
      "outputs": [
        {
          "output_type": "execute_result",
          "data": {
            "text/plain": [
              "(4201, 23)"
            ]
          },
          "metadata": {},
          "execution_count": 39
        }
      ]
    },
    {
      "cell_type": "code",
      "metadata": {
        "colab": {
          "base_uri": "https://localhost:8080/"
        },
        "id": "hvUmpmVAtYjl",
        "outputId": "62d67270-53fb-420f-b8ab-1445a0a0d326"
      },
      "source": [
        "#train_df1['Price'] = train_df1['Price'].astype(int)\n",
        "train_df1['Price'].value_counts() "
      ],
      "execution_count": 40,
      "outputs": [
        {
          "output_type": "execute_result",
          "data": {
            "text/plain": [
              "100.0    200\n",
              "150.0    164\n",
              "200.0    145\n",
              "250.0    124\n",
              "120.0    113\n",
              "        ... \n",
              "287.0      1\n",
              "436.0      1\n",
              "980.0      1\n",
              "194.0      1\n",
              "413.0      1\n",
              "Name: Price, Length: 320, dtype: int64"
            ]
          },
          "metadata": {},
          "execution_count": 40
        }
      ]
    },
    {
      "cell_type": "code",
      "metadata": {
        "colab": {
          "base_uri": "https://localhost:8080/"
        },
        "id": "NZ6cujaN3gd7",
        "outputId": "6818c705-55b8-4247-c98c-57e93377b596"
      },
      "source": [
        "test_df1.shape"
      ],
      "execution_count": 41,
      "outputs": [
        {
          "output_type": "execute_result",
          "data": {
            "text/plain": [
              "(1400, 22)"
            ]
          },
          "metadata": {},
          "execution_count": 41
        }
      ]
    },
    {
      "cell_type": "code",
      "metadata": {
        "id": "rtLY_mEy3oWj"
      },
      "source": [
        "X = train_df1.drop(['Price'], axis = 1)\n",
        "y = train_df1['Price']"
      ],
      "execution_count": 42,
      "outputs": []
    },
    {
      "cell_type": "markdown",
      "metadata": {
        "id": "MoeZBJ-ZKdb_"
      },
      "source": [
        "###**Ridge Regression**"
      ]
    },
    {
      "cell_type": "code",
      "metadata": {
        "colab": {
          "base_uri": "https://localhost:8080/"
        },
        "id": "5NssTNme93D4",
        "outputId": "ddb51c75-f972-4686-ebea-d889b4d9c416"
      },
      "source": [
        "alphas = [0.001, 0.01, 0.1, 1, 10]\n",
        "print('All errors are RMSE')\n",
        "print('-'*76)\n",
        "for alpha in alphas:\n",
        "    # instantiate and fit model\n",
        "    ridge = Ridge(alpha=alpha, fit_intercept=True, random_state=99)\n",
        "    ridge.fit(X, y)\n",
        "    # calculate errors\n",
        "    new_train_error1 = np.sqrt(mean_squared_error(y, ridge.predict(X)))\n",
        "    print('alpha: {:7} | train error: {:5}'.format(alpha,round(new_train_error1,3)))"
      ],
      "execution_count": 43,
      "outputs": [
        {
          "output_type": "stream",
          "name": "stdout",
          "text": [
            "All errors are RMSE\n",
            "----------------------------------------------------------------------------\n",
            "alpha:   0.001 | train error:  72.5\n",
            "alpha:    0.01 | train error:  72.5\n",
            "alpha:     0.1 | train error:  72.5\n",
            "alpha:       1 | train error: 72.507\n",
            "alpha:      10 | train error: 72.551\n"
          ]
        }
      ]
    },
    {
      "cell_type": "code",
      "metadata": {
        "colab": {
          "base_uri": "https://localhost:8080/"
        },
        "id": "o2bj0tgi9_oB",
        "outputId": "a683b4d9-116b-4252-d234-d6cb2b526b8a"
      },
      "source": [
        "ridge = Ridge(alpha=10)\n",
        "ridge.fit(X, y) \n",
        "pred_train_ridge= ridge.predict(X)\n",
        "Ridge_Train_Acc = r2_score(y, pred_train_ridge)\n",
        "Ridge_Train_Err = np.sqrt(mean_squared_error(y,pred_train_ridge))\n",
        "print(\"Train Error : \", np.sqrt(mean_squared_error(y,pred_train_ridge)))\n",
        "print(\"Train Accuracy : \", r2_score(y, pred_train_ridge))"
      ],
      "execution_count": 44,
      "outputs": [
        {
          "output_type": "stream",
          "name": "stdout",
          "text": [
            "Train Error :  72.55130190106253\n",
            "Train Accuracy :  0.5677528865165724\n"
          ]
        }
      ]
    },
    {
      "cell_type": "code",
      "metadata": {
        "colab": {
          "base_uri": "https://localhost:8080/"
        },
        "id": "lG12nhsnLFkp",
        "outputId": "970bd328-1b85-451d-bdfa-c70f18adc499"
      },
      "source": [
        "test_df1.info()"
      ],
      "execution_count": 45,
      "outputs": [
        {
          "output_type": "stream",
          "name": "stdout",
          "text": [
            "<class 'pandas.core.frame.DataFrame'>\n",
            "Int64Index: 1400 entries, 0 to 1399\n",
            "Data columns (total 22 columns):\n",
            " #   Column              Non-Null Count  Dtype  \n",
            "---  ------              --------------  -----  \n",
            " 0   CancellationPolicy  1400 non-null   int64  \n",
            " 1   Accommodates        1400 non-null   int64  \n",
            " 2   RoomType            1400 non-null   int64  \n",
            " 3   Bathrooms           1400 non-null   float64\n",
            " 4   Bedrooms            1400 non-null   float64\n",
            " 5   CleaningFee         1400 non-null   float64\n",
            " 6   ReviewRating        1400 non-null   float64\n",
            " 7   District_Brooklyn   1400 non-null   uint8  \n",
            " 8   District_Manhattan  1400 non-null   uint8  \n",
            " 9   District_Queens     1400 non-null   uint8  \n",
            " 10  Neighborhood_0      1400 non-null   int64  \n",
            " 11  Neighborhood_1      1400 non-null   int64  \n",
            " 12  Neighborhood_2      1400 non-null   int64  \n",
            " 13  Neighborhood_3      1400 non-null   int64  \n",
            " 14  Neighborhood_4      1400 non-null   int64  \n",
            " 15  Neighborhood_5      1400 non-null   int64  \n",
            " 16  Neighborhood_6      1400 non-null   int64  \n",
            " 17  PropertyType_0      1400 non-null   int64  \n",
            " 18  PropertyType_1      1400 non-null   int64  \n",
            " 19  PropertyType_2      1400 non-null   int64  \n",
            " 20  PropertyType_3      1400 non-null   int64  \n",
            " 21  PropertyType_4      1400 non-null   int64  \n",
            "dtypes: float64(4), int64(15), uint8(3)\n",
            "memory usage: 222.9 KB\n"
          ]
        }
      ]
    },
    {
      "cell_type": "code",
      "metadata": {
        "colab": {
          "base_uri": "https://localhost:8080/"
        },
        "id": "1tXWP9bHKaC4",
        "outputId": "f97f1c2b-da6d-49a9-e890-4032a86f5c7b"
      },
      "source": [
        "pred_test_ridge = ridge.predict(test_df1)\n",
        "pred_test_ridge"
      ],
      "execution_count": 46,
      "outputs": [
        {
          "output_type": "execute_result",
          "data": {
            "text/plain": [
              "array([123.53792374, 100.88725681, 115.83801554, ..., 365.6519597 ,\n",
              "       116.94665575, 106.38666962])"
            ]
          },
          "metadata": {},
          "execution_count": 46
        }
      ]
    },
    {
      "cell_type": "code",
      "metadata": {
        "colab": {
          "base_uri": "https://localhost:8080/",
          "height": 330
        },
        "id": "DpWq40rYKo25",
        "outputId": "6f4d1dc9-a2b5-4bfd-e232-7bfb063be210"
      },
      "source": [
        "test_df[\"Predicted_Price\"] = pred_test_ridge\n",
        "print(test_df.shape)\n",
        "test_df.head()"
      ],
      "execution_count": 47,
      "outputs": [
        {
          "output_type": "stream",
          "name": "stdout",
          "text": [
            "(1400, 15)\n"
          ]
        },
        {
          "output_type": "execute_result",
          "data": {
            "text/html": [
              "<div>\n",
              "<style scoped>\n",
              "    .dataframe tbody tr th:only-of-type {\n",
              "        vertical-align: middle;\n",
              "    }\n",
              "\n",
              "    .dataframe tbody tr th {\n",
              "        vertical-align: top;\n",
              "    }\n",
              "\n",
              "    .dataframe thead th {\n",
              "        text-align: right;\n",
              "    }\n",
              "</style>\n",
              "<table border=\"1\" class=\"dataframe\">\n",
              "  <thead>\n",
              "    <tr style=\"text-align: right;\">\n",
              "      <th></th>\n",
              "      <th>ID</th>\n",
              "      <th>District</th>\n",
              "      <th>Neighborhood</th>\n",
              "      <th>PropertyType</th>\n",
              "      <th>CancellationPolicy</th>\n",
              "      <th>Accommodates</th>\n",
              "      <th>RoomType</th>\n",
              "      <th>Bathrooms</th>\n",
              "      <th>Bedrooms</th>\n",
              "      <th>CleaningFee</th>\n",
              "      <th>Latitude</th>\n",
              "      <th>Longitude</th>\n",
              "      <th>ReviewRating</th>\n",
              "      <th>test</th>\n",
              "      <th>Predicted_Price</th>\n",
              "    </tr>\n",
              "  </thead>\n",
              "  <tbody>\n",
              "    <tr>\n",
              "      <th>0</th>\n",
              "      <td>8760775</td>\n",
              "      <td>Manhattan</td>\n",
              "      <td>Murray Hill</td>\n",
              "      <td>Apartment</td>\n",
              "      <td>flexible</td>\n",
              "      <td>1</td>\n",
              "      <td>Private room</td>\n",
              "      <td>1.0</td>\n",
              "      <td>1.0</td>\n",
              "      <td>63.827637</td>\n",
              "      <td>40.749400</td>\n",
              "      <td>-73.978226</td>\n",
              "      <td>95.0</td>\n",
              "      <td>0</td>\n",
              "      <td>123.537924</td>\n",
              "    </tr>\n",
              "    <tr>\n",
              "      <th>1</th>\n",
              "      <td>16425551</td>\n",
              "      <td>Manhattan</td>\n",
              "      <td>Chinatown</td>\n",
              "      <td>Apartment</td>\n",
              "      <td>flexible</td>\n",
              "      <td>1</td>\n",
              "      <td>Private room</td>\n",
              "      <td>1.0</td>\n",
              "      <td>1.0</td>\n",
              "      <td>35.000000</td>\n",
              "      <td>40.716220</td>\n",
              "      <td>-73.991230</td>\n",
              "      <td>95.0</td>\n",
              "      <td>0</td>\n",
              "      <td>100.887257</td>\n",
              "    </tr>\n",
              "    <tr>\n",
              "      <th>2</th>\n",
              "      <td>15043585</td>\n",
              "      <td>Manhattan</td>\n",
              "      <td>Hell's Kitchen</td>\n",
              "      <td>Apartment</td>\n",
              "      <td>flexible</td>\n",
              "      <td>2</td>\n",
              "      <td>Private room</td>\n",
              "      <td>1.0</td>\n",
              "      <td>1.0</td>\n",
              "      <td>63.827637</td>\n",
              "      <td>40.761096</td>\n",
              "      <td>-73.987602</td>\n",
              "      <td>90.0</td>\n",
              "      <td>0</td>\n",
              "      <td>115.838016</td>\n",
              "    </tr>\n",
              "    <tr>\n",
              "      <th>3</th>\n",
              "      <td>16516930</td>\n",
              "      <td>Manhattan</td>\n",
              "      <td>Gramercy</td>\n",
              "      <td>Apartment</td>\n",
              "      <td>strict</td>\n",
              "      <td>6</td>\n",
              "      <td>Entire home/apt</td>\n",
              "      <td>1.0</td>\n",
              "      <td>3.0</td>\n",
              "      <td>150.000000</td>\n",
              "      <td>40.736475</td>\n",
              "      <td>-73.985136</td>\n",
              "      <td>60.0</td>\n",
              "      <td>0</td>\n",
              "      <td>306.340653</td>\n",
              "    </tr>\n",
              "    <tr>\n",
              "      <th>4</th>\n",
              "      <td>1891017</td>\n",
              "      <td>Manhattan</td>\n",
              "      <td>Chelsea</td>\n",
              "      <td>Apartment</td>\n",
              "      <td>strict</td>\n",
              "      <td>2</td>\n",
              "      <td>Entire home/apt</td>\n",
              "      <td>1.0</td>\n",
              "      <td>0.0</td>\n",
              "      <td>69.000000</td>\n",
              "      <td>40.750661</td>\n",
              "      <td>-74.003774</td>\n",
              "      <td>96.0</td>\n",
              "      <td>0</td>\n",
              "      <td>178.368575</td>\n",
              "    </tr>\n",
              "  </tbody>\n",
              "</table>\n",
              "</div>"
            ],
            "text/plain": [
              "         ID   District    Neighborhood  ... ReviewRating test  Predicted_Price\n",
              "0   8760775  Manhattan     Murray Hill  ...         95.0    0       123.537924\n",
              "1  16425551  Manhattan       Chinatown  ...         95.0    0       100.887257\n",
              "2  15043585  Manhattan  Hell's Kitchen  ...         90.0    0       115.838016\n",
              "3  16516930  Manhattan        Gramercy  ...         60.0    0       306.340653\n",
              "4   1891017  Manhattan         Chelsea  ...         96.0    0       178.368575\n",
              "\n",
              "[5 rows x 15 columns]"
            ]
          },
          "metadata": {},
          "execution_count": 47
        }
      ]
    },
    {
      "cell_type": "code",
      "metadata": {
        "colab": {
          "base_uri": "https://localhost:8080/",
          "height": 330
        },
        "id": "S6es-JBrsEQv",
        "outputId": "1e0e70aa-003f-4312-a79a-41828c73fbf8"
      },
      "source": [
        "finalDF= test_df\n",
        "finalDF['Predicted_Price'] = finalDF['Predicted_Price'].astype(int)\n",
        "print(finalDF.shape)\n",
        "finalDF.head()"
      ],
      "execution_count": 48,
      "outputs": [
        {
          "output_type": "stream",
          "name": "stdout",
          "text": [
            "(1400, 15)\n"
          ]
        },
        {
          "output_type": "execute_result",
          "data": {
            "text/html": [
              "<div>\n",
              "<style scoped>\n",
              "    .dataframe tbody tr th:only-of-type {\n",
              "        vertical-align: middle;\n",
              "    }\n",
              "\n",
              "    .dataframe tbody tr th {\n",
              "        vertical-align: top;\n",
              "    }\n",
              "\n",
              "    .dataframe thead th {\n",
              "        text-align: right;\n",
              "    }\n",
              "</style>\n",
              "<table border=\"1\" class=\"dataframe\">\n",
              "  <thead>\n",
              "    <tr style=\"text-align: right;\">\n",
              "      <th></th>\n",
              "      <th>ID</th>\n",
              "      <th>District</th>\n",
              "      <th>Neighborhood</th>\n",
              "      <th>PropertyType</th>\n",
              "      <th>CancellationPolicy</th>\n",
              "      <th>Accommodates</th>\n",
              "      <th>RoomType</th>\n",
              "      <th>Bathrooms</th>\n",
              "      <th>Bedrooms</th>\n",
              "      <th>CleaningFee</th>\n",
              "      <th>Latitude</th>\n",
              "      <th>Longitude</th>\n",
              "      <th>ReviewRating</th>\n",
              "      <th>test</th>\n",
              "      <th>Predicted_Price</th>\n",
              "    </tr>\n",
              "  </thead>\n",
              "  <tbody>\n",
              "    <tr>\n",
              "      <th>0</th>\n",
              "      <td>8760775</td>\n",
              "      <td>Manhattan</td>\n",
              "      <td>Murray Hill</td>\n",
              "      <td>Apartment</td>\n",
              "      <td>flexible</td>\n",
              "      <td>1</td>\n",
              "      <td>Private room</td>\n",
              "      <td>1.0</td>\n",
              "      <td>1.0</td>\n",
              "      <td>63.827637</td>\n",
              "      <td>40.749400</td>\n",
              "      <td>-73.978226</td>\n",
              "      <td>95.0</td>\n",
              "      <td>0</td>\n",
              "      <td>123</td>\n",
              "    </tr>\n",
              "    <tr>\n",
              "      <th>1</th>\n",
              "      <td>16425551</td>\n",
              "      <td>Manhattan</td>\n",
              "      <td>Chinatown</td>\n",
              "      <td>Apartment</td>\n",
              "      <td>flexible</td>\n",
              "      <td>1</td>\n",
              "      <td>Private room</td>\n",
              "      <td>1.0</td>\n",
              "      <td>1.0</td>\n",
              "      <td>35.000000</td>\n",
              "      <td>40.716220</td>\n",
              "      <td>-73.991230</td>\n",
              "      <td>95.0</td>\n",
              "      <td>0</td>\n",
              "      <td>100</td>\n",
              "    </tr>\n",
              "    <tr>\n",
              "      <th>2</th>\n",
              "      <td>15043585</td>\n",
              "      <td>Manhattan</td>\n",
              "      <td>Hell's Kitchen</td>\n",
              "      <td>Apartment</td>\n",
              "      <td>flexible</td>\n",
              "      <td>2</td>\n",
              "      <td>Private room</td>\n",
              "      <td>1.0</td>\n",
              "      <td>1.0</td>\n",
              "      <td>63.827637</td>\n",
              "      <td>40.761096</td>\n",
              "      <td>-73.987602</td>\n",
              "      <td>90.0</td>\n",
              "      <td>0</td>\n",
              "      <td>115</td>\n",
              "    </tr>\n",
              "    <tr>\n",
              "      <th>3</th>\n",
              "      <td>16516930</td>\n",
              "      <td>Manhattan</td>\n",
              "      <td>Gramercy</td>\n",
              "      <td>Apartment</td>\n",
              "      <td>strict</td>\n",
              "      <td>6</td>\n",
              "      <td>Entire home/apt</td>\n",
              "      <td>1.0</td>\n",
              "      <td>3.0</td>\n",
              "      <td>150.000000</td>\n",
              "      <td>40.736475</td>\n",
              "      <td>-73.985136</td>\n",
              "      <td>60.0</td>\n",
              "      <td>0</td>\n",
              "      <td>306</td>\n",
              "    </tr>\n",
              "    <tr>\n",
              "      <th>4</th>\n",
              "      <td>1891017</td>\n",
              "      <td>Manhattan</td>\n",
              "      <td>Chelsea</td>\n",
              "      <td>Apartment</td>\n",
              "      <td>strict</td>\n",
              "      <td>2</td>\n",
              "      <td>Entire home/apt</td>\n",
              "      <td>1.0</td>\n",
              "      <td>0.0</td>\n",
              "      <td>69.000000</td>\n",
              "      <td>40.750661</td>\n",
              "      <td>-74.003774</td>\n",
              "      <td>96.0</td>\n",
              "      <td>0</td>\n",
              "      <td>178</td>\n",
              "    </tr>\n",
              "  </tbody>\n",
              "</table>\n",
              "</div>"
            ],
            "text/plain": [
              "         ID   District    Neighborhood  ... ReviewRating test  Predicted_Price\n",
              "0   8760775  Manhattan     Murray Hill  ...         95.0    0              123\n",
              "1  16425551  Manhattan       Chinatown  ...         95.0    0              100\n",
              "2  15043585  Manhattan  Hell's Kitchen  ...         90.0    0              115\n",
              "3  16516930  Manhattan        Gramercy  ...         60.0    0              306\n",
              "4   1891017  Manhattan         Chelsea  ...         96.0    0              178\n",
              "\n",
              "[5 rows x 15 columns]"
            ]
          },
          "metadata": {},
          "execution_count": 48
        }
      ]
    },
    {
      "cell_type": "code",
      "metadata": {
        "id": "vrcuu_DV8WY9"
      },
      "source": [
        "from google.colab import files\n",
        "finalDF.to_csv(\"gdrive/My Drive/Datasets/Room Price Prediction/Cust_data_with_Pred_Price.csv\", index = False)"
      ],
      "execution_count": 49,
      "outputs": []
    }
  ]
}
