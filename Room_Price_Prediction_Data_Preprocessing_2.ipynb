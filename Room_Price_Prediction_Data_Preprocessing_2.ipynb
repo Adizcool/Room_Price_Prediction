{
  "nbformat": 4,
  "nbformat_minor": 0,
  "metadata": {
    "colab": {
      "name": "Room_Price_Prediction_Data_Preprocessing_2.ipynb",
      "provenance": [],
      "collapsed_sections": [],
      "include_colab_link": true
    },
    "kernelspec": {
      "display_name": "Python 3",
      "language": "python",
      "name": "python3"
    },
    "language_info": {
      "codemirror_mode": {
        "name": "ipython",
        "version": 3
      },
      "file_extension": ".py",
      "mimetype": "text/x-python",
      "name": "python",
      "nbconvert_exporter": "python",
      "pygments_lexer": "ipython3",
      "version": "3.7.3"
    }
  },
  "cells": [
    {
      "cell_type": "markdown",
      "metadata": {
        "id": "view-in-github",
        "colab_type": "text"
      },
      "source": [
        "<a href=\"https://colab.research.google.com/github/Adizcool/Room_Price_Prediction/blob/main/Room_Price_Prediction_Data_Preprocessing_2.ipynb\" target=\"_parent\"><img src=\"https://colab.research.google.com/assets/colab-badge.svg\" alt=\"Open In Colab\"/></a>"
      ]
    },
    {
      "cell_type": "markdown",
      "metadata": {
        "id": "2GngkOcP4Pxi"
      },
      "source": [
        "**1) Install/ Import the required Python Packages/ Libraries**"
      ]
    },
    {
      "cell_type": "code",
      "metadata": {
        "id": "PJZqCSntal9U"
      },
      "source": [
        "#Import required python packages\n",
        "import pandas as pd\n",
        "import numpy as np\n",
        "import matplotlib.pyplot as plt\n",
        "import seaborn as sb\n",
        "from sklearn import preprocessing\n",
        "from sklearn.linear_model import Ridge\n",
        "from sklearn.metrics import mean_squared_error, r2_score\n",
        "from sklearn.model_selection import cross_val_score\n",
        "from sklearn.model_selection import KFold\n",
        "from sklearn.model_selection import GridSearchCV\n",
        "from sklearn.pipeline import make_pipeline\n",
        "from sklearn import model_selection\n",
        "from sklearn.linear_model import LinearRegression\n",
        "from sklearn.linear_model import Lasso\n",
        "from sklearn.linear_model import ElasticNet\n",
        "%matplotlib inline"
      ],
      "execution_count": 1,
      "outputs": []
    },
    {
      "cell_type": "markdown",
      "metadata": {
        "id": "AglVkOKL4WLi"
      },
      "source": [
        "**2) Mounting the Google Drive**"
      ]
    },
    {
      "cell_type": "code",
      "metadata": {
        "colab": {
          "base_uri": "https://localhost:8080/"
        },
        "id": "puBepcUNbuXJ",
        "outputId": "6e1375f5-afb9-4639-c06e-18d664ae7ff5"
      },
      "source": [
        "# Mount the Google Drive\n",
        "from google.colab import drive\n",
        "drive.mount('/content/gdrive')"
      ],
      "execution_count": 2,
      "outputs": [
        {
          "output_type": "stream",
          "name": "stdout",
          "text": [
            "Mounted at /content/gdrive\n"
          ]
        }
      ]
    },
    {
      "cell_type": "markdown",
      "metadata": {
        "id": "Y3DiPDcD4eDR"
      },
      "source": [
        "**3) Read the Data file and check**"
      ]
    },
    {
      "cell_type": "code",
      "metadata": {
        "colab": {
          "base_uri": "https://localhost:8080/",
          "height": 243
        },
        "id": "aIhTjhU0al9e",
        "outputId": "c6e069f7-8924-4389-8a8b-b66a7347cd5a"
      },
      "source": [
        "# Read the Data from .csv file and check the data shape (number of Rows and Columns)\n",
        "#df = pd.read_csv('gdrive/My Drive/Indi_ML_Training/Training-Sessions/MLP-Session25-05-Jun-2021/train_ctrUa4K.csv')\n",
        "df = pd.read_csv(\"gdrive/My Drive/Datasets/Room Price Prediction/Room_Price_Data_Preprocessed.csv\")\n",
        "print(df.shape)\n",
        "df.head()"
      ],
      "execution_count": 3,
      "outputs": [
        {
          "output_type": "stream",
          "name": "stdout",
          "text": [
            "(4201, 22)\n"
          ]
        },
        {
          "output_type": "execute_result",
          "data": {
            "text/html": [
              "<div>\n",
              "<style scoped>\n",
              "    .dataframe tbody tr th:only-of-type {\n",
              "        vertical-align: middle;\n",
              "    }\n",
              "\n",
              "    .dataframe tbody tr th {\n",
              "        vertical-align: top;\n",
              "    }\n",
              "\n",
              "    .dataframe thead th {\n",
              "        text-align: right;\n",
              "    }\n",
              "</style>\n",
              "<table border=\"1\" class=\"dataframe\">\n",
              "  <thead>\n",
              "    <tr style=\"text-align: right;\">\n",
              "      <th></th>\n",
              "      <th>CancellationPolicy</th>\n",
              "      <th>Accommodates</th>\n",
              "      <th>RoomType</th>\n",
              "      <th>Bathrooms</th>\n",
              "      <th>Bedrooms</th>\n",
              "      <th>CleaningFee</th>\n",
              "      <th>ReviewRating</th>\n",
              "      <th>Price</th>\n",
              "      <th>District_Brooklyn</th>\n",
              "      <th>District_Manhattan</th>\n",
              "      <th>District_Queens</th>\n",
              "      <th>Neighborhood_0</th>\n",
              "      <th>Neighborhood_1</th>\n",
              "      <th>Neighborhood_2</th>\n",
              "      <th>Neighborhood_3</th>\n",
              "      <th>Neighborhood_4</th>\n",
              "      <th>Neighborhood_5</th>\n",
              "      <th>PropertyType_0</th>\n",
              "      <th>PropertyType_1</th>\n",
              "      <th>PropertyType_2</th>\n",
              "      <th>PropertyType_3</th>\n",
              "      <th>PropertyType_4</th>\n",
              "    </tr>\n",
              "  </thead>\n",
              "  <tbody>\n",
              "    <tr>\n",
              "      <th>0</th>\n",
              "      <td>2</td>\n",
              "      <td>2</td>\n",
              "      <td>0</td>\n",
              "      <td>1.0</td>\n",
              "      <td>0.0</td>\n",
              "      <td>75.000000</td>\n",
              "      <td>86.0</td>\n",
              "      <td>160.0</td>\n",
              "      <td>0</td>\n",
              "      <td>1</td>\n",
              "      <td>0</td>\n",
              "      <td>0</td>\n",
              "      <td>0</td>\n",
              "      <td>0</td>\n",
              "      <td>0</td>\n",
              "      <td>0</td>\n",
              "      <td>1</td>\n",
              "      <td>0</td>\n",
              "      <td>0</td>\n",
              "      <td>0</td>\n",
              "      <td>0</td>\n",
              "      <td>1</td>\n",
              "    </tr>\n",
              "    <tr>\n",
              "      <th>1</th>\n",
              "      <td>0</td>\n",
              "      <td>2</td>\n",
              "      <td>0</td>\n",
              "      <td>1.0</td>\n",
              "      <td>1.0</td>\n",
              "      <td>66.646525</td>\n",
              "      <td>100.0</td>\n",
              "      <td>130.0</td>\n",
              "      <td>0</td>\n",
              "      <td>1</td>\n",
              "      <td>0</td>\n",
              "      <td>0</td>\n",
              "      <td>0</td>\n",
              "      <td>0</td>\n",
              "      <td>0</td>\n",
              "      <td>1</td>\n",
              "      <td>0</td>\n",
              "      <td>0</td>\n",
              "      <td>0</td>\n",
              "      <td>0</td>\n",
              "      <td>0</td>\n",
              "      <td>1</td>\n",
              "    </tr>\n",
              "    <tr>\n",
              "      <th>2</th>\n",
              "      <td>2</td>\n",
              "      <td>4</td>\n",
              "      <td>0</td>\n",
              "      <td>1.0</td>\n",
              "      <td>0.0</td>\n",
              "      <td>69.000000</td>\n",
              "      <td>91.0</td>\n",
              "      <td>129.0</td>\n",
              "      <td>0</td>\n",
              "      <td>1</td>\n",
              "      <td>0</td>\n",
              "      <td>0</td>\n",
              "      <td>0</td>\n",
              "      <td>0</td>\n",
              "      <td>0</td>\n",
              "      <td>1</td>\n",
              "      <td>1</td>\n",
              "      <td>0</td>\n",
              "      <td>0</td>\n",
              "      <td>0</td>\n",
              "      <td>0</td>\n",
              "      <td>1</td>\n",
              "    </tr>\n",
              "    <tr>\n",
              "      <th>3</th>\n",
              "      <td>0</td>\n",
              "      <td>2</td>\n",
              "      <td>0</td>\n",
              "      <td>1.0</td>\n",
              "      <td>1.0</td>\n",
              "      <td>60.000000</td>\n",
              "      <td>100.0</td>\n",
              "      <td>145.0</td>\n",
              "      <td>0</td>\n",
              "      <td>1</td>\n",
              "      <td>0</td>\n",
              "      <td>0</td>\n",
              "      <td>0</td>\n",
              "      <td>0</td>\n",
              "      <td>1</td>\n",
              "      <td>0</td>\n",
              "      <td>0</td>\n",
              "      <td>0</td>\n",
              "      <td>0</td>\n",
              "      <td>0</td>\n",
              "      <td>0</td>\n",
              "      <td>1</td>\n",
              "    </tr>\n",
              "    <tr>\n",
              "      <th>4</th>\n",
              "      <td>2</td>\n",
              "      <td>9</td>\n",
              "      <td>0</td>\n",
              "      <td>2.5</td>\n",
              "      <td>3.0</td>\n",
              "      <td>160.000000</td>\n",
              "      <td>94.0</td>\n",
              "      <td>399.0</td>\n",
              "      <td>0</td>\n",
              "      <td>1</td>\n",
              "      <td>0</td>\n",
              "      <td>0</td>\n",
              "      <td>0</td>\n",
              "      <td>0</td>\n",
              "      <td>1</td>\n",
              "      <td>0</td>\n",
              "      <td>1</td>\n",
              "      <td>0</td>\n",
              "      <td>0</td>\n",
              "      <td>0</td>\n",
              "      <td>0</td>\n",
              "      <td>1</td>\n",
              "    </tr>\n",
              "  </tbody>\n",
              "</table>\n",
              "</div>"
            ],
            "text/plain": [
              "   CancellationPolicy  Accommodates  ...  PropertyType_3  PropertyType_4\n",
              "0                   2             2  ...               0               1\n",
              "1                   0             2  ...               0               1\n",
              "2                   2             4  ...               0               1\n",
              "3                   0             2  ...               0               1\n",
              "4                   2             9  ...               0               1\n",
              "\n",
              "[5 rows x 22 columns]"
            ]
          },
          "metadata": {},
          "execution_count": 3
        }
      ]
    },
    {
      "cell_type": "code",
      "metadata": {
        "colab": {
          "base_uri": "https://localhost:8080/"
        },
        "id": "uXs6Bq5U6otr",
        "outputId": "217a263f-6b33-4ba6-ac74-620ba4e20ac0"
      },
      "source": [
        "df.info()"
      ],
      "execution_count": 4,
      "outputs": [
        {
          "output_type": "stream",
          "name": "stdout",
          "text": [
            "<class 'pandas.core.frame.DataFrame'>\n",
            "RangeIndex: 4201 entries, 0 to 4200\n",
            "Data columns (total 22 columns):\n",
            " #   Column              Non-Null Count  Dtype  \n",
            "---  ------              --------------  -----  \n",
            " 0   CancellationPolicy  4201 non-null   int64  \n",
            " 1   Accommodates        4201 non-null   int64  \n",
            " 2   RoomType            4201 non-null   int64  \n",
            " 3   Bathrooms           4201 non-null   float64\n",
            " 4   Bedrooms            4201 non-null   float64\n",
            " 5   CleaningFee         4201 non-null   float64\n",
            " 6   ReviewRating        4201 non-null   float64\n",
            " 7   Price               4201 non-null   float64\n",
            " 8   District_Brooklyn   4201 non-null   int64  \n",
            " 9   District_Manhattan  4201 non-null   int64  \n",
            " 10  District_Queens     4201 non-null   int64  \n",
            " 11  Neighborhood_0      4201 non-null   int64  \n",
            " 12  Neighborhood_1      4201 non-null   int64  \n",
            " 13  Neighborhood_2      4201 non-null   int64  \n",
            " 14  Neighborhood_3      4201 non-null   int64  \n",
            " 15  Neighborhood_4      4201 non-null   int64  \n",
            " 16  Neighborhood_5      4201 non-null   int64  \n",
            " 17  PropertyType_0      4201 non-null   int64  \n",
            " 18  PropertyType_1      4201 non-null   int64  \n",
            " 19  PropertyType_2      4201 non-null   int64  \n",
            " 20  PropertyType_3      4201 non-null   int64  \n",
            " 21  PropertyType_4      4201 non-null   int64  \n",
            "dtypes: float64(5), int64(17)\n",
            "memory usage: 722.2 KB\n"
          ]
        }
      ]
    },
    {
      "cell_type": "markdown",
      "metadata": {
        "id": "2n55Z7lAQgkH"
      },
      "source": [
        "##**VII) Check the Test accuracy using appropriate algorithm and Holdout Method.**"
      ]
    },
    {
      "cell_type": "markdown",
      "metadata": {
        "id": "Fem9YW14fIU6"
      },
      "source": [
        "##**Step-5: Slice X and y Values**"
      ]
    },
    {
      "cell_type": "code",
      "metadata": {
        "colab": {
          "base_uri": "https://localhost:8080/",
          "height": 226
        },
        "id": "pfwaOwx5fTwv",
        "outputId": "01269b72-f310-4d56-fa5b-177310b36d0d"
      },
      "source": [
        "X = df.drop(['Price'], axis = 1)\n",
        "Y = df['Price']\n",
        "X.head()"
      ],
      "execution_count": 5,
      "outputs": [
        {
          "output_type": "execute_result",
          "data": {
            "text/html": [
              "<div>\n",
              "<style scoped>\n",
              "    .dataframe tbody tr th:only-of-type {\n",
              "        vertical-align: middle;\n",
              "    }\n",
              "\n",
              "    .dataframe tbody tr th {\n",
              "        vertical-align: top;\n",
              "    }\n",
              "\n",
              "    .dataframe thead th {\n",
              "        text-align: right;\n",
              "    }\n",
              "</style>\n",
              "<table border=\"1\" class=\"dataframe\">\n",
              "  <thead>\n",
              "    <tr style=\"text-align: right;\">\n",
              "      <th></th>\n",
              "      <th>CancellationPolicy</th>\n",
              "      <th>Accommodates</th>\n",
              "      <th>RoomType</th>\n",
              "      <th>Bathrooms</th>\n",
              "      <th>Bedrooms</th>\n",
              "      <th>CleaningFee</th>\n",
              "      <th>ReviewRating</th>\n",
              "      <th>District_Brooklyn</th>\n",
              "      <th>District_Manhattan</th>\n",
              "      <th>District_Queens</th>\n",
              "      <th>Neighborhood_0</th>\n",
              "      <th>Neighborhood_1</th>\n",
              "      <th>Neighborhood_2</th>\n",
              "      <th>Neighborhood_3</th>\n",
              "      <th>Neighborhood_4</th>\n",
              "      <th>Neighborhood_5</th>\n",
              "      <th>PropertyType_0</th>\n",
              "      <th>PropertyType_1</th>\n",
              "      <th>PropertyType_2</th>\n",
              "      <th>PropertyType_3</th>\n",
              "      <th>PropertyType_4</th>\n",
              "    </tr>\n",
              "  </thead>\n",
              "  <tbody>\n",
              "    <tr>\n",
              "      <th>0</th>\n",
              "      <td>2</td>\n",
              "      <td>2</td>\n",
              "      <td>0</td>\n",
              "      <td>1.0</td>\n",
              "      <td>0.0</td>\n",
              "      <td>75.000000</td>\n",
              "      <td>86.0</td>\n",
              "      <td>0</td>\n",
              "      <td>1</td>\n",
              "      <td>0</td>\n",
              "      <td>0</td>\n",
              "      <td>0</td>\n",
              "      <td>0</td>\n",
              "      <td>0</td>\n",
              "      <td>0</td>\n",
              "      <td>1</td>\n",
              "      <td>0</td>\n",
              "      <td>0</td>\n",
              "      <td>0</td>\n",
              "      <td>0</td>\n",
              "      <td>1</td>\n",
              "    </tr>\n",
              "    <tr>\n",
              "      <th>1</th>\n",
              "      <td>0</td>\n",
              "      <td>2</td>\n",
              "      <td>0</td>\n",
              "      <td>1.0</td>\n",
              "      <td>1.0</td>\n",
              "      <td>66.646525</td>\n",
              "      <td>100.0</td>\n",
              "      <td>0</td>\n",
              "      <td>1</td>\n",
              "      <td>0</td>\n",
              "      <td>0</td>\n",
              "      <td>0</td>\n",
              "      <td>0</td>\n",
              "      <td>0</td>\n",
              "      <td>1</td>\n",
              "      <td>0</td>\n",
              "      <td>0</td>\n",
              "      <td>0</td>\n",
              "      <td>0</td>\n",
              "      <td>0</td>\n",
              "      <td>1</td>\n",
              "    </tr>\n",
              "    <tr>\n",
              "      <th>2</th>\n",
              "      <td>2</td>\n",
              "      <td>4</td>\n",
              "      <td>0</td>\n",
              "      <td>1.0</td>\n",
              "      <td>0.0</td>\n",
              "      <td>69.000000</td>\n",
              "      <td>91.0</td>\n",
              "      <td>0</td>\n",
              "      <td>1</td>\n",
              "      <td>0</td>\n",
              "      <td>0</td>\n",
              "      <td>0</td>\n",
              "      <td>0</td>\n",
              "      <td>0</td>\n",
              "      <td>1</td>\n",
              "      <td>1</td>\n",
              "      <td>0</td>\n",
              "      <td>0</td>\n",
              "      <td>0</td>\n",
              "      <td>0</td>\n",
              "      <td>1</td>\n",
              "    </tr>\n",
              "    <tr>\n",
              "      <th>3</th>\n",
              "      <td>0</td>\n",
              "      <td>2</td>\n",
              "      <td>0</td>\n",
              "      <td>1.0</td>\n",
              "      <td>1.0</td>\n",
              "      <td>60.000000</td>\n",
              "      <td>100.0</td>\n",
              "      <td>0</td>\n",
              "      <td>1</td>\n",
              "      <td>0</td>\n",
              "      <td>0</td>\n",
              "      <td>0</td>\n",
              "      <td>0</td>\n",
              "      <td>1</td>\n",
              "      <td>0</td>\n",
              "      <td>0</td>\n",
              "      <td>0</td>\n",
              "      <td>0</td>\n",
              "      <td>0</td>\n",
              "      <td>0</td>\n",
              "      <td>1</td>\n",
              "    </tr>\n",
              "    <tr>\n",
              "      <th>4</th>\n",
              "      <td>2</td>\n",
              "      <td>9</td>\n",
              "      <td>0</td>\n",
              "      <td>2.5</td>\n",
              "      <td>3.0</td>\n",
              "      <td>160.000000</td>\n",
              "      <td>94.0</td>\n",
              "      <td>0</td>\n",
              "      <td>1</td>\n",
              "      <td>0</td>\n",
              "      <td>0</td>\n",
              "      <td>0</td>\n",
              "      <td>0</td>\n",
              "      <td>1</td>\n",
              "      <td>0</td>\n",
              "      <td>1</td>\n",
              "      <td>0</td>\n",
              "      <td>0</td>\n",
              "      <td>0</td>\n",
              "      <td>0</td>\n",
              "      <td>1</td>\n",
              "    </tr>\n",
              "  </tbody>\n",
              "</table>\n",
              "</div>"
            ],
            "text/plain": [
              "   CancellationPolicy  Accommodates  ...  PropertyType_3  PropertyType_4\n",
              "0                   2             2  ...               0               1\n",
              "1                   0             2  ...               0               1\n",
              "2                   2             4  ...               0               1\n",
              "3                   0             2  ...               0               1\n",
              "4                   2             9  ...               0               1\n",
              "\n",
              "[5 rows x 21 columns]"
            ]
          },
          "metadata": {},
          "execution_count": 5
        }
      ]
    },
    {
      "cell_type": "code",
      "metadata": {
        "colab": {
          "base_uri": "https://localhost:8080/"
        },
        "id": "5ZITjuHwfem-",
        "outputId": "31787140-fe31-48c1-cab5-aefa225199ac"
      },
      "source": [
        "Y.head()"
      ],
      "execution_count": 6,
      "outputs": [
        {
          "output_type": "execute_result",
          "data": {
            "text/plain": [
              "0    160.0\n",
              "1    130.0\n",
              "2    129.0\n",
              "3    145.0\n",
              "4    399.0\n",
              "Name: Price, dtype: float64"
            ]
          },
          "metadata": {},
          "execution_count": 6
        }
      ]
    },
    {
      "cell_type": "markdown",
      "metadata": {
        "id": "j2EZEPCMfgu4"
      },
      "source": [
        "##**Step-6: Execute Train-Test-Split Command and Verify**"
      ]
    },
    {
      "cell_type": "code",
      "metadata": {
        "id": "gBNZDgNEfpZq"
      },
      "source": [
        "from sklearn.model_selection import train_test_split\n",
        "X_train, X_test, y_train, y_test = train_test_split(X, Y, test_size = 0.2, random_state = 66)"
      ],
      "execution_count": 7,
      "outputs": []
    },
    {
      "cell_type": "code",
      "metadata": {
        "colab": {
          "base_uri": "https://localhost:8080/"
        },
        "id": "--QAEH4QfyM1",
        "outputId": "bae25490-718b-4dad-bdef-9b6abd372ea3"
      },
      "source": [
        "print(X_train.shape)\n",
        "print(y_train.shape)\n",
        "print(X_test.shape)\n",
        "print(y_test.shape)"
      ],
      "execution_count": 8,
      "outputs": [
        {
          "output_type": "stream",
          "name": "stdout",
          "text": [
            "(3360, 21)\n",
            "(3360,)\n",
            "(841, 21)\n",
            "(841,)\n"
          ]
        }
      ]
    },
    {
      "cell_type": "code",
      "metadata": {
        "colab": {
          "base_uri": "https://localhost:8080/"
        },
        "id": "hyU7_PcNcdV2",
        "outputId": "12ee6ee3-8910-455b-91ae-6d55e2b9cb6c"
      },
      "source": [
        "alphas = [0.001, 0.01, 0.1, 1, 10]\n",
        "print('All errors are RMSE')\n",
        "print('-'*76)\n",
        "for alpha in alphas:\n",
        "    # instantiate and fit model\n",
        "    ridge = Ridge(alpha=alpha, fit_intercept=True, random_state=99)\n",
        "    ridge.fit(X_train, y_train)\n",
        "    # calculate errors\n",
        "    new_train_error1 = np.sqrt(mean_squared_error(y_train, ridge.predict(X_train)))\n",
        "    #new_validation_error1 = np.sqrt(mean_squared_error(y_validation, ridge.predict(X_validation)))\n",
        "    new_test_error1 = np.sqrt(mean_squared_error(y_test, ridge.predict(X_test)))\n",
        "    # print errors as report\n",
        "    #print('alpha: {:7} | train error: {:5} | val error: {:6} | test error: {}'.\n",
        "    print('alpha: {:7} | train error: {:5} | test error: {}'.\n",
        "          format(alpha,\n",
        "                 round(new_train_error1,3),\n",
        "                 #round(new_validation_error1,3),\n",
        "                 round(new_test_error1,3)))"
      ],
      "execution_count": 9,
      "outputs": [
        {
          "output_type": "stream",
          "name": "stdout",
          "text": [
            "All errors are RMSE\n",
            "----------------------------------------------------------------------------\n",
            "alpha:   0.001 | train error: 69.766 | test error: 83.133\n",
            "alpha:    0.01 | train error: 69.766 | test error: 83.133\n",
            "alpha:     0.1 | train error: 69.766 | test error: 83.13\n",
            "alpha:       1 | train error: 69.777 | test error: 83.122\n",
            "alpha:      10 | train error: 69.845 | test error: 83.184\n"
          ]
        }
      ]
    },
    {
      "cell_type": "code",
      "metadata": {
        "colab": {
          "base_uri": "https://localhost:8080/"
        },
        "id": "7FFnl0AXcmy3",
        "outputId": "ae287a4e-f8ea-4004-be11-fc34c5bb4da2"
      },
      "source": [
        "from sklearn.linear_model import Ridge\n",
        "ridge = Ridge(alpha=10)\n",
        "ridge.fit(X_train, y_train) \n",
        "pred_train_ridge= ridge.predict(X_train)\n",
        "Ridge_Train_Acc = r2_score(y_train, pred_train_ridge)\n",
        "Ridge_Train_Err = np.sqrt(mean_squared_error(y_train,pred_train_ridge))\n",
        "print(\"Train Error : \", np.sqrt(mean_squared_error(y_train,pred_train_ridge)))\n",
        "print(\"Train Accuracy : \", r2_score(y_train, pred_train_ridge))\n",
        "pred_test_ridge= ridge.predict(X_test)\n",
        "Ridge_Test_Acc = r2_score(y_test, pred_test_ridge)\n",
        "Ridge_Test_Err = np.sqrt(mean_squared_error(y_test,pred_test_ridge))\n",
        "print(\"Test Error : \", np.sqrt(mean_squared_error(y_test,pred_test_ridge))) \n",
        "print(\"Test Accuracy : \", r2_score(y_test, pred_test_ridge))"
      ],
      "execution_count": 10,
      "outputs": [
        {
          "output_type": "stream",
          "name": "stdout",
          "text": [
            "Train Error :  69.84455345294701\n",
            "Train Accuracy :  0.5711966807388652\n",
            "Test Error :  83.18421980376996\n",
            "Test Accuracy :  0.5500176409211615\n"
          ]
        }
      ]
    },
    {
      "cell_type": "code",
      "metadata": {
        "colab": {
          "base_uri": "https://localhost:8080/"
        },
        "id": "vpUjFLygcsv6",
        "outputId": "40c402c1-f2b8-4b4c-f894-b56163826723"
      },
      "source": [
        "# k-fold CV \n",
        "#lm = LinearRegression()\n",
        "from sklearn.model_selection import cross_val_score\n",
        "Ridge_scores = cross_val_score(ridge, X, Y, scoring='r2', cv=5)\n",
        "print(Ridge_scores)\n",
        "Ridge_CV_Average=np.average(Ridge_scores)   \n",
        "Ridge_CV_Average"
      ],
      "execution_count": 11,
      "outputs": [
        {
          "output_type": "stream",
          "name": "stdout",
          "text": [
            "[0.57788548 0.508231   0.60235453 0.51940001 0.58849828]\n"
          ]
        },
        {
          "output_type": "execute_result",
          "data": {
            "text/plain": [
              "0.5592738609848944"
            ]
          },
          "metadata": {},
          "execution_count": 11
        }
      ]
    },
    {
      "cell_type": "markdown",
      "metadata": {
        "id": "pEHWJk26T3XZ"
      },
      "source": [
        "##**IX) Check for Multi-collinearity and find out the new accuracy as required**"
      ]
    },
    {
      "cell_type": "markdown",
      "metadata": {
        "id": "tKsSD8k5qfsd"
      },
      "source": [
        "###**Checking for MultiCollinearity**"
      ]
    },
    {
      "cell_type": "markdown",
      "metadata": {
        "id": "ZgaVu-y_qj-H"
      },
      "source": [
        "VIF starts at 1 and has no upper limit\n",
        "\n",
        "VIF = 1, no correlation between the independent variable and the other variables\n",
        "\n",
        "VIF exceeding 5 or 10 indicates high multicollinearity between this independent variable and the others"
      ]
    },
    {
      "cell_type": "code",
      "metadata": {
        "id": "xxMFNp7HUAL4",
        "colab": {
          "base_uri": "https://localhost:8080/"
        },
        "outputId": "cdd08b59-eb91-4f98-f6a0-25065d2d96ed"
      },
      "source": [
        "# Import library for VIF\n",
        "from statsmodels.stats.outliers_influence import variance_inflation_factor\n",
        "\n",
        "def calc_vif(X):\n",
        "\n",
        "    # Calculating VIF\n",
        "    vif = pd.DataFrame()\n",
        "    vif[\"variables\"] = X.columns\n",
        "    vif[\"VIF\"] = [variance_inflation_factor(X.values, i) for i in range(X.shape[1])]\n",
        "\n",
        "    return(vif)"
      ],
      "execution_count": 12,
      "outputs": [
        {
          "output_type": "stream",
          "name": "stderr",
          "text": [
            "/usr/local/lib/python3.7/dist-packages/statsmodels/tools/_testing.py:19: FutureWarning: pandas.util.testing is deprecated. Use the functions in the public API at pandas.testing instead.\n",
            "  import pandas.util.testing as tm\n"
          ]
        }
      ]
    },
    {
      "cell_type": "code",
      "metadata": {
        "id": "levBaW64qxI3",
        "colab": {
          "base_uri": "https://localhost:8080/",
          "height": 708
        },
        "outputId": "b86da694-8369-47c3-d3a9-b9d0345ed4f6"
      },
      "source": [
        "calc_vif(X)"
      ],
      "execution_count": 13,
      "outputs": [
        {
          "output_type": "execute_result",
          "data": {
            "text/html": [
              "<div>\n",
              "<style scoped>\n",
              "    .dataframe tbody tr th:only-of-type {\n",
              "        vertical-align: middle;\n",
              "    }\n",
              "\n",
              "    .dataframe tbody tr th {\n",
              "        vertical-align: top;\n",
              "    }\n",
              "\n",
              "    .dataframe thead th {\n",
              "        text-align: right;\n",
              "    }\n",
              "</style>\n",
              "<table border=\"1\" class=\"dataframe\">\n",
              "  <thead>\n",
              "    <tr style=\"text-align: right;\">\n",
              "      <th></th>\n",
              "      <th>variables</th>\n",
              "      <th>VIF</th>\n",
              "    </tr>\n",
              "  </thead>\n",
              "  <tbody>\n",
              "    <tr>\n",
              "      <th>0</th>\n",
              "      <td>CancellationPolicy</td>\n",
              "      <td>3.841413</td>\n",
              "    </tr>\n",
              "    <tr>\n",
              "      <th>1</th>\n",
              "      <td>Accommodates</td>\n",
              "      <td>8.490512</td>\n",
              "    </tr>\n",
              "    <tr>\n",
              "      <th>2</th>\n",
              "      <td>RoomType</td>\n",
              "      <td>2.586458</td>\n",
              "    </tr>\n",
              "    <tr>\n",
              "      <th>3</th>\n",
              "      <td>Bathrooms</td>\n",
              "      <td>16.860029</td>\n",
              "    </tr>\n",
              "    <tr>\n",
              "      <th>4</th>\n",
              "      <td>Bedrooms</td>\n",
              "      <td>6.449313</td>\n",
              "    </tr>\n",
              "    <tr>\n",
              "      <th>5</th>\n",
              "      <td>CleaningFee</td>\n",
              "      <td>5.824447</td>\n",
              "    </tr>\n",
              "    <tr>\n",
              "      <th>6</th>\n",
              "      <td>ReviewRating</td>\n",
              "      <td>112.240090</td>\n",
              "    </tr>\n",
              "    <tr>\n",
              "      <th>7</th>\n",
              "      <td>District_Brooklyn</td>\n",
              "      <td>3.559062</td>\n",
              "    </tr>\n",
              "    <tr>\n",
              "      <th>8</th>\n",
              "      <td>District_Manhattan</td>\n",
              "      <td>200.393822</td>\n",
              "    </tr>\n",
              "    <tr>\n",
              "      <th>9</th>\n",
              "      <td>District_Queens</td>\n",
              "      <td>2.640803</td>\n",
              "    </tr>\n",
              "    <tr>\n",
              "      <th>10</th>\n",
              "      <td>Neighborhood_0</td>\n",
              "      <td>1.313444</td>\n",
              "    </tr>\n",
              "    <tr>\n",
              "      <th>11</th>\n",
              "      <td>Neighborhood_1</td>\n",
              "      <td>1.311056</td>\n",
              "    </tr>\n",
              "    <tr>\n",
              "      <th>12</th>\n",
              "      <td>Neighborhood_2</td>\n",
              "      <td>1.703973</td>\n",
              "    </tr>\n",
              "    <tr>\n",
              "      <th>13</th>\n",
              "      <td>Neighborhood_3</td>\n",
              "      <td>1.965582</td>\n",
              "    </tr>\n",
              "    <tr>\n",
              "      <th>14</th>\n",
              "      <td>Neighborhood_4</td>\n",
              "      <td>2.732606</td>\n",
              "    </tr>\n",
              "    <tr>\n",
              "      <th>15</th>\n",
              "      <td>Neighborhood_5</td>\n",
              "      <td>2.609807</td>\n",
              "    </tr>\n",
              "    <tr>\n",
              "      <th>16</th>\n",
              "      <td>PropertyType_0</td>\n",
              "      <td>1.021560</td>\n",
              "    </tr>\n",
              "    <tr>\n",
              "      <th>17</th>\n",
              "      <td>PropertyType_1</td>\n",
              "      <td>1.323844</td>\n",
              "    </tr>\n",
              "    <tr>\n",
              "      <th>18</th>\n",
              "      <td>PropertyType_2</td>\n",
              "      <td>1.919576</td>\n",
              "    </tr>\n",
              "    <tr>\n",
              "      <th>19</th>\n",
              "      <td>PropertyType_3</td>\n",
              "      <td>2.073189</td>\n",
              "    </tr>\n",
              "    <tr>\n",
              "      <th>20</th>\n",
              "      <td>PropertyType_4</td>\n",
              "      <td>81.291712</td>\n",
              "    </tr>\n",
              "  </tbody>\n",
              "</table>\n",
              "</div>"
            ],
            "text/plain": [
              "             variables         VIF\n",
              "0   CancellationPolicy    3.841413\n",
              "1         Accommodates    8.490512\n",
              "2             RoomType    2.586458\n",
              "3            Bathrooms   16.860029\n",
              "4             Bedrooms    6.449313\n",
              "5          CleaningFee    5.824447\n",
              "6         ReviewRating  112.240090\n",
              "7    District_Brooklyn    3.559062\n",
              "8   District_Manhattan  200.393822\n",
              "9      District_Queens    2.640803\n",
              "10      Neighborhood_0    1.313444\n",
              "11      Neighborhood_1    1.311056\n",
              "12      Neighborhood_2    1.703973\n",
              "13      Neighborhood_3    1.965582\n",
              "14      Neighborhood_4    2.732606\n",
              "15      Neighborhood_5    2.609807\n",
              "16      PropertyType_0    1.021560\n",
              "17      PropertyType_1    1.323844\n",
              "18      PropertyType_2    1.919576\n",
              "19      PropertyType_3    2.073189\n",
              "20      PropertyType_4   81.291712"
            ]
          },
          "metadata": {},
          "execution_count": 13
        }
      ]
    },
    {
      "cell_type": "code",
      "metadata": {
        "id": "HDOt48VCra_S",
        "colab": {
          "base_uri": "https://localhost:8080/"
        },
        "outputId": "4671449c-6441-491a-d108-332657e21860"
      },
      "source": [
        "X.shape"
      ],
      "execution_count": 14,
      "outputs": [
        {
          "output_type": "execute_result",
          "data": {
            "text/plain": [
              "(4201, 21)"
            ]
          },
          "metadata": {},
          "execution_count": 14
        }
      ]
    },
    {
      "cell_type": "code",
      "metadata": {
        "colab": {
          "base_uri": "https://localhost:8080/"
        },
        "id": "fGzQRJiTv8y2",
        "outputId": "64766552-762c-4cc3-de61-2fd6cdfd6e9a"
      },
      "source": [
        "X.columns"
      ],
      "execution_count": 15,
      "outputs": [
        {
          "output_type": "execute_result",
          "data": {
            "text/plain": [
              "Index(['CancellationPolicy', 'Accommodates', 'RoomType', 'Bathrooms',\n",
              "       'Bedrooms', 'CleaningFee', 'ReviewRating', 'District_Brooklyn',\n",
              "       'District_Manhattan', 'District_Queens', 'Neighborhood_0',\n",
              "       'Neighborhood_1', 'Neighborhood_2', 'Neighborhood_3', 'Neighborhood_4',\n",
              "       'Neighborhood_5', 'PropertyType_0', 'PropertyType_1', 'PropertyType_2',\n",
              "       'PropertyType_3', 'PropertyType_4'],\n",
              "      dtype='object')"
            ]
          },
          "metadata": {},
          "execution_count": 15
        }
      ]
    },
    {
      "cell_type": "code",
      "metadata": {
        "id": "Tj1Pas9Brnts"
      },
      "source": [
        "X1= X.drop(['Bathrooms', 'ReviewRating', 'District_Manhattan', 'PropertyType_4'], axis=1, inplace=False)"
      ],
      "execution_count": 16,
      "outputs": []
    },
    {
      "cell_type": "code",
      "metadata": {
        "id": "SW-uRAnrrtrX",
        "colab": {
          "base_uri": "https://localhost:8080/"
        },
        "outputId": "e9f48545-194a-428b-9d49-e252dd4ea678"
      },
      "source": [
        "X1.info()"
      ],
      "execution_count": 17,
      "outputs": [
        {
          "output_type": "stream",
          "name": "stdout",
          "text": [
            "<class 'pandas.core.frame.DataFrame'>\n",
            "RangeIndex: 4201 entries, 0 to 4200\n",
            "Data columns (total 17 columns):\n",
            " #   Column              Non-Null Count  Dtype  \n",
            "---  ------              --------------  -----  \n",
            " 0   CancellationPolicy  4201 non-null   int64  \n",
            " 1   Accommodates        4201 non-null   int64  \n",
            " 2   RoomType            4201 non-null   int64  \n",
            " 3   Bedrooms            4201 non-null   float64\n",
            " 4   CleaningFee         4201 non-null   float64\n",
            " 5   District_Brooklyn   4201 non-null   int64  \n",
            " 6   District_Queens     4201 non-null   int64  \n",
            " 7   Neighborhood_0      4201 non-null   int64  \n",
            " 8   Neighborhood_1      4201 non-null   int64  \n",
            " 9   Neighborhood_2      4201 non-null   int64  \n",
            " 10  Neighborhood_3      4201 non-null   int64  \n",
            " 11  Neighborhood_4      4201 non-null   int64  \n",
            " 12  Neighborhood_5      4201 non-null   int64  \n",
            " 13  PropertyType_0      4201 non-null   int64  \n",
            " 14  PropertyType_1      4201 non-null   int64  \n",
            " 15  PropertyType_2      4201 non-null   int64  \n",
            " 16  PropertyType_3      4201 non-null   int64  \n",
            "dtypes: float64(2), int64(15)\n",
            "memory usage: 558.1 KB\n"
          ]
        }
      ]
    },
    {
      "cell_type": "code",
      "metadata": {
        "id": "pq2Cvpy9r2Me",
        "colab": {
          "base_uri": "https://localhost:8080/",
          "height": 582
        },
        "outputId": "c771ed9a-7bde-44ff-eec7-5add64fa3330"
      },
      "source": [
        "calc_vif(X1)"
      ],
      "execution_count": 18,
      "outputs": [
        {
          "output_type": "execute_result",
          "data": {
            "text/html": [
              "<div>\n",
              "<style scoped>\n",
              "    .dataframe tbody tr th:only-of-type {\n",
              "        vertical-align: middle;\n",
              "    }\n",
              "\n",
              "    .dataframe tbody tr th {\n",
              "        vertical-align: top;\n",
              "    }\n",
              "\n",
              "    .dataframe thead th {\n",
              "        text-align: right;\n",
              "    }\n",
              "</style>\n",
              "<table border=\"1\" class=\"dataframe\">\n",
              "  <thead>\n",
              "    <tr style=\"text-align: right;\">\n",
              "      <th></th>\n",
              "      <th>variables</th>\n",
              "      <th>VIF</th>\n",
              "    </tr>\n",
              "  </thead>\n",
              "  <tbody>\n",
              "    <tr>\n",
              "      <th>0</th>\n",
              "      <td>CancellationPolicy</td>\n",
              "      <td>3.497181</td>\n",
              "    </tr>\n",
              "    <tr>\n",
              "      <th>1</th>\n",
              "      <td>Accommodates</td>\n",
              "      <td>7.463950</td>\n",
              "    </tr>\n",
              "    <tr>\n",
              "      <th>2</th>\n",
              "      <td>RoomType</td>\n",
              "      <td>2.032204</td>\n",
              "    </tr>\n",
              "    <tr>\n",
              "      <th>3</th>\n",
              "      <td>Bedrooms</td>\n",
              "      <td>6.292234</td>\n",
              "    </tr>\n",
              "    <tr>\n",
              "      <th>4</th>\n",
              "      <td>CleaningFee</td>\n",
              "      <td>4.876177</td>\n",
              "    </tr>\n",
              "    <tr>\n",
              "      <th>5</th>\n",
              "      <td>District_Brooklyn</td>\n",
              "      <td>1.178333</td>\n",
              "    </tr>\n",
              "    <tr>\n",
              "      <th>6</th>\n",
              "      <td>District_Queens</td>\n",
              "      <td>1.217919</td>\n",
              "    </tr>\n",
              "    <tr>\n",
              "      <th>7</th>\n",
              "      <td>Neighborhood_0</td>\n",
              "      <td>1.305506</td>\n",
              "    </tr>\n",
              "    <tr>\n",
              "      <th>8</th>\n",
              "      <td>Neighborhood_1</td>\n",
              "      <td>1.267123</td>\n",
              "    </tr>\n",
              "    <tr>\n",
              "      <th>9</th>\n",
              "      <td>Neighborhood_2</td>\n",
              "      <td>1.614065</td>\n",
              "    </tr>\n",
              "    <tr>\n",
              "      <th>10</th>\n",
              "      <td>Neighborhood_3</td>\n",
              "      <td>1.828161</td>\n",
              "    </tr>\n",
              "    <tr>\n",
              "      <th>11</th>\n",
              "      <td>Neighborhood_4</td>\n",
              "      <td>2.441553</td>\n",
              "    </tr>\n",
              "    <tr>\n",
              "      <th>12</th>\n",
              "      <td>Neighborhood_5</td>\n",
              "      <td>2.310222</td>\n",
              "    </tr>\n",
              "    <tr>\n",
              "      <th>13</th>\n",
              "      <td>PropertyType_0</td>\n",
              "      <td>1.001498</td>\n",
              "    </tr>\n",
              "    <tr>\n",
              "      <th>14</th>\n",
              "      <td>PropertyType_1</td>\n",
              "      <td>1.028418</td>\n",
              "    </tr>\n",
              "    <tr>\n",
              "      <th>15</th>\n",
              "      <td>PropertyType_2</td>\n",
              "      <td>1.224133</td>\n",
              "    </tr>\n",
              "    <tr>\n",
              "      <th>16</th>\n",
              "      <td>PropertyType_3</td>\n",
              "      <td>1.189725</td>\n",
              "    </tr>\n",
              "  </tbody>\n",
              "</table>\n",
              "</div>"
            ],
            "text/plain": [
              "             variables       VIF\n",
              "0   CancellationPolicy  3.497181\n",
              "1         Accommodates  7.463950\n",
              "2             RoomType  2.032204\n",
              "3             Bedrooms  6.292234\n",
              "4          CleaningFee  4.876177\n",
              "5    District_Brooklyn  1.178333\n",
              "6      District_Queens  1.217919\n",
              "7       Neighborhood_0  1.305506\n",
              "8       Neighborhood_1  1.267123\n",
              "9       Neighborhood_2  1.614065\n",
              "10      Neighborhood_3  1.828161\n",
              "11      Neighborhood_4  2.441553\n",
              "12      Neighborhood_5  2.310222\n",
              "13      PropertyType_0  1.001498\n",
              "14      PropertyType_1  1.028418\n",
              "15      PropertyType_2  1.224133\n",
              "16      PropertyType_3  1.189725"
            ]
          },
          "metadata": {},
          "execution_count": 18
        }
      ]
    },
    {
      "cell_type": "code",
      "metadata": {
        "id": "EC7PY7_5sNle"
      },
      "source": [
        "from sklearn.model_selection import train_test_split\n",
        "X1_train, X1_test, Y1_train, Y1_test = train_test_split(X1, Y, test_size = 0.2, random_state = 66)"
      ],
      "execution_count": 19,
      "outputs": []
    },
    {
      "cell_type": "code",
      "metadata": {
        "id": "lWolVkN8xGhW"
      },
      "source": [
        "# Fitting Multiple Linear Regression to the Training set\n",
        "from sklearn.linear_model import LinearRegression\n",
        "regressor = LinearRegression()\n",
        "model=regressor.fit(X1_train, Y1_train)"
      ],
      "execution_count": 20,
      "outputs": []
    },
    {
      "cell_type": "code",
      "metadata": {
        "id": "cED250quxe-6"
      },
      "source": [
        "# Predicting the Test set results\n",
        "Y1_pred = regressor.predict(X1_test)"
      ],
      "execution_count": 21,
      "outputs": []
    },
    {
      "cell_type": "code",
      "metadata": {
        "colab": {
          "base_uri": "https://localhost:8080/"
        },
        "id": "hC2RRYZax2rw",
        "outputId": "a8f3a6df-9057-45f2-cea0-f7ee8983fc3a"
      },
      "source": [
        "print(\"Training Accuracy :\", regressor.score(X1_train,Y1_train))\n",
        "print(\"Testing Accuracy :\", r2_score(Y1_test,Y1_pred))"
      ],
      "execution_count": 22,
      "outputs": [
        {
          "output_type": "stream",
          "name": "stdout",
          "text": [
            "Training Accuracy : 0.5477901175745981\n",
            "Testing Accuracy : 0.5086402859176145\n"
          ]
        }
      ]
    },
    {
      "cell_type": "markdown",
      "metadata": {
        "id": "Nuy8W-PX2Wco"
      },
      "source": [
        "**Observation: After removal of the columns with IVF factor more than 10 \" the model gives the accuracy less that of the accuracy without removal**\n",
        "\n",
        "**Decision: We will not remove the columns**"
      ]
    },
    {
      "cell_type": "markdown",
      "metadata": {
        "id": "AIhNQaAJULkS"
      },
      "source": [
        "##**X) Check for Outliers and handle them accordingly**"
      ]
    },
    {
      "cell_type": "markdown",
      "metadata": {
        "id": "-0yrqkCCxHe-"
      },
      "source": [
        "###**Outliers Detection**"
      ]
    },
    {
      "cell_type": "code",
      "metadata": {
        "id": "-yI7oGoT0QSu"
      },
      "source": [
        "df1=df"
      ],
      "execution_count": 23,
      "outputs": []
    },
    {
      "cell_type": "code",
      "metadata": {
        "id": "-2GLHo0PxiKt",
        "colab": {
          "base_uri": "https://localhost:8080/",
          "height": 226
        },
        "outputId": "831fb5be-a536-4905-95ca-babc33b604a4"
      },
      "source": [
        "df1.head()"
      ],
      "execution_count": 24,
      "outputs": [
        {
          "output_type": "execute_result",
          "data": {
            "text/html": [
              "<div>\n",
              "<style scoped>\n",
              "    .dataframe tbody tr th:only-of-type {\n",
              "        vertical-align: middle;\n",
              "    }\n",
              "\n",
              "    .dataframe tbody tr th {\n",
              "        vertical-align: top;\n",
              "    }\n",
              "\n",
              "    .dataframe thead th {\n",
              "        text-align: right;\n",
              "    }\n",
              "</style>\n",
              "<table border=\"1\" class=\"dataframe\">\n",
              "  <thead>\n",
              "    <tr style=\"text-align: right;\">\n",
              "      <th></th>\n",
              "      <th>CancellationPolicy</th>\n",
              "      <th>Accommodates</th>\n",
              "      <th>RoomType</th>\n",
              "      <th>Bathrooms</th>\n",
              "      <th>Bedrooms</th>\n",
              "      <th>CleaningFee</th>\n",
              "      <th>ReviewRating</th>\n",
              "      <th>Price</th>\n",
              "      <th>District_Brooklyn</th>\n",
              "      <th>District_Manhattan</th>\n",
              "      <th>District_Queens</th>\n",
              "      <th>Neighborhood_0</th>\n",
              "      <th>Neighborhood_1</th>\n",
              "      <th>Neighborhood_2</th>\n",
              "      <th>Neighborhood_3</th>\n",
              "      <th>Neighborhood_4</th>\n",
              "      <th>Neighborhood_5</th>\n",
              "      <th>PropertyType_0</th>\n",
              "      <th>PropertyType_1</th>\n",
              "      <th>PropertyType_2</th>\n",
              "      <th>PropertyType_3</th>\n",
              "      <th>PropertyType_4</th>\n",
              "    </tr>\n",
              "  </thead>\n",
              "  <tbody>\n",
              "    <tr>\n",
              "      <th>0</th>\n",
              "      <td>2</td>\n",
              "      <td>2</td>\n",
              "      <td>0</td>\n",
              "      <td>1.0</td>\n",
              "      <td>0.0</td>\n",
              "      <td>75.000000</td>\n",
              "      <td>86.0</td>\n",
              "      <td>160.0</td>\n",
              "      <td>0</td>\n",
              "      <td>1</td>\n",
              "      <td>0</td>\n",
              "      <td>0</td>\n",
              "      <td>0</td>\n",
              "      <td>0</td>\n",
              "      <td>0</td>\n",
              "      <td>0</td>\n",
              "      <td>1</td>\n",
              "      <td>0</td>\n",
              "      <td>0</td>\n",
              "      <td>0</td>\n",
              "      <td>0</td>\n",
              "      <td>1</td>\n",
              "    </tr>\n",
              "    <tr>\n",
              "      <th>1</th>\n",
              "      <td>0</td>\n",
              "      <td>2</td>\n",
              "      <td>0</td>\n",
              "      <td>1.0</td>\n",
              "      <td>1.0</td>\n",
              "      <td>66.646525</td>\n",
              "      <td>100.0</td>\n",
              "      <td>130.0</td>\n",
              "      <td>0</td>\n",
              "      <td>1</td>\n",
              "      <td>0</td>\n",
              "      <td>0</td>\n",
              "      <td>0</td>\n",
              "      <td>0</td>\n",
              "      <td>0</td>\n",
              "      <td>1</td>\n",
              "      <td>0</td>\n",
              "      <td>0</td>\n",
              "      <td>0</td>\n",
              "      <td>0</td>\n",
              "      <td>0</td>\n",
              "      <td>1</td>\n",
              "    </tr>\n",
              "    <tr>\n",
              "      <th>2</th>\n",
              "      <td>2</td>\n",
              "      <td>4</td>\n",
              "      <td>0</td>\n",
              "      <td>1.0</td>\n",
              "      <td>0.0</td>\n",
              "      <td>69.000000</td>\n",
              "      <td>91.0</td>\n",
              "      <td>129.0</td>\n",
              "      <td>0</td>\n",
              "      <td>1</td>\n",
              "      <td>0</td>\n",
              "      <td>0</td>\n",
              "      <td>0</td>\n",
              "      <td>0</td>\n",
              "      <td>0</td>\n",
              "      <td>1</td>\n",
              "      <td>1</td>\n",
              "      <td>0</td>\n",
              "      <td>0</td>\n",
              "      <td>0</td>\n",
              "      <td>0</td>\n",
              "      <td>1</td>\n",
              "    </tr>\n",
              "    <tr>\n",
              "      <th>3</th>\n",
              "      <td>0</td>\n",
              "      <td>2</td>\n",
              "      <td>0</td>\n",
              "      <td>1.0</td>\n",
              "      <td>1.0</td>\n",
              "      <td>60.000000</td>\n",
              "      <td>100.0</td>\n",
              "      <td>145.0</td>\n",
              "      <td>0</td>\n",
              "      <td>1</td>\n",
              "      <td>0</td>\n",
              "      <td>0</td>\n",
              "      <td>0</td>\n",
              "      <td>0</td>\n",
              "      <td>1</td>\n",
              "      <td>0</td>\n",
              "      <td>0</td>\n",
              "      <td>0</td>\n",
              "      <td>0</td>\n",
              "      <td>0</td>\n",
              "      <td>0</td>\n",
              "      <td>1</td>\n",
              "    </tr>\n",
              "    <tr>\n",
              "      <th>4</th>\n",
              "      <td>2</td>\n",
              "      <td>9</td>\n",
              "      <td>0</td>\n",
              "      <td>2.5</td>\n",
              "      <td>3.0</td>\n",
              "      <td>160.000000</td>\n",
              "      <td>94.0</td>\n",
              "      <td>399.0</td>\n",
              "      <td>0</td>\n",
              "      <td>1</td>\n",
              "      <td>0</td>\n",
              "      <td>0</td>\n",
              "      <td>0</td>\n",
              "      <td>0</td>\n",
              "      <td>1</td>\n",
              "      <td>0</td>\n",
              "      <td>1</td>\n",
              "      <td>0</td>\n",
              "      <td>0</td>\n",
              "      <td>0</td>\n",
              "      <td>0</td>\n",
              "      <td>1</td>\n",
              "    </tr>\n",
              "  </tbody>\n",
              "</table>\n",
              "</div>"
            ],
            "text/plain": [
              "   CancellationPolicy  Accommodates  ...  PropertyType_3  PropertyType_4\n",
              "0                   2             2  ...               0               1\n",
              "1                   0             2  ...               0               1\n",
              "2                   2             4  ...               0               1\n",
              "3                   0             2  ...               0               1\n",
              "4                   2             9  ...               0               1\n",
              "\n",
              "[5 rows x 22 columns]"
            ]
          },
          "metadata": {},
          "execution_count": 24
        }
      ]
    },
    {
      "cell_type": "code",
      "metadata": {
        "id": "CEs_Pu3DUM1y",
        "colab": {
          "base_uri": "https://localhost:8080/"
        },
        "outputId": "d24cbb10-5d13-48d3-d8a1-eda2c24a3739"
      },
      "source": [
        "from scipy import stats\n",
        "import numpy as np\n",
        "z = np.abs(stats.zscore(df1))\n",
        "print(z[:9])"
      ],
      "execution_count": 25,
      "outputs": [
        {
          "output_type": "stream",
          "name": "stdout",
          "text": [
            "[[8.35914827e-01 5.16540113e-01 8.33317804e-01 2.68780461e-01\n",
            "  1.71669000e+00 2.48292321e-01 7.81732794e-01 1.21702988e-02\n",
            "  1.09751038e-01 1.43704967e-01 8.89801462e-02 1.80815372e-01\n",
            "  3.83241630e-01 7.73662739e-01 8.88359321e-01 1.20338489e+00\n",
            "  8.45809694e-01 1.54303350e-02 9.55407383e-02 1.87720628e-01\n",
            "  1.59324912e-01 2.10346352e-01]\n",
            " [1.62410492e+00 5.16540113e-01 8.33317804e-01 2.68780461e-01\n",
            "  1.14928727e-01 2.07297133e-02 8.34495017e-01 2.84028285e-01\n",
            "  1.09751038e-01 1.43704967e-01 8.89801462e-02 1.80815372e-01\n",
            "  3.83241630e-01 7.73662739e-01 8.88359321e-01 8.30989326e-01\n",
            "  1.18229905e+00 1.54303350e-02 9.55407383e-02 1.87720628e-01\n",
            "  1.59324912e-01 2.10346352e-01]\n",
            " [8.35914827e-01 7.35253954e-01 8.33317804e-01 2.68780461e-01\n",
            "  1.71669000e+00 8.48423073e-02 2.04508576e-01 2.93090218e-01\n",
            "  1.09751038e-01 1.43704967e-01 8.89801462e-02 1.80815372e-01\n",
            "  3.83241630e-01 7.73662739e-01 8.88359321e-01 8.30989326e-01\n",
            "  8.45809694e-01 1.54303350e-02 9.55407383e-02 1.87720628e-01\n",
            "  1.59324912e-01 2.10346352e-01]\n",
            " [1.62410492e+00 5.16540113e-01 8.33317804e-01 2.68780461e-01\n",
            "  1.14928727e-01 1.60332713e-01 8.34495017e-01 1.48099292e-01\n",
            "  1.09751038e-01 1.43704967e-01 8.89801462e-02 1.80815372e-01\n",
            "  3.83241630e-01 7.73662739e-01 1.12567063e+00 1.20338489e+00\n",
            "  1.18229905e+00 1.54303350e-02 9.55407383e-02 1.87720628e-01\n",
            "  1.59324912e-01 2.10346352e-01]\n",
            " [8.35914827e-01 3.86473912e+00 8.33317804e-01 4.77792479e+00\n",
            "  3.08859383e+00 2.56383418e+00 1.41825955e-01 2.15363166e+00\n",
            "  1.09751038e-01 1.43704967e-01 8.89801462e-02 1.80815372e-01\n",
            "  3.83241630e-01 7.73662739e-01 1.12567063e+00 1.20338489e+00\n",
            "  8.45809694e-01 1.54303350e-02 9.55407383e-02 1.87720628e-01\n",
            "  1.59324912e-01 2.10346352e-01]\n",
            " [8.35914827e-01 5.16540113e-01 8.33317804e-01 2.68780461e-01\n",
            "  1.71669000e+00 4.32749402e-01 1.41825955e-01 1.23758694e-01\n",
            "  1.09751038e-01 1.43704967e-01 8.89801462e-02 1.80815372e-01\n",
            "  3.83241630e-01 7.73662739e-01 1.12567063e+00 1.20338489e+00\n",
            "  8.45809694e-01 1.54303350e-02 9.55407383e-02 1.87720628e-01\n",
            "  1.59324912e-01 2.10346352e-01]\n",
            " [8.35914827e-01 5.16540113e-01 8.33317804e-01 2.68780461e-01\n",
            "  1.71669000e+00 2.07297133e-02 8.34495017e-01 3.10836593e-03\n",
            "  1.09751038e-01 1.43704967e-01 8.89801462e-02 1.80815372e-01\n",
            "  3.83241630e-01 7.73662739e-01 1.12567063e+00 1.20338489e+00\n",
            "  1.18229905e+00 1.54303350e-02 9.55407383e-02 1.87720628e-01\n",
            "  1.59324912e-01 2.10346352e-01]\n",
            " [8.35914827e-01 1.98704802e+00 8.33317804e-01 2.68780461e-01\n",
            "  1.48683255e+00 2.29141749e+00 8.34495017e-01 1.07526165e+00\n",
            "  1.09751038e-01 1.43704967e-01 8.89801462e-02 1.80815372e-01\n",
            "  3.83241630e-01 7.73662739e-01 8.88359321e-01 1.20338489e+00\n",
            "  8.45809694e-01 1.54303350e-02 9.55407383e-02 1.87720628e-01\n",
            "  1.59324912e-01 2.10346352e-01]\n",
            " [1.62410492e+00 5.16540113e-01 9.71201832e-01 2.68780461e-01\n",
            "  1.14928727e-01 4.32749402e-01 8.34495017e-01 5.55886271e-01\n",
            "  1.09751038e-01 1.43704967e-01 8.89801462e-02 1.80815372e-01\n",
            "  3.83241630e-01 7.73662739e-01 1.12567063e+00 8.30989326e-01\n",
            "  1.18229905e+00 1.54303350e-02 9.55407383e-02 1.87720628e-01\n",
            "  1.59324912e-01 2.10346352e-01]]\n"
          ]
        }
      ]
    },
    {
      "cell_type": "code",
      "metadata": {
        "id": "ejXFqWW6xr14",
        "colab": {
          "base_uri": "https://localhost:8080/"
        },
        "outputId": "f9a734cc-8d2b-47f4-eea0-88087c769ad2"
      },
      "source": [
        "z.shape"
      ],
      "execution_count": 26,
      "outputs": [
        {
          "output_type": "execute_result",
          "data": {
            "text/plain": [
              "(4201, 22)"
            ]
          },
          "metadata": {},
          "execution_count": 26
        }
      ]
    },
    {
      "cell_type": "code",
      "metadata": {
        "id": "CtCPu5LVxxas"
      },
      "source": [
        "df2 = df1"
      ],
      "execution_count": 27,
      "outputs": []
    },
    {
      "cell_type": "code",
      "metadata": {
        "id": "unLklPf3x7sI",
        "colab": {
          "base_uri": "https://localhost:8080/"
        },
        "outputId": "912172fa-5fcf-4452-a7f4-7e1a2349a207"
      },
      "source": [
        "threshold = 3\n",
        "print(np.where(z > 3))"
      ],
      "execution_count": 28,
      "outputs": [
        {
          "output_type": "stream",
          "name": "stdout",
          "text": [
            "(array([   4,    4,    4, ..., 4188, 4197, 4197]), array([ 1,  3,  4, ..., 21,  4,  7]))\n"
          ]
        }
      ]
    },
    {
      "cell_type": "code",
      "metadata": {
        "id": "AFwSakz9x9yw"
      },
      "source": [
        "df2 = df2[(z < 3).all(axis=1)]"
      ],
      "execution_count": 29,
      "outputs": []
    },
    {
      "cell_type": "code",
      "metadata": {
        "id": "4Bl5eGguyDiD",
        "colab": {
          "base_uri": "https://localhost:8080/"
        },
        "outputId": "e77ada12-2d9b-4606-99e9-dabd9e5f1430"
      },
      "source": [
        "df2.shape"
      ],
      "execution_count": 30,
      "outputs": [
        {
          "output_type": "execute_result",
          "data": {
            "text/plain": [
              "(3424, 22)"
            ]
          },
          "metadata": {},
          "execution_count": 30
        }
      ]
    },
    {
      "cell_type": "markdown",
      "metadata": {
        "id": "odUb0Wrc2Ty_"
      },
      "source": [
        "**Observation: Outliers are not observed in the given dataset**\n",
        "\n",
        "**Decision: Hence no action needs to be taken**"
      ]
    },
    {
      "cell_type": "markdown",
      "metadata": {
        "id": "s_tr7C5NUNS8"
      },
      "source": [
        "##**XI) Check for Feature Selection/ Extraction and verify the accuracy**"
      ]
    },
    {
      "cell_type": "markdown",
      "metadata": {
        "id": "VjgvDA3X3ymi"
      },
      "source": [
        "###**Using Correlation Coefficient Method**"
      ]
    },
    {
      "cell_type": "code",
      "metadata": {
        "id": "2abvaoHnUOND",
        "colab": {
          "base_uri": "https://localhost:8080/"
        },
        "outputId": "ce5f612c-a6ad-42cf-b489-2f50e5250018"
      },
      "source": [
        "df.info()"
      ],
      "execution_count": 31,
      "outputs": [
        {
          "output_type": "stream",
          "name": "stdout",
          "text": [
            "<class 'pandas.core.frame.DataFrame'>\n",
            "RangeIndex: 4201 entries, 0 to 4200\n",
            "Data columns (total 22 columns):\n",
            " #   Column              Non-Null Count  Dtype  \n",
            "---  ------              --------------  -----  \n",
            " 0   CancellationPolicy  4201 non-null   int64  \n",
            " 1   Accommodates        4201 non-null   int64  \n",
            " 2   RoomType            4201 non-null   int64  \n",
            " 3   Bathrooms           4201 non-null   float64\n",
            " 4   Bedrooms            4201 non-null   float64\n",
            " 5   CleaningFee         4201 non-null   float64\n",
            " 6   ReviewRating        4201 non-null   float64\n",
            " 7   Price               4201 non-null   float64\n",
            " 8   District_Brooklyn   4201 non-null   int64  \n",
            " 9   District_Manhattan  4201 non-null   int64  \n",
            " 10  District_Queens     4201 non-null   int64  \n",
            " 11  Neighborhood_0      4201 non-null   int64  \n",
            " 12  Neighborhood_1      4201 non-null   int64  \n",
            " 13  Neighborhood_2      4201 non-null   int64  \n",
            " 14  Neighborhood_3      4201 non-null   int64  \n",
            " 15  Neighborhood_4      4201 non-null   int64  \n",
            " 16  Neighborhood_5      4201 non-null   int64  \n",
            " 17  PropertyType_0      4201 non-null   int64  \n",
            " 18  PropertyType_1      4201 non-null   int64  \n",
            " 19  PropertyType_2      4201 non-null   int64  \n",
            " 20  PropertyType_3      4201 non-null   int64  \n",
            " 21  PropertyType_4      4201 non-null   int64  \n",
            "dtypes: float64(5), int64(17)\n",
            "memory usage: 722.2 KB\n"
          ]
        }
      ]
    },
    {
      "cell_type": "code",
      "metadata": {
        "id": "pge5QxWg4D-x",
        "colab": {
          "base_uri": "https://localhost:8080/",
          "height": 759
        },
        "outputId": "6110c52d-f226-476d-faa9-f2a2d9e0ae64"
      },
      "source": [
        "cor=df.corr()\n",
        "cor"
      ],
      "execution_count": 32,
      "outputs": [
        {
          "output_type": "execute_result",
          "data": {
            "text/html": [
              "<div>\n",
              "<style scoped>\n",
              "    .dataframe tbody tr th:only-of-type {\n",
              "        vertical-align: middle;\n",
              "    }\n",
              "\n",
              "    .dataframe tbody tr th {\n",
              "        vertical-align: top;\n",
              "    }\n",
              "\n",
              "    .dataframe thead th {\n",
              "        text-align: right;\n",
              "    }\n",
              "</style>\n",
              "<table border=\"1\" class=\"dataframe\">\n",
              "  <thead>\n",
              "    <tr style=\"text-align: right;\">\n",
              "      <th></th>\n",
              "      <th>CancellationPolicy</th>\n",
              "      <th>Accommodates</th>\n",
              "      <th>RoomType</th>\n",
              "      <th>Bathrooms</th>\n",
              "      <th>Bedrooms</th>\n",
              "      <th>CleaningFee</th>\n",
              "      <th>ReviewRating</th>\n",
              "      <th>Price</th>\n",
              "      <th>District_Brooklyn</th>\n",
              "      <th>District_Manhattan</th>\n",
              "      <th>District_Queens</th>\n",
              "      <th>Neighborhood_0</th>\n",
              "      <th>Neighborhood_1</th>\n",
              "      <th>Neighborhood_2</th>\n",
              "      <th>Neighborhood_3</th>\n",
              "      <th>Neighborhood_4</th>\n",
              "      <th>Neighborhood_5</th>\n",
              "      <th>PropertyType_0</th>\n",
              "      <th>PropertyType_1</th>\n",
              "      <th>PropertyType_2</th>\n",
              "      <th>PropertyType_3</th>\n",
              "      <th>PropertyType_4</th>\n",
              "    </tr>\n",
              "  </thead>\n",
              "  <tbody>\n",
              "    <tr>\n",
              "      <th>CancellationPolicy</th>\n",
              "      <td>1.000000</td>\n",
              "      <td>0.188786</td>\n",
              "      <td>-0.118653</td>\n",
              "      <td>0.038530</td>\n",
              "      <td>0.114281</td>\n",
              "      <td>0.180883</td>\n",
              "      <td>-0.007146</td>\n",
              "      <td>0.149344</td>\n",
              "      <td>-0.040552</td>\n",
              "      <td>0.025441</td>\n",
              "      <td>0.004732</td>\n",
              "      <td>0.000647</td>\n",
              "      <td>-0.010843</td>\n",
              "      <td>-0.000598</td>\n",
              "      <td>-0.002772</td>\n",
              "      <td>-0.007859</td>\n",
              "      <td>-0.056803</td>\n",
              "      <td>-0.006081</td>\n",
              "      <td>-0.000542</td>\n",
              "      <td>0.045506</td>\n",
              "      <td>0.038965</td>\n",
              "      <td>-0.030479</td>\n",
              "    </tr>\n",
              "    <tr>\n",
              "      <th>Accommodates</th>\n",
              "      <td>0.188786</td>\n",
              "      <td>1.000000</td>\n",
              "      <td>-0.464048</td>\n",
              "      <td>0.285735</td>\n",
              "      <td>0.552753</td>\n",
              "      <td>0.403695</td>\n",
              "      <td>-0.025606</td>\n",
              "      <td>0.567050</td>\n",
              "      <td>-0.004484</td>\n",
              "      <td>-0.003017</td>\n",
              "      <td>0.006355</td>\n",
              "      <td>0.019773</td>\n",
              "      <td>-0.014713</td>\n",
              "      <td>0.016880</td>\n",
              "      <td>-0.006674</td>\n",
              "      <td>-0.018434</td>\n",
              "      <td>-0.061070</td>\n",
              "      <td>-0.007970</td>\n",
              "      <td>-0.002141</td>\n",
              "      <td>0.073935</td>\n",
              "      <td>0.071119</td>\n",
              "      <td>-0.079955</td>\n",
              "    </tr>\n",
              "    <tr>\n",
              "      <th>RoomType</th>\n",
              "      <td>-0.118653</td>\n",
              "      <td>-0.464048</td>\n",
              "      <td>1.000000</td>\n",
              "      <td>-0.044530</td>\n",
              "      <td>-0.070885</td>\n",
              "      <td>-0.386972</td>\n",
              "      <td>-0.041043</td>\n",
              "      <td>-0.506157</td>\n",
              "      <td>0.043215</td>\n",
              "      <td>-0.057195</td>\n",
              "      <td>0.032896</td>\n",
              "      <td>0.025959</td>\n",
              "      <td>0.019994</td>\n",
              "      <td>-0.006571</td>\n",
              "      <td>-0.067225</td>\n",
              "      <td>0.115733</td>\n",
              "      <td>0.108952</td>\n",
              "      <td>0.014986</td>\n",
              "      <td>0.047420</td>\n",
              "      <td>-0.000087</td>\n",
              "      <td>-0.027718</td>\n",
              "      <td>0.002558</td>\n",
              "    </tr>\n",
              "    <tr>\n",
              "      <th>Bathrooms</th>\n",
              "      <td>0.038530</td>\n",
              "      <td>0.285735</td>\n",
              "      <td>-0.044530</td>\n",
              "      <td>1.000000</td>\n",
              "      <td>0.313240</td>\n",
              "      <td>0.222898</td>\n",
              "      <td>0.048634</td>\n",
              "      <td>0.350947</td>\n",
              "      <td>0.033274</td>\n",
              "      <td>-0.029632</td>\n",
              "      <td>0.003299</td>\n",
              "      <td>0.054316</td>\n",
              "      <td>-0.054232</td>\n",
              "      <td>-0.019792</td>\n",
              "      <td>-0.008836</td>\n",
              "      <td>-0.003832</td>\n",
              "      <td>-0.002013</td>\n",
              "      <td>-0.004147</td>\n",
              "      <td>-0.080663</td>\n",
              "      <td>0.119585</td>\n",
              "      <td>0.045705</td>\n",
              "      <td>-0.039233</td>\n",
              "    </tr>\n",
              "    <tr>\n",
              "      <th>Bedrooms</th>\n",
              "      <td>0.114281</td>\n",
              "      <td>0.552753</td>\n",
              "      <td>-0.070885</td>\n",
              "      <td>0.313240</td>\n",
              "      <td>1.000000</td>\n",
              "      <td>0.301148</td>\n",
              "      <td>-0.036544</td>\n",
              "      <td>0.419146</td>\n",
              "      <td>0.022545</td>\n",
              "      <td>-0.027044</td>\n",
              "      <td>0.016057</td>\n",
              "      <td>0.031482</td>\n",
              "      <td>-0.017607</td>\n",
              "      <td>-0.014727</td>\n",
              "      <td>-0.006746</td>\n",
              "      <td>0.019999</td>\n",
              "      <td>0.018135</td>\n",
              "      <td>-0.001773</td>\n",
              "      <td>0.005128</td>\n",
              "      <td>0.066738</td>\n",
              "      <td>0.025858</td>\n",
              "      <td>-0.066681</td>\n",
              "    </tr>\n",
              "    <tr>\n",
              "      <th>CleaningFee</th>\n",
              "      <td>0.180883</td>\n",
              "      <td>0.403695</td>\n",
              "      <td>-0.386972</td>\n",
              "      <td>0.222898</td>\n",
              "      <td>0.301148</td>\n",
              "      <td>1.000000</td>\n",
              "      <td>0.016137</td>\n",
              "      <td>0.535188</td>\n",
              "      <td>-0.020481</td>\n",
              "      <td>0.050325</td>\n",
              "      <td>-0.051054</td>\n",
              "      <td>-0.005755</td>\n",
              "      <td>0.011541</td>\n",
              "      <td>-0.009122</td>\n",
              "      <td>0.074057</td>\n",
              "      <td>-0.106534</td>\n",
              "      <td>-0.090544</td>\n",
              "      <td>0.000320</td>\n",
              "      <td>0.019974</td>\n",
              "      <td>0.075222</td>\n",
              "      <td>0.062669</td>\n",
              "      <td>-0.085581</td>\n",
              "    </tr>\n",
              "    <tr>\n",
              "      <th>ReviewRating</th>\n",
              "      <td>-0.007146</td>\n",
              "      <td>-0.025606</td>\n",
              "      <td>-0.041043</td>\n",
              "      <td>0.048634</td>\n",
              "      <td>-0.036544</td>\n",
              "      <td>0.016137</td>\n",
              "      <td>1.000000</td>\n",
              "      <td>0.075771</td>\n",
              "      <td>0.012018</td>\n",
              "      <td>0.001674</td>\n",
              "      <td>-0.016330</td>\n",
              "      <td>-0.022696</td>\n",
              "      <td>0.016031</td>\n",
              "      <td>-0.054426</td>\n",
              "      <td>0.036442</td>\n",
              "      <td>-0.036570</td>\n",
              "      <td>-0.016461</td>\n",
              "      <td>0.007532</td>\n",
              "      <td>-0.051467</td>\n",
              "      <td>0.022077</td>\n",
              "      <td>0.031086</td>\n",
              "      <td>-0.002684</td>\n",
              "    </tr>\n",
              "    <tr>\n",
              "      <th>Price</th>\n",
              "      <td>0.149344</td>\n",
              "      <td>0.567050</td>\n",
              "      <td>-0.506157</td>\n",
              "      <td>0.350947</td>\n",
              "      <td>0.419146</td>\n",
              "      <td>0.535188</td>\n",
              "      <td>0.075771</td>\n",
              "      <td>1.000000</td>\n",
              "      <td>-0.043207</td>\n",
              "      <td>0.075916</td>\n",
              "      <td>-0.063415</td>\n",
              "      <td>0.013310</td>\n",
              "      <td>-0.012191</td>\n",
              "      <td>-0.012977</td>\n",
              "      <td>0.114426</td>\n",
              "      <td>-0.159732</td>\n",
              "      <td>-0.187150</td>\n",
              "      <td>0.004706</td>\n",
              "      <td>0.010525</td>\n",
              "      <td>0.121361</td>\n",
              "      <td>0.130043</td>\n",
              "      <td>-0.109164</td>\n",
              "    </tr>\n",
              "    <tr>\n",
              "      <th>District_Brooklyn</th>\n",
              "      <td>-0.040552</td>\n",
              "      <td>-0.004484</td>\n",
              "      <td>0.043215</td>\n",
              "      <td>0.033274</td>\n",
              "      <td>0.022545</td>\n",
              "      <td>-0.020481</td>\n",
              "      <td>0.012018</td>\n",
              "      <td>-0.043207</td>\n",
              "      <td>1.000000</td>\n",
              "      <td>-0.763725</td>\n",
              "      <td>-0.009766</td>\n",
              "      <td>0.243421</td>\n",
              "      <td>0.214119</td>\n",
              "      <td>0.055687</td>\n",
              "      <td>0.097018</td>\n",
              "      <td>-0.011504</td>\n",
              "      <td>-0.005110</td>\n",
              "      <td>-0.001693</td>\n",
              "      <td>-0.010486</td>\n",
              "      <td>0.076238</td>\n",
              "      <td>0.053148</td>\n",
              "      <td>-0.096781</td>\n",
              "    </tr>\n",
              "    <tr>\n",
              "      <th>District_Manhattan</th>\n",
              "      <td>0.025441</td>\n",
              "      <td>-0.003017</td>\n",
              "      <td>-0.057195</td>\n",
              "      <td>-0.029632</td>\n",
              "      <td>-0.027044</td>\n",
              "      <td>0.050325</td>\n",
              "      <td>0.001674</td>\n",
              "      <td>0.075916</td>\n",
              "      <td>-0.763725</td>\n",
              "      <td>1.000000</td>\n",
              "      <td>-0.619186</td>\n",
              "      <td>-0.427840</td>\n",
              "      <td>-0.218132</td>\n",
              "      <td>-0.049510</td>\n",
              "      <td>-0.035779</td>\n",
              "      <td>0.018159</td>\n",
              "      <td>0.019034</td>\n",
              "      <td>0.002217</td>\n",
              "      <td>0.013730</td>\n",
              "      <td>-0.140848</td>\n",
              "      <td>-0.031508</td>\n",
              "      <td>0.137633</td>\n",
              "    </tr>\n",
              "    <tr>\n",
              "      <th>District_Queens</th>\n",
              "      <td>0.004732</td>\n",
              "      <td>0.006355</td>\n",
              "      <td>0.032896</td>\n",
              "      <td>0.003299</td>\n",
              "      <td>0.016057</td>\n",
              "      <td>-0.051054</td>\n",
              "      <td>-0.016330</td>\n",
              "      <td>-0.063415</td>\n",
              "      <td>-0.009766</td>\n",
              "      <td>-0.619186</td>\n",
              "      <td>1.000000</td>\n",
              "      <td>0.353507</td>\n",
              "      <td>0.070797</td>\n",
              "      <td>0.014729</td>\n",
              "      <td>-0.057324</td>\n",
              "      <td>-0.019311</td>\n",
              "      <td>-0.023173</td>\n",
              "      <td>-0.001373</td>\n",
              "      <td>-0.008501</td>\n",
              "      <td>0.131996</td>\n",
              "      <td>-0.014177</td>\n",
              "      <td>-0.101756</td>\n",
              "    </tr>\n",
              "    <tr>\n",
              "      <th>Neighborhood_0</th>\n",
              "      <td>0.000647</td>\n",
              "      <td>0.019773</td>\n",
              "      <td>0.025959</td>\n",
              "      <td>0.054316</td>\n",
              "      <td>0.031482</td>\n",
              "      <td>-0.005755</td>\n",
              "      <td>-0.022696</td>\n",
              "      <td>0.013310</td>\n",
              "      <td>0.243421</td>\n",
              "      <td>-0.427840</td>\n",
              "      <td>0.353507</td>\n",
              "      <td>1.000000</td>\n",
              "      <td>-0.000133</td>\n",
              "      <td>-0.058428</td>\n",
              "      <td>0.036514</td>\n",
              "      <td>-0.065474</td>\n",
              "      <td>-0.067644</td>\n",
              "      <td>-0.002790</td>\n",
              "      <td>-0.017275</td>\n",
              "      <td>0.071021</td>\n",
              "      <td>0.032439</td>\n",
              "      <td>-0.090201</td>\n",
              "    </tr>\n",
              "    <tr>\n",
              "      <th>Neighborhood_1</th>\n",
              "      <td>-0.010843</td>\n",
              "      <td>-0.014713</td>\n",
              "      <td>0.019994</td>\n",
              "      <td>-0.054232</td>\n",
              "      <td>-0.017607</td>\n",
              "      <td>0.011541</td>\n",
              "      <td>0.016031</td>\n",
              "      <td>-0.012191</td>\n",
              "      <td>0.214119</td>\n",
              "      <td>-0.218132</td>\n",
              "      <td>0.070797</td>\n",
              "      <td>-0.000133</td>\n",
              "      <td>1.000000</td>\n",
              "      <td>-0.049228</td>\n",
              "      <td>0.102861</td>\n",
              "      <td>-0.167004</td>\n",
              "      <td>-0.148272</td>\n",
              "      <td>-0.005914</td>\n",
              "      <td>0.061197</td>\n",
              "      <td>-0.005159</td>\n",
              "      <td>0.012292</td>\n",
              "      <td>-0.043160</td>\n",
              "    </tr>\n",
              "    <tr>\n",
              "      <th>Neighborhood_2</th>\n",
              "      <td>-0.000598</td>\n",
              "      <td>0.016880</td>\n",
              "      <td>-0.006571</td>\n",
              "      <td>-0.019792</td>\n",
              "      <td>-0.014727</td>\n",
              "      <td>-0.009122</td>\n",
              "      <td>-0.054426</td>\n",
              "      <td>-0.012977</td>\n",
              "      <td>0.055687</td>\n",
              "      <td>-0.049510</td>\n",
              "      <td>0.014729</td>\n",
              "      <td>-0.058428</td>\n",
              "      <td>-0.049228</td>\n",
              "      <td>1.000000</td>\n",
              "      <td>0.079417</td>\n",
              "      <td>0.028547</td>\n",
              "      <td>-0.154603</td>\n",
              "      <td>-0.011938</td>\n",
              "      <td>0.019593</td>\n",
              "      <td>0.009374</td>\n",
              "      <td>0.038171</td>\n",
              "      <td>-0.005740</td>\n",
              "    </tr>\n",
              "    <tr>\n",
              "      <th>Neighborhood_3</th>\n",
              "      <td>-0.002772</td>\n",
              "      <td>-0.006674</td>\n",
              "      <td>-0.067225</td>\n",
              "      <td>-0.008836</td>\n",
              "      <td>-0.006746</td>\n",
              "      <td>0.074057</td>\n",
              "      <td>0.036442</td>\n",
              "      <td>0.114426</td>\n",
              "      <td>0.097018</td>\n",
              "      <td>-0.035779</td>\n",
              "      <td>-0.057324</td>\n",
              "      <td>0.036514</td>\n",
              "      <td>0.102861</td>\n",
              "      <td>0.079417</td>\n",
              "      <td>1.000000</td>\n",
              "      <td>-0.235145</td>\n",
              "      <td>-0.012852</td>\n",
              "      <td>-0.013708</td>\n",
              "      <td>0.061974</td>\n",
              "      <td>-0.013418</td>\n",
              "      <td>0.025076</td>\n",
              "      <td>-0.015439</td>\n",
              "    </tr>\n",
              "    <tr>\n",
              "      <th>Neighborhood_4</th>\n",
              "      <td>-0.007859</td>\n",
              "      <td>-0.018434</td>\n",
              "      <td>0.115733</td>\n",
              "      <td>-0.003832</td>\n",
              "      <td>0.019999</td>\n",
              "      <td>-0.106534</td>\n",
              "      <td>-0.036570</td>\n",
              "      <td>-0.159732</td>\n",
              "      <td>-0.011504</td>\n",
              "      <td>0.018159</td>\n",
              "      <td>-0.019311</td>\n",
              "      <td>-0.065474</td>\n",
              "      <td>-0.167004</td>\n",
              "      <td>0.028547</td>\n",
              "      <td>-0.235145</td>\n",
              "      <td>1.000000</td>\n",
              "      <td>0.071060</td>\n",
              "      <td>-0.018569</td>\n",
              "      <td>-0.074053</td>\n",
              "      <td>-0.036288</td>\n",
              "      <td>-0.048366</td>\n",
              "      <td>0.065611</td>\n",
              "    </tr>\n",
              "    <tr>\n",
              "      <th>Neighborhood_5</th>\n",
              "      <td>-0.056803</td>\n",
              "      <td>-0.061070</td>\n",
              "      <td>0.108952</td>\n",
              "      <td>-0.002013</td>\n",
              "      <td>0.018135</td>\n",
              "      <td>-0.090544</td>\n",
              "      <td>-0.016461</td>\n",
              "      <td>-0.187150</td>\n",
              "      <td>-0.005110</td>\n",
              "      <td>0.019034</td>\n",
              "      <td>-0.023173</td>\n",
              "      <td>-0.067644</td>\n",
              "      <td>-0.148272</td>\n",
              "      <td>-0.154603</td>\n",
              "      <td>-0.012852</td>\n",
              "      <td>0.071060</td>\n",
              "      <td>1.000000</td>\n",
              "      <td>0.013051</td>\n",
              "      <td>0.009421</td>\n",
              "      <td>-0.008953</td>\n",
              "      <td>-0.076518</td>\n",
              "      <td>0.028200</td>\n",
              "    </tr>\n",
              "    <tr>\n",
              "      <th>PropertyType_0</th>\n",
              "      <td>-0.006081</td>\n",
              "      <td>-0.007970</td>\n",
              "      <td>0.014986</td>\n",
              "      <td>-0.004147</td>\n",
              "      <td>-0.001773</td>\n",
              "      <td>0.000320</td>\n",
              "      <td>0.007532</td>\n",
              "      <td>0.004706</td>\n",
              "      <td>-0.001693</td>\n",
              "      <td>0.002217</td>\n",
              "      <td>-0.001373</td>\n",
              "      <td>-0.002790</td>\n",
              "      <td>-0.005914</td>\n",
              "      <td>-0.011938</td>\n",
              "      <td>-0.013708</td>\n",
              "      <td>-0.018569</td>\n",
              "      <td>0.013051</td>\n",
              "      <td>1.000000</td>\n",
              "      <td>-0.001474</td>\n",
              "      <td>-0.002897</td>\n",
              "      <td>-0.002458</td>\n",
              "      <td>-0.073357</td>\n",
              "    </tr>\n",
              "    <tr>\n",
              "      <th>PropertyType_1</th>\n",
              "      <td>-0.000542</td>\n",
              "      <td>-0.002141</td>\n",
              "      <td>0.047420</td>\n",
              "      <td>-0.080663</td>\n",
              "      <td>0.005128</td>\n",
              "      <td>0.019974</td>\n",
              "      <td>-0.051467</td>\n",
              "      <td>0.010525</td>\n",
              "      <td>-0.010486</td>\n",
              "      <td>0.013730</td>\n",
              "      <td>-0.008501</td>\n",
              "      <td>-0.017275</td>\n",
              "      <td>0.061197</td>\n",
              "      <td>0.019593</td>\n",
              "      <td>0.061974</td>\n",
              "      <td>-0.074053</td>\n",
              "      <td>0.009421</td>\n",
              "      <td>-0.001474</td>\n",
              "      <td>1.000000</td>\n",
              "      <td>0.037527</td>\n",
              "      <td>0.049502</td>\n",
              "      <td>-0.329390</td>\n",
              "    </tr>\n",
              "    <tr>\n",
              "      <th>PropertyType_2</th>\n",
              "      <td>0.045506</td>\n",
              "      <td>0.073935</td>\n",
              "      <td>-0.000087</td>\n",
              "      <td>0.119585</td>\n",
              "      <td>0.066738</td>\n",
              "      <td>0.075222</td>\n",
              "      <td>0.022077</td>\n",
              "      <td>0.121361</td>\n",
              "      <td>0.076238</td>\n",
              "      <td>-0.140848</td>\n",
              "      <td>0.131996</td>\n",
              "      <td>0.071021</td>\n",
              "      <td>-0.005159</td>\n",
              "      <td>0.009374</td>\n",
              "      <td>-0.013418</td>\n",
              "      <td>-0.036288</td>\n",
              "      <td>-0.008953</td>\n",
              "      <td>-0.002897</td>\n",
              "      <td>0.037527</td>\n",
              "      <td>1.000000</td>\n",
              "      <td>0.350273</td>\n",
              "      <td>-0.631758</td>\n",
              "    </tr>\n",
              "    <tr>\n",
              "      <th>PropertyType_3</th>\n",
              "      <td>0.038965</td>\n",
              "      <td>0.071119</td>\n",
              "      <td>-0.027718</td>\n",
              "      <td>0.045705</td>\n",
              "      <td>0.025858</td>\n",
              "      <td>0.062669</td>\n",
              "      <td>0.031086</td>\n",
              "      <td>0.130043</td>\n",
              "      <td>0.053148</td>\n",
              "      <td>-0.031508</td>\n",
              "      <td>-0.014177</td>\n",
              "      <td>0.032439</td>\n",
              "      <td>0.012292</td>\n",
              "      <td>0.038171</td>\n",
              "      <td>0.025076</td>\n",
              "      <td>-0.048366</td>\n",
              "      <td>-0.076518</td>\n",
              "      <td>-0.002458</td>\n",
              "      <td>0.049502</td>\n",
              "      <td>0.350273</td>\n",
              "      <td>1.000000</td>\n",
              "      <td>-0.666177</td>\n",
              "    </tr>\n",
              "    <tr>\n",
              "      <th>PropertyType_4</th>\n",
              "      <td>-0.030479</td>\n",
              "      <td>-0.079955</td>\n",
              "      <td>0.002558</td>\n",
              "      <td>-0.039233</td>\n",
              "      <td>-0.066681</td>\n",
              "      <td>-0.085581</td>\n",
              "      <td>-0.002684</td>\n",
              "      <td>-0.109164</td>\n",
              "      <td>-0.096781</td>\n",
              "      <td>0.137633</td>\n",
              "      <td>-0.101756</td>\n",
              "      <td>-0.090201</td>\n",
              "      <td>-0.043160</td>\n",
              "      <td>-0.005740</td>\n",
              "      <td>-0.015439</td>\n",
              "      <td>0.065611</td>\n",
              "      <td>0.028200</td>\n",
              "      <td>-0.073357</td>\n",
              "      <td>-0.329390</td>\n",
              "      <td>-0.631758</td>\n",
              "      <td>-0.666177</td>\n",
              "      <td>1.000000</td>\n",
              "    </tr>\n",
              "  </tbody>\n",
              "</table>\n",
              "</div>"
            ],
            "text/plain": [
              "                    CancellationPolicy  ...  PropertyType_4\n",
              "CancellationPolicy            1.000000  ...       -0.030479\n",
              "Accommodates                  0.188786  ...       -0.079955\n",
              "RoomType                     -0.118653  ...        0.002558\n",
              "Bathrooms                     0.038530  ...       -0.039233\n",
              "Bedrooms                      0.114281  ...       -0.066681\n",
              "CleaningFee                   0.180883  ...       -0.085581\n",
              "ReviewRating                 -0.007146  ...       -0.002684\n",
              "Price                         0.149344  ...       -0.109164\n",
              "District_Brooklyn            -0.040552  ...       -0.096781\n",
              "District_Manhattan            0.025441  ...        0.137633\n",
              "District_Queens               0.004732  ...       -0.101756\n",
              "Neighborhood_0                0.000647  ...       -0.090201\n",
              "Neighborhood_1               -0.010843  ...       -0.043160\n",
              "Neighborhood_2               -0.000598  ...       -0.005740\n",
              "Neighborhood_3               -0.002772  ...       -0.015439\n",
              "Neighborhood_4               -0.007859  ...        0.065611\n",
              "Neighborhood_5               -0.056803  ...        0.028200\n",
              "PropertyType_0               -0.006081  ...       -0.073357\n",
              "PropertyType_1               -0.000542  ...       -0.329390\n",
              "PropertyType_2                0.045506  ...       -0.631758\n",
              "PropertyType_3                0.038965  ...       -0.666177\n",
              "PropertyType_4               -0.030479  ...        1.000000\n",
              "\n",
              "[22 rows x 22 columns]"
            ]
          },
          "metadata": {},
          "execution_count": 32
        }
      ]
    },
    {
      "cell_type": "code",
      "metadata": {
        "id": "AQDIuZFZ4NwW",
        "colab": {
          "base_uri": "https://localhost:8080/"
        },
        "outputId": "cde8bbe3-a186-439d-8846-068eaaf09ceb"
      },
      "source": [
        "threshold=0.5\n",
        "a = abs(cor['Price'])\n",
        "a"
      ],
      "execution_count": 33,
      "outputs": [
        {
          "output_type": "execute_result",
          "data": {
            "text/plain": [
              "CancellationPolicy    0.149344\n",
              "Accommodates          0.567050\n",
              "RoomType              0.506157\n",
              "Bathrooms             0.350947\n",
              "Bedrooms              0.419146\n",
              "CleaningFee           0.535188\n",
              "ReviewRating          0.075771\n",
              "Price                 1.000000\n",
              "District_Brooklyn     0.043207\n",
              "District_Manhattan    0.075916\n",
              "District_Queens       0.063415\n",
              "Neighborhood_0        0.013310\n",
              "Neighborhood_1        0.012191\n",
              "Neighborhood_2        0.012977\n",
              "Neighborhood_3        0.114426\n",
              "Neighborhood_4        0.159732\n",
              "Neighborhood_5        0.187150\n",
              "PropertyType_0        0.004706\n",
              "PropertyType_1        0.010525\n",
              "PropertyType_2        0.121361\n",
              "PropertyType_3        0.130043\n",
              "PropertyType_4        0.109164\n",
              "Name: Price, dtype: float64"
            ]
          },
          "metadata": {},
          "execution_count": 33
        }
      ]
    },
    {
      "cell_type": "code",
      "metadata": {
        "id": "O2wJ4U0z4WsA",
        "colab": {
          "base_uri": "https://localhost:8080/"
        },
        "outputId": "9d3ba4d1-1bf4-46d2-96a7-cdb82b955789"
      },
      "source": [
        "result = a[a>0.5]\n",
        "result"
      ],
      "execution_count": 34,
      "outputs": [
        {
          "output_type": "execute_result",
          "data": {
            "text/plain": [
              "Accommodates    0.567050\n",
              "RoomType        0.506157\n",
              "CleaningFee     0.535188\n",
              "Price           1.000000\n",
              "Name: Price, dtype: float64"
            ]
          },
          "metadata": {},
          "execution_count": 34
        }
      ]
    },
    {
      "cell_type": "code",
      "metadata": {
        "colab": {
          "base_uri": "https://localhost:8080/"
        },
        "id": "A8l8Udb50WWQ",
        "outputId": "e06a7bf4-b9a3-47ba-ede1-eb5c15333473"
      },
      "source": [
        "df.columns"
      ],
      "execution_count": 35,
      "outputs": [
        {
          "output_type": "execute_result",
          "data": {
            "text/plain": [
              "Index(['CancellationPolicy', 'Accommodates', 'RoomType', 'Bathrooms',\n",
              "       'Bedrooms', 'CleaningFee', 'ReviewRating', 'Price', 'District_Brooklyn',\n",
              "       'District_Manhattan', 'District_Queens', 'Neighborhood_0',\n",
              "       'Neighborhood_1', 'Neighborhood_2', 'Neighborhood_3', 'Neighborhood_4',\n",
              "       'Neighborhood_5', 'PropertyType_0', 'PropertyType_1', 'PropertyType_2',\n",
              "       'PropertyType_3', 'PropertyType_4'],\n",
              "      dtype='object')"
            ]
          },
          "metadata": {},
          "execution_count": 35
        }
      ]
    },
    {
      "cell_type": "code",
      "metadata": {
        "id": "hZdnN4xh0iqG"
      },
      "source": [
        "df4=df.drop(['CancellationPolicy', 'Bathrooms',\n",
        "       'Bedrooms', 'ReviewRating', 'District_Brooklyn',\n",
        "       'District_Manhattan', 'District_Queens', 'Neighborhood_0',\n",
        "       'Neighborhood_1', 'Neighborhood_2', 'Neighborhood_3', 'Neighborhood_4',\n",
        "       'Neighborhood_5', 'PropertyType_0', 'PropertyType_1',\n",
        "       'PropertyType_2', 'PropertyType_3', 'PropertyType_4'], axis=1)\n",
        "      "
      ],
      "execution_count": 37,
      "outputs": []
    },
    {
      "cell_type": "code",
      "metadata": {
        "id": "BwVR-lgH4nGs",
        "colab": {
          "base_uri": "https://localhost:8080/"
        },
        "outputId": "a112ef42-2a8c-47d8-cf89-8e00cec1e041"
      },
      "source": [
        "df4.info()"
      ],
      "execution_count": 38,
      "outputs": [
        {
          "output_type": "stream",
          "name": "stdout",
          "text": [
            "<class 'pandas.core.frame.DataFrame'>\n",
            "RangeIndex: 4201 entries, 0 to 4200\n",
            "Data columns (total 4 columns):\n",
            " #   Column        Non-Null Count  Dtype  \n",
            "---  ------        --------------  -----  \n",
            " 0   Accommodates  4201 non-null   int64  \n",
            " 1   RoomType      4201 non-null   int64  \n",
            " 2   CleaningFee   4201 non-null   float64\n",
            " 3   Price         4201 non-null   float64\n",
            "dtypes: float64(2), int64(2)\n",
            "memory usage: 131.4 KB\n"
          ]
        }
      ]
    },
    {
      "cell_type": "code",
      "metadata": {
        "id": "9FGzG3UI4u0J",
        "colab": {
          "base_uri": "https://localhost:8080/",
          "height": 206
        },
        "outputId": "5482df24-59d8-4215-9a2c-94600b74ef16"
      },
      "source": [
        "X5 = df4.drop(['Price'], axis = 1)\n",
        "Y5 = df4['Price']\n",
        "X5.head()"
      ],
      "execution_count": 39,
      "outputs": [
        {
          "output_type": "execute_result",
          "data": {
            "text/html": [
              "<div>\n",
              "<style scoped>\n",
              "    .dataframe tbody tr th:only-of-type {\n",
              "        vertical-align: middle;\n",
              "    }\n",
              "\n",
              "    .dataframe tbody tr th {\n",
              "        vertical-align: top;\n",
              "    }\n",
              "\n",
              "    .dataframe thead th {\n",
              "        text-align: right;\n",
              "    }\n",
              "</style>\n",
              "<table border=\"1\" class=\"dataframe\">\n",
              "  <thead>\n",
              "    <tr style=\"text-align: right;\">\n",
              "      <th></th>\n",
              "      <th>Accommodates</th>\n",
              "      <th>RoomType</th>\n",
              "      <th>CleaningFee</th>\n",
              "    </tr>\n",
              "  </thead>\n",
              "  <tbody>\n",
              "    <tr>\n",
              "      <th>0</th>\n",
              "      <td>2</td>\n",
              "      <td>0</td>\n",
              "      <td>75.000000</td>\n",
              "    </tr>\n",
              "    <tr>\n",
              "      <th>1</th>\n",
              "      <td>2</td>\n",
              "      <td>0</td>\n",
              "      <td>66.646525</td>\n",
              "    </tr>\n",
              "    <tr>\n",
              "      <th>2</th>\n",
              "      <td>4</td>\n",
              "      <td>0</td>\n",
              "      <td>69.000000</td>\n",
              "    </tr>\n",
              "    <tr>\n",
              "      <th>3</th>\n",
              "      <td>2</td>\n",
              "      <td>0</td>\n",
              "      <td>60.000000</td>\n",
              "    </tr>\n",
              "    <tr>\n",
              "      <th>4</th>\n",
              "      <td>9</td>\n",
              "      <td>0</td>\n",
              "      <td>160.000000</td>\n",
              "    </tr>\n",
              "  </tbody>\n",
              "</table>\n",
              "</div>"
            ],
            "text/plain": [
              "   Accommodates  RoomType  CleaningFee\n",
              "0             2         0    75.000000\n",
              "1             2         0    66.646525\n",
              "2             4         0    69.000000\n",
              "3             2         0    60.000000\n",
              "4             9         0   160.000000"
            ]
          },
          "metadata": {},
          "execution_count": 39
        }
      ]
    },
    {
      "cell_type": "code",
      "metadata": {
        "id": "CnB8EILz49mx",
        "colab": {
          "base_uri": "https://localhost:8080/"
        },
        "outputId": "6acceaf2-c932-4944-8f6b-a9552cf60064"
      },
      "source": [
        "Y5.head()"
      ],
      "execution_count": 40,
      "outputs": [
        {
          "output_type": "execute_result",
          "data": {
            "text/plain": [
              "0    160.0\n",
              "1    130.0\n",
              "2    129.0\n",
              "3    145.0\n",
              "4    399.0\n",
              "Name: Price, dtype: float64"
            ]
          },
          "metadata": {},
          "execution_count": 40
        }
      ]
    },
    {
      "cell_type": "code",
      "metadata": {
        "id": "HHzkw2bs5Bj5"
      },
      "source": [
        "from sklearn.model_selection import train_test_split\n",
        "X5_train, X5_test, Y5_train, Y5_test = train_test_split(X5, Y5, test_size = 0.2, random_state = 66)"
      ],
      "execution_count": 41,
      "outputs": []
    },
    {
      "cell_type": "code",
      "metadata": {
        "id": "Zrf_sPqb5O6w",
        "colab": {
          "base_uri": "https://localhost:8080/"
        },
        "outputId": "248ee28d-d499-4f48-9952-3403feb9bcea"
      },
      "source": [
        "print(X5_train.shape)\n",
        "print(Y5_train.shape)\n",
        "print(X5_test.shape)\n",
        "print(Y5_test.shape)"
      ],
      "execution_count": 42,
      "outputs": [
        {
          "output_type": "stream",
          "name": "stdout",
          "text": [
            "(3360, 3)\n",
            "(3360,)\n",
            "(841, 3)\n",
            "(841,)\n"
          ]
        }
      ]
    },
    {
      "cell_type": "code",
      "metadata": {
        "id": "FaDl0IUI0KfB"
      },
      "source": [
        "# Fitting Multiple Linear Regression to the Training set\n",
        "from sklearn.linear_model import LinearRegression\n",
        "regressor = LinearRegression()\n",
        "model=regressor.fit(X5_train, Y5_train)"
      ],
      "execution_count": 43,
      "outputs": []
    },
    {
      "cell_type": "code",
      "metadata": {
        "id": "f1_PupNQ0iT5"
      },
      "source": [
        "# Predicting the Test set results\n",
        "Y5_pred = regressor.predict(X5_test)"
      ],
      "execution_count": 44,
      "outputs": []
    },
    {
      "cell_type": "code",
      "metadata": {
        "colab": {
          "base_uri": "https://localhost:8080/"
        },
        "id": "s3NukiNK0wa3",
        "outputId": "8880168c-546d-480a-ae41-50877d7b2e87"
      },
      "source": [
        "print(\"Training Accuracy :\", regressor.score(X5_train,Y5_train))\n",
        "print(\"Testing Accuracy :\", r2_score(Y5_test,Y5_pred))"
      ],
      "execution_count": 45,
      "outputs": [
        {
          "output_type": "stream",
          "name": "stdout",
          "text": [
            "Training Accuracy : 0.47924452882518254\n",
            "Testing Accuracy : 0.45234815089962377\n"
          ]
        }
      ]
    },
    {
      "cell_type": "markdown",
      "metadata": {
        "id": "GsXiAeFJ6AFg"
      },
      "source": [
        "**Observation: By dropping the columns based on feature selection the Test accuracy has not improved**\n",
        "\n",
        "###**Decision: We will not go for feature selection.**\n"
      ]
    },
    {
      "cell_type": "markdown",
      "metadata": {
        "id": "D8ZLSxFz7Sxz"
      },
      "source": [
        "###**Applying PCA**"
      ]
    },
    {
      "cell_type": "code",
      "metadata": {
        "id": "e78S41kk7VxH",
        "colab": {
          "base_uri": "https://localhost:8080/"
        },
        "outputId": "bb81076d-366b-4d00-8363-bea7f19b1383"
      },
      "source": [
        "from sklearn.decomposition import PCA\n",
        "\n",
        "pca = PCA(n_components=2)\n",
        "X6_train = pca.fit_transform(X_train)\n",
        "X6_test = pca.transform(X_test)\n",
        "X6=pca.transform(X)\n",
        "print(X6_train.shape)\n",
        "print(X6_test.shape)\n",
        "print(X6_train[:5])\n",
        "print(Y[:5])"
      ],
      "execution_count": 46,
      "outputs": [
        {
          "output_type": "stream",
          "name": "stdout",
          "text": [
            "(3360, 2)\n",
            "(841, 2)\n",
            "[[  0.09659305  -6.31729348]\n",
            " [-36.5160015   -4.36185829]\n",
            " [-41.551138    -2.38235461]\n",
            " [  0.08711663  -4.32304239]\n",
            " [-46.55610208   3.61441   ]]\n",
            "0    160.0\n",
            "1    130.0\n",
            "2    129.0\n",
            "3    145.0\n",
            "4    399.0\n",
            "Name: Price, dtype: float64\n"
          ]
        }
      ]
    },
    {
      "cell_type": "code",
      "metadata": {
        "id": "q89oSPcZ6cyi"
      },
      "source": [
        "# Fitting Multiple Linear Regression to the Training set\n",
        "from sklearn.linear_model import LinearRegression\n",
        "regressor = LinearRegression()\n",
        "model=regressor.fit(X6_train, y_train)"
      ],
      "execution_count": 47,
      "outputs": []
    },
    {
      "cell_type": "code",
      "metadata": {
        "id": "N9Y61nbB3_Og"
      },
      "source": [
        "# Predicting the Test set results\n",
        "Y6_pred = regressor.predict(X6_test)"
      ],
      "execution_count": 48,
      "outputs": []
    },
    {
      "cell_type": "code",
      "metadata": {
        "colab": {
          "base_uri": "https://localhost:8080/"
        },
        "id": "doQpEkb04KRk",
        "outputId": "0a3bdaaa-2b45-434a-9d84-c98a3a5aa396"
      },
      "source": [
        "print(\"Training Accuracy :\", regressor.score(X6_train,y_train))\n",
        "print(\"Testing Accuracy :\", r2_score(y_test,Y6_pred))"
      ],
      "execution_count": 49,
      "outputs": [
        {
          "output_type": "stream",
          "name": "stdout",
          "text": [
            "Training Accuracy : 0.2890698859110624\n",
            "Testing Accuracy : 0.2948886181474617\n"
          ]
        }
      ]
    },
    {
      "cell_type": "markdown",
      "metadata": {
        "id": "J9kuqWhzRmKR"
      },
      "source": [
        "**Observation: By using the PCA Method, we did not get higher test accuracy**\n",
        "\n",
        "###**Decision: We will not use the PCA Method for reducing the features**"
      ]
    },
    {
      "cell_type": "markdown",
      "metadata": {
        "id": "QeWuow6z9Qvl"
      },
      "source": [
        "###**Using LDA**"
      ]
    },
    {
      "cell_type": "code",
      "metadata": {
        "id": "nt6NIzVE9U8e",
        "colab": {
          "base_uri": "https://localhost:8080/"
        },
        "outputId": "49bc55d5-9256-4ef7-c8fc-c057b0b6c33f"
      },
      "source": [
        "from sklearn.discriminant_analysis import LinearDiscriminantAnalysis as LDA\n",
        "\n",
        "lda = LDA(n_components=1)\n",
        "X7_train = lda.fit_transform(X_train, y_train)\n",
        "X7_test = lda.transform(X_test)\n",
        "X7=lda.transform(X)\n",
        "print(X7_train[:5])\n",
        "print()\n",
        "print(X7_test[:5])"
      ],
      "execution_count": 50,
      "outputs": [
        {
          "output_type": "stream",
          "name": "stdout",
          "text": [
            "[[1.46544092]\n",
            " [0.01471832]\n",
            " [1.46918822]\n",
            " [0.94497944]\n",
            " [1.58070422]]\n",
            "\n",
            "[[ 1.52556842]\n",
            " [ 0.07278114]\n",
            " [-0.863027  ]\n",
            " [ 2.43869592]\n",
            " [-0.29654171]]\n"
          ]
        }
      ]
    },
    {
      "cell_type": "code",
      "metadata": {
        "id": "2542ORFE6zOy"
      },
      "source": [
        "# Fitting Multiple Linear Regression to the Training set\n",
        "from sklearn.linear_model import LinearRegression\n",
        "regressor = LinearRegression()\n",
        "model=regressor.fit(X7_train, y_train)"
      ],
      "execution_count": 51,
      "outputs": []
    },
    {
      "cell_type": "code",
      "metadata": {
        "id": "XLJqcyMD6zw5"
      },
      "source": [
        "# Predicting the Test set results\n",
        "Y7_pred = regressor.predict(X7_test)"
      ],
      "execution_count": 52,
      "outputs": []
    },
    {
      "cell_type": "code",
      "metadata": {
        "id": "YRGS_a4W60dn",
        "colab": {
          "base_uri": "https://localhost:8080/"
        },
        "outputId": "dab7f705-b989-4dc4-9013-d50a173c58d0"
      },
      "source": [
        "print(\"Training Accuracy :\", regressor.score(X7_train,y_train))\n",
        "print(\"Testing Accuracy :\", r2_score(y_test,Y7_pred))"
      ],
      "execution_count": 53,
      "outputs": [
        {
          "output_type": "stream",
          "name": "stdout",
          "text": [
            "Training Accuracy : 0.5527096237964237\n",
            "Testing Accuracy : 0.5252922808311118\n"
          ]
        }
      ]
    },
    {
      "cell_type": "markdown",
      "metadata": {
        "id": "6khaXD-r-fcH"
      },
      "source": [
        "**Observation: By using the LDA Method the testing accuracy is not improved**\n",
        "\n",
        "###**Decision: We will not use the LDA Method for reducing the features**"
      ]
    }
  ]
}